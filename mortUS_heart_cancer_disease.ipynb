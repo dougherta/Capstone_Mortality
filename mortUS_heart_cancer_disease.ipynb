{
 "cells": [
  {
   "cell_type": "markdown",
   "metadata": {},
   "source": [
    "## SQL DB Test"
   ]
  },
  {
   "cell_type": "code",
   "execution_count": 1,
   "metadata": {
    "scrolled": true
   },
   "outputs": [
    {
     "name": "stdout",
     "output_type": "stream",
     "text": [
      "CPU times: user 3 µs, sys: 1e+03 ns, total: 4 µs\n",
      "Wall time: 15 µs\n"
     ]
    }
   ],
   "source": [
    "%%time\n",
    "#!pip install ipython-sql\n",
    "#!conda install mysqlclient --yes\n",
    "#!pip install mysqlclient\n",
    "#!pip install PyMySQL\n",
    "#!pip install mysql-connector-python\n"
   ]
  },
  {
   "cell_type": "code",
   "execution_count": 2,
   "metadata": {},
   "outputs": [],
   "source": [
    "import os\n",
    "import pymysql\n",
    "import mysql.connector\n",
    "import pandas as pd\n",
    "import numpy as np\n",
    "%matplotlib inline\n",
    "import matplotlib.pyplot as plt"
   ]
  },
  {
   "cell_type": "code",
   "execution_count": 13,
   "metadata": {},
   "outputs": [
    {
     "name": "stdout",
     "output_type": "stream",
     "text": [
      "Connection ID:  3858\n"
     ]
    }
   ],
   "source": [
    "#connect to AWS SQL Database\n",
    "\n",
    "# import pymysql\n",
    "import mysql.connector\n",
    "conn = mysql.connector.connect(option_files='aws_mort_conn.conf')\n",
    "print(\"Connection ID: \",conn.connection_id)\n",
    "\n",
    "#conn.close()"
   ]
  },
  {
   "cell_type": "code",
   "execution_count": null,
   "metadata": {},
   "outputs": [],
   "source": [
    "#conn.close()"
   ]
  },
  {
   "cell_type": "code",
   "execution_count": 4,
   "metadata": {},
   "outputs": [
    {
     "name": "stdout",
     "output_type": "stream",
     "text": [
      "CPU times: user 43.6 s, sys: 7.59 s, total: 51.2 s\n",
      "Wall time: 2min 14s\n"
     ]
    }
   ],
   "source": [
    "%%time \n",
    "\n",
    "#### 2012 ####\n",
    "\n",
    "#upload person info \n",
    "person_info_2012 = pd.read_sql_query(\"SELECT person_id, year_id, resident_status, edu_2003_rev, sex, age_recode_27, marital_status, bridged_race_1, bridged_race_recode_5, hispanicorigin, hispanicorigin_bridgeracerecode, day_of_week_of_death, month_of_death, data_year FROM mortality_2012\", conn)\n",
    "\n",
    "#death information \n",
    "death_info_2012 = pd.read_sql_query(\"SELECT person_id, place_of_death_and_status,injury_at_work, manner_of_death, autopsy, activity_code, place_of_injury FROM mortality_2012\", conn)\n",
    "\n",
    "#recode multiple conditions\n",
    "rec_mult_con_2012 = pd.read_sql_query(\"SELECT person_id, number_of_recordaxis_conditions, recordaxis_conditions, recAx_condition_1st, recAx_condition_2nd, recAx_condition_3rd, recAx_condition_4th, recAx_condition_5th, recAx_condition_6th, recAx_condition_7th, recAx_condition_8th, recAx_condition_9th, recAx_condition_10th, recAx_condition_11th, recAx_condition_12th, recAx_condition_13th, recAx_condition_14th, recAx_condition_15th, recAx_condition_16th, recAx_condition_17th, recAx_condition_18th, recAx_condition_19th, recAx_condition_20th FROM mortality_2012\", conn)\n",
    "\n",
    "#upload heart disease underlying cause of death\n",
    "hd_cause_death_2012 = pd.read_sql_query(\"SELECT person_id, cause_recode_358 FROM mortality_2012 WHERE (cause_recode_358 >= 197 AND cause_recode_358 <= 246)\", conn)\n",
    "\n",
    "#upload cancer underlying cause of death \n",
    "can_cause_death_2012 = pd.read_sql_query(\"SELECT person_id, cause_recode_358 FROM mortality_2012 WHERE (cause_recode_358 >= 069 AND cause_recode_358 <= 146)\", conn)\n",
    "\n",
    "person_info_2012[\"race_recode_capstone\"]=person_info_2012.hispanicorigin_bridgeracerecode.replace(to_replace={\"1\":\"1\",\n",
    "                                                                                                           \"2\":\"1\",\n",
    "                                                                                                           \"3\":\"1\",\n",
    "                                                                                                           \"4\":\"1\",\n",
    "                                                                                                           \"5\":\"1\",\n",
    "                                                                                                           \"9\":\"1\",\n",
    "                                                                                                           \"6\":\"2\",\n",
    "                                                                                                           \"7\":\"3\",\n",
    "                                                                                                           \"8\":\"4\"\n",
    "                                                                                                          })\n"
   ]
  },
  {
   "cell_type": "code",
   "execution_count": 5,
   "metadata": {},
   "outputs": [
    {
     "name": "stdout",
     "output_type": "stream",
     "text": [
      "CPU times: user 41.5 s, sys: 6.12 s, total: 47.7 s\n",
      "Wall time: 2min 16s\n"
     ]
    }
   ],
   "source": [
    "%%time \n",
    "\n",
    "#### 2013 ####\n",
    "\n",
    "#upload person info \n",
    "person_info_2013 = pd.read_sql_query(\"SELECT person_id, year_id, resident_status, edu_2003_rev, sex, age_recode_27, marital_status, bridged_race_1, bridged_race_recode_5, hispanicorigin, hispanicorigin_bridgeracerecode, day_of_week_of_death, month_of_death, data_year FROM mortality_2013\", conn)\n",
    "\n",
    "#death information \n",
    "death_info_2013 = pd.read_sql_query(\"SELECT person_id, place_of_death_and_status, injury_at_work, manner_of_death, autopsy, activity_code, place_of_injury FROM mortality_2013\", conn)\n",
    "\n",
    "#recode multiple conditions\n",
    "rec_mult_con_2013 = pd.read_sql_query(\"SELECT person_id, number_of_recordaxis_conditions, recordaxis_conditions, recAx_condition_1st, recAx_condition_2nd, recAx_condition_3rd, recAx_condition_4th, recAx_condition_5th, recAx_condition_6th, recAx_condition_7th, recAx_condition_8th, recAx_condition_9th, recAx_condition_10th, recAx_condition_11th, recAx_condition_12th, recAx_condition_13th, recAx_condition_14th, recAx_condition_15th, recAx_condition_16th, recAx_condition_17th, recAx_condition_18th, recAx_condition_19th, recAx_condition_20th FROM mortality_2013\", conn)\n",
    "\n",
    "#upload heart disease underlying cause of death\n",
    "hd_cause_death_2013 = pd.read_sql_query(\"SELECT person_id, cause_recode_358 FROM mortality_2013 WHERE (cause_recode_358 >= 197 AND cause_recode_358 <= 246)\", conn)\n",
    "\n",
    "#upload cancer underlying cause of death \n",
    "can_cause_death_2013 = pd.read_sql_query(\"SELECT person_id, cause_recode_358 FROM mortality_2013 WHERE (cause_recode_358 >= 069 AND cause_recode_358 <= 146)\", conn)\n",
    "\n",
    "person_info_2013[\"race_recode_capstone\"]=person_info_2013.hispanicorigin_bridgeracerecode.replace(to_replace={\"1\":\"1\",\n",
    "                                                                                                           \"2\":\"1\",\n",
    "                                                                                                           \"3\":\"1\",\n",
    "                                                                                                           \"4\":\"1\",\n",
    "                                                                                                           \"5\":\"1\",\n",
    "                                                                                                           \"9\":\"1\",\n",
    "                                                                                                           \"6\":\"2\",\n",
    "                                                                                                           \"7\":\"3\",\n",
    "                                                                                                           \"8\":\"4\"\n",
    "                                                                                                          })\n"
   ]
  },
  {
   "cell_type": "code",
   "execution_count": 6,
   "metadata": {},
   "outputs": [
    {
     "name": "stdout",
     "output_type": "stream",
     "text": [
      "CPU times: user 39.7 s, sys: 6.27 s, total: 46 s\n",
      "Wall time: 2min 49s\n"
     ]
    }
   ],
   "source": [
    "%%time \n",
    "\n",
    "#### 2014 ####\n",
    "\n",
    "#upload person info \n",
    "person_info_2014 = pd.read_sql_query(\"SELECT person_id, year_id, resident_status, edu_2003_rev, sex, age_recode_27, marital_status, bridged_race_1, bridged_race_recode_5, hispanicorigin, hispanicorigin_bridgeracerecode, day_of_week_of_death, month_of_death, data_year FROM mortality_2014\", conn)\n",
    "\n",
    "#death information \n",
    "death_info_2014 = pd.read_sql_query(\"SELECT person_id, place_of_death_and_status, injury_at_work, manner_of_death, autopsy, activity_code, place_of_injury FROM mortality_2014\", conn)\n",
    "\n",
    "#recode multiple conditions\n",
    "rec_mult_con_2014 = pd.read_sql_query(\"SELECT person_id, number_of_recordaxis_conditions, recordaxis_conditions, recAx_condition_1st, recAx_condition_2nd, recAx_condition_3rd, recAx_condition_4th, recAx_condition_5th, recAx_condition_6th, recAx_condition_7th, recAx_condition_8th, recAx_condition_9th, recAx_condition_10th, recAx_condition_11th, recAx_condition_12th, recAx_condition_13th, recAx_condition_14th, recAx_condition_15th, recAx_condition_16th, recAx_condition_17th, recAx_condition_18th, recAx_condition_19th, recAx_condition_20th FROM mortality_2014\", conn)\n",
    "\n",
    "#upload heart disease underlying cause of death\n",
    "hd_cause_death_2014 = pd.read_sql_query(\"SELECT person_id, cause_recode_358 FROM mortality_2014 WHERE (cause_recode_358 >= 197 AND cause_recode_358 <= 246)\", conn)\n",
    "\n",
    "#upload cancer underlying cause of death \n",
    "can_cause_death_2014 = pd.read_sql_query(\"SELECT person_id, cause_recode_358 FROM mortality_2014 WHERE (cause_recode_358 >= 069 AND cause_recode_358 <= 146)\", conn)\n",
    "\n",
    "person_info_2014[\"race_recode_capstone\"]=person_info_2014.hispanicorigin_bridgeracerecode.replace(to_replace={\"1\":\"1\",\n",
    "                                                                                                           \"2\":\"1\",\n",
    "                                                                                                           \"3\":\"1\",\n",
    "                                                                                                           \"4\":\"1\",\n",
    "                                                                                                           \"5\":\"1\",\n",
    "                                                                                                           \"9\":\"1\",\n",
    "                                                                                                           \"6\":\"2\",\n",
    "                                                                                                           \"7\":\"3\",\n",
    "                                                                                                           \"8\":\"4\"\n",
    "                                                                                                          })\n",
    "\n",
    "\n"
   ]
  },
  {
   "cell_type": "code",
   "execution_count": 14,
   "metadata": {},
   "outputs": [
    {
     "name": "stdout",
     "output_type": "stream",
     "text": [
      "CPU times: user 40.7 s, sys: 8.03 s, total: 48.7 s\n",
      "Wall time: 2min 41s\n"
     ]
    }
   ],
   "source": [
    "%%time \n",
    "\n",
    "#### 2015 ####\n",
    "\n",
    "#upload person info \n",
    "person_info_2015 = pd.read_sql_query(\"SELECT person_id, year_id, resident_status, edu_2003_rev, sex, age_recode_27, marital_status, bridged_race_1, bridged_race_recode_5, hispanicorigin, hispanicorigin_bridgeracerecode, day_of_week_of_death, month_of_death, data_year FROM mortality_2015\", conn)\n",
    "\n",
    "#death information \n",
    "death_info_2015 = pd.read_sql_query(\"SELECT person_id, place_of_death_and_status, injury_at_work, manner_of_death, autopsy, activity_code, place_of_injury FROM mortality_2015\", conn)\n",
    "\n",
    "#recode multiple conditions\n",
    "rec_mult_con_2015 = pd.read_sql_query(\"SELECT person_id, number_of_recordaxis_conditions, recordaxis_conditions, recAx_condition_1st, recAx_condition_2nd, recAx_condition_3rd, recAx_condition_4th, recAx_condition_5th, recAx_condition_6th, recAx_condition_7th, recAx_condition_8th, recAx_condition_9th, recAx_condition_10th, recAx_condition_11th, recAx_condition_12th, recAx_condition_13th, recAx_condition_14th, recAx_condition_15th, recAx_condition_16th, recAx_condition_17th, recAx_condition_18th, recAx_condition_19th, recAx_condition_20th FROM mortality_2015\", conn)\n",
    "\n",
    "#upload heart disease underlying cause of death\n",
    "hd_cause_death_2015 = pd.read_sql_query(\"SELECT person_id, cause_recode_358 FROM mortality_2015 WHERE (cause_recode_358 >= 197 AND cause_recode_358 <= 246)\", conn)\n",
    "\n",
    "#upload cancer underlying cause of death \n",
    "can_cause_death_2015 = pd.read_sql_query(\"SELECT person_id, cause_recode_358 FROM mortality_2015 WHERE (cause_recode_358 >= 069 AND cause_recode_358 <= 146)\", conn)\n",
    "\n",
    "person_info_2015[\"race_recode_capstone\"]=person_info_2015.hispanicorigin_bridgeracerecode.replace(to_replace={\"1\":\"1\",\n",
    "                                                                                                           \"2\":\"1\",\n",
    "                                                                                                           \"3\":\"1\",\n",
    "                                                                                                           \"4\":\"1\",\n",
    "                                                                                                           \"5\":\"1\",\n",
    "                                                                                                           \"9\":\"1\",\n",
    "                                                                                                           \"6\":\"2\",\n",
    "                                                                                                           \"7\":\"3\",\n",
    "                                                                                                           \"8\":\"4\"\n",
    "                                                                                                          })\n"
   ]
  },
  {
   "cell_type": "code",
   "execution_count": 15,
   "metadata": {},
   "outputs": [
    {
     "name": "stdout",
     "output_type": "stream",
     "text": [
      "CPU times: user 43.9 s, sys: 7.01 s, total: 50.9 s\n",
      "Wall time: 3min 3s\n"
     ]
    }
   ],
   "source": [
    "%%time \n",
    "\n",
    "#### 2016 ####\n",
    "\n",
    "#upload person info \n",
    "person_info_2016 = pd.read_sql_query(\"SELECT person_id, year_id, resident_status, edu_2003_rev, sex, age_recode_27, marital_status, bridged_race_1, bridged_race_recode_5, hispanicorigin, hispanicorigin_bridgeracerecode, day_of_week_of_death, month_of_death, data_year FROM mortality_2016\", conn)\n",
    "\n",
    "#death information \n",
    "death_info_2016 = pd.read_sql_query(\"SELECT person_id, place_of_death_and_status, injury_at_work, manner_of_death, autopsy, activity_code, place_of_injury FROM mortality_2016\", conn)\n",
    "\n",
    "#recode multiple conditions\n",
    "rec_mult_con_2016 = pd.read_sql_query(\"SELECT person_id, number_of_recordaxis_conditions, recordaxis_conditions, recAx_condition_1st, recAx_condition_2nd, recAx_condition_3rd, recAx_condition_4th, recAx_condition_5th, recAx_condition_6th, recAx_condition_7th, recAx_condition_8th, recAx_condition_9th, recAx_condition_10th, recAx_condition_11th, recAx_condition_12th, recAx_condition_13th, recAx_condition_14th, recAx_condition_15th, recAx_condition_16th, recAx_condition_17th, recAx_condition_18th, recAx_condition_19th, recAx_condition_20th FROM mortality_2016\", conn)\n",
    "\n",
    "#upload heart disease underlying cause of death\n",
    "hd_cause_death_2016 = pd.read_sql_query(\"SELECT person_id, cause_recode_358 FROM mortality_2016 WHERE (cause_recode_358 >= 197 AND cause_recode_358 <= 246)\", conn)\n",
    "\n",
    "#upload cancer underlying cause of death \n",
    "can_cause_death_2016 = pd.read_sql_query(\"SELECT person_id, cause_recode_358 FROM mortality_2016 WHERE (cause_recode_358 >= 069 AND cause_recode_358 <= 146)\", conn)\n",
    "\n",
    "person_info_2016[\"race_recode_capstone\"]=person_info_2016.hispanicorigin_bridgeracerecode.replace(to_replace={\"1\":\"1\",\n",
    "                                                                                                           \"2\":\"1\",\n",
    "                                                                                                           \"3\":\"1\",\n",
    "                                                                                                           \"4\":\"1\",\n",
    "                                                                                                           \"5\":\"1\",\n",
    "                                                                                                           \"9\":\"1\",\n",
    "                                                                                                           \"6\":\"2\",\n",
    "                                                                                                           \"7\":\"3\",\n",
    "                                                                                                           \"8\":\"4\"\n",
    "                                                                                                          })\n"
   ]
  },
  {
   "cell_type": "code",
   "execution_count": 16,
   "metadata": {},
   "outputs": [
    {
     "name": "stdout",
     "output_type": "stream",
     "text": [
      "CPU times: user 41.2 s, sys: 5.3 s, total: 46.6 s\n",
      "Wall time: 1min 55s\n"
     ]
    }
   ],
   "source": [
    "%%time \n",
    "\n",
    "#### 2017 ####\n",
    "\n",
    "#upload person info \n",
    "person_info_2017 = pd.read_sql_query(\"SELECT person_id, year_id, resident_status, edu_2003_rev, sex, age_recode_27, marital_status, bridged_race_1, bridged_race_recode_5, hispanicorigin, hispanicorigin_bridgeracerecode, day_of_week_of_death, month_of_death, data_year FROM mortality_2017\", conn)\n",
    "\n",
    "#death information \n",
    "death_info_2017 = pd.read_sql_query(\"SELECT person_id, place_of_death_and_status, injury_at_work, manner_of_death, autopsy, activity_code, place_of_injury FROM mortality_2017\", conn)\n",
    "\n",
    "#recode multiple conditions\n",
    "rec_mult_con_2017 = pd.read_sql_query(\"SELECT person_id, number_of_recordaxis_conditions, recordaxis_conditions, recAx_condition_1st, recAx_condition_2nd, recAx_condition_3rd, recAx_condition_4th, recAx_condition_5th, recAx_condition_6th, recAx_condition_7th, recAx_condition_8th, recAx_condition_9th, recAx_condition_10th, recAx_condition_11th, recAx_condition_12th, recAx_condition_13th, recAx_condition_14th, recAx_condition_15th, recAx_condition_16th, recAx_condition_17th, recAx_condition_18th, recAx_condition_19th, recAx_condition_20th FROM mortality_2017\", conn)\n",
    "\n",
    "#upload heart disease underlying cause of death\n",
    "hd_cause_death_2017 = pd.read_sql_query(\"SELECT person_id, cause_recode_358 FROM mortality_2017 WHERE (cause_recode_358 >= 197 AND cause_recode_358 <= 246)\", conn)\n",
    "\n",
    "#upload cancer underlying cause of death \n",
    "can_cause_death_2017 = pd.read_sql_query(\"SELECT person_id, cause_recode_358 FROM mortality_2017 WHERE (cause_recode_358 >= 069 AND cause_recode_358 <= 146)\", conn)\n",
    "\n",
    "person_info_2017[\"race_recode_capstone\"]=person_info_2017.hispanicorigin_bridgeracerecode.replace(to_replace={\"1\":\"1\",\n",
    "                                                                                                           \"2\":\"1\",\n",
    "                                                                                                           \"3\":\"1\",\n",
    "                                                                                                           \"4\":\"1\",\n",
    "                                                                                                           \"5\":\"1\",\n",
    "                                                                                                           \"9\":\"1\",\n",
    "                                                                                                           \"6\":\"2\",\n",
    "                                                                                                           \"7\":\"3\",\n",
    "                                                                                                           \"8\":\"4\"\n",
    "                                                                                                          })\n"
   ]
  },
  {
   "cell_type": "code",
   "execution_count": 17,
   "metadata": {
    "scrolled": true
   },
   "outputs": [
    {
     "name": "stdout",
     "output_type": "stream",
     "text": [
      "CPU times: user 44.3 s, sys: 6.8 s, total: 51.1 s\n",
      "Wall time: 2min 23s\n"
     ]
    }
   ],
   "source": [
    "%%time \n",
    "\n",
    "#### 2018 ####\n",
    "\n",
    "#upload person info \n",
    "person_info_2018 = pd.read_sql_query(\"SELECT person_id, year_id, resident_status, edu_2003_rev, sex, age_recode_27, marital_status, bridged_race_1, bridged_race_recode_5, hispanicorigin, hispanicorigin_bridgeracerecode, day_of_week_of_death, month_of_death, data_year FROM mortality_2018\", conn)\n",
    "\n",
    "#death information \n",
    "death_info_2018 = pd.read_sql_query(\"SELECT person_id, place_of_death_and_status, injury_at_work, manner_of_death, autopsy, activity_code, place_of_injury FROM mortality_2018\", conn)\n",
    "\n",
    "#recode multiple conditions\n",
    "rec_mult_con_2018 = pd.read_sql_query(\"SELECT person_id, number_of_recordaxis_conditions, recordaxis_conditions, recAx_condition_1st, recAx_condition_2nd, recAx_condition_3rd, recAx_condition_4th, recAx_condition_5th, recAx_condition_6th, recAx_condition_7th, recAx_condition_8th, recAx_condition_9th, recAx_condition_10th, recAx_condition_11th, recAx_condition_12th, recAx_condition_13th, recAx_condition_14th, recAx_condition_15th, recAx_condition_16th, recAx_condition_17th, recAx_condition_18th, recAx_condition_19th, recAx_condition_20th FROM mortality_2018\", conn)\n",
    "\n",
    "#upload heart disease underlying cause of death\n",
    "hd_cause_death_2018 = pd.read_sql_query(\"SELECT person_id, cause_recode_358 FROM mortality_2018 WHERE (cause_recode_358 >= 197 AND cause_recode_358 <= 246)\", conn)\n",
    "\n",
    "#upload cancer underlying cause of death \n",
    "can_cause_death_2018 = pd.read_sql_query(\"SELECT person_id, cause_recode_358 FROM mortality_2018 WHERE (cause_recode_358 >= 069 AND cause_recode_358 <= 146)\", conn)\n",
    "\n",
    "\n",
    "#recode race\n",
    "person_info_2018[\"race_recode_capstone\"]=person_info_2018.hispanicorigin_bridgeracerecode.replace(to_replace={\"1\":\"1\",\n",
    "                                                                                                           \"2\":\"1\",\n",
    "                                                                                                           \"3\":\"1\",\n",
    "                                                                                                           \"4\":\"1\",\n",
    "                                                                                                           \"5\":\"1\",\n",
    "                                                                                                           \"9\":\"1\",\n",
    "                                                                                                           \"6\":\"2\",\n",
    "                                                                                                           \"7\":\"3\",\n",
    "                                                                                                           \"8\":\"4\"\n",
    "                                                                                                          })\n",
    "\n",
    "\n"
   ]
  },
  {
   "cell_type": "code",
   "execution_count": 20,
   "metadata": {},
   "outputs": [
    {
     "data": {
      "text/html": [
       "<div>\n",
       "<style scoped>\n",
       "    .dataframe tbody tr th:only-of-type {\n",
       "        vertical-align: middle;\n",
       "    }\n",
       "\n",
       "    .dataframe tbody tr th {\n",
       "        vertical-align: top;\n",
       "    }\n",
       "\n",
       "    .dataframe thead th {\n",
       "        text-align: right;\n",
       "    }\n",
       "</style>\n",
       "<table border=\"1\" class=\"dataframe\">\n",
       "  <thead>\n",
       "    <tr style=\"text-align: right;\">\n",
       "      <th></th>\n",
       "      <th>person_id</th>\n",
       "      <th>year_id</th>\n",
       "      <th>resident_status</th>\n",
       "      <th>edu_2003_rev</th>\n",
       "      <th>sex</th>\n",
       "      <th>age_recode_27</th>\n",
       "      <th>marital_status</th>\n",
       "      <th>bridged_race_1</th>\n",
       "      <th>bridged_race_recode_5</th>\n",
       "      <th>hispanicorigin</th>\n",
       "      <th>hispanicorigin_bridgeracerecode</th>\n",
       "      <th>day_of_week_of_death</th>\n",
       "      <th>month_of_death</th>\n",
       "      <th>data_year</th>\n",
       "      <th>race_recode_capstone</th>\n",
       "    </tr>\n",
       "  </thead>\n",
       "  <tbody>\n",
       "    <tr>\n",
       "      <th>0</th>\n",
       "      <td>1</td>\n",
       "      <td>8</td>\n",
       "      <td>3</td>\n",
       "      <td>3</td>\n",
       "      <td>F</td>\n",
       "      <td>15</td>\n",
       "      <td>D</td>\n",
       "      <td>1</td>\n",
       "      <td>1</td>\n",
       "      <td>100</td>\n",
       "      <td>6</td>\n",
       "      <td>2</td>\n",
       "      <td>1</td>\n",
       "      <td>2018</td>\n",
       "      <td>2</td>\n",
       "    </tr>\n",
       "    <tr>\n",
       "      <th>1</th>\n",
       "      <td>2</td>\n",
       "      <td>8</td>\n",
       "      <td>1</td>\n",
       "      <td>3</td>\n",
       "      <td>M</td>\n",
       "      <td>11</td>\n",
       "      <td>S</td>\n",
       "      <td>3</td>\n",
       "      <td>3</td>\n",
       "      <td>100</td>\n",
       "      <td>8</td>\n",
       "      <td>4</td>\n",
       "      <td>1</td>\n",
       "      <td>2018</td>\n",
       "      <td>4</td>\n",
       "    </tr>\n",
       "    <tr>\n",
       "      <th>2</th>\n",
       "      <td>3</td>\n",
       "      <td>8</td>\n",
       "      <td>1</td>\n",
       "      <td>6</td>\n",
       "      <td>M</td>\n",
       "      <td>24</td>\n",
       "      <td>D</td>\n",
       "      <td>1</td>\n",
       "      <td>1</td>\n",
       "      <td>100</td>\n",
       "      <td>6</td>\n",
       "      <td>3</td>\n",
       "      <td>1</td>\n",
       "      <td>2018</td>\n",
       "      <td>2</td>\n",
       "    </tr>\n",
       "    <tr>\n",
       "      <th>3</th>\n",
       "      <td>4</td>\n",
       "      <td>8</td>\n",
       "      <td>1</td>\n",
       "      <td>2</td>\n",
       "      <td>M</td>\n",
       "      <td>24</td>\n",
       "      <td>W</td>\n",
       "      <td>1</td>\n",
       "      <td>1</td>\n",
       "      <td>100</td>\n",
       "      <td>6</td>\n",
       "      <td>7</td>\n",
       "      <td>1</td>\n",
       "      <td>2018</td>\n",
       "      <td>2</td>\n",
       "    </tr>\n",
       "    <tr>\n",
       "      <th>4</th>\n",
       "      <td>5</td>\n",
       "      <td>8</td>\n",
       "      <td>2</td>\n",
       "      <td>4</td>\n",
       "      <td>F</td>\n",
       "      <td>12</td>\n",
       "      <td>S</td>\n",
       "      <td>3</td>\n",
       "      <td>3</td>\n",
       "      <td>100</td>\n",
       "      <td>8</td>\n",
       "      <td>2</td>\n",
       "      <td>1</td>\n",
       "      <td>2018</td>\n",
       "      <td>4</td>\n",
       "    </tr>\n",
       "  </tbody>\n",
       "</table>\n",
       "</div>"
      ],
      "text/plain": [
       "   person_id year_id resident_status edu_2003_rev sex age_recode_27  \\\n",
       "0          1       8               3            3   F            15   \n",
       "1          2       8               1            3   M            11   \n",
       "2          3       8               1            6   M            24   \n",
       "3          4       8               1            2   M            24   \n",
       "4          5       8               2            4   F            12   \n",
       "\n",
       "  marital_status bridged_race_1 bridged_race_recode_5 hispanicorigin  \\\n",
       "0              D              1                     1            100   \n",
       "1              S              3                     3            100   \n",
       "2              D              1                     1            100   \n",
       "3              W              1                     1            100   \n",
       "4              S              3                     3            100   \n",
       "\n",
       "  hispanicorigin_bridgeracerecode day_of_week_of_death month_of_death  \\\n",
       "0                               6                    2              1   \n",
       "1                               8                    4              1   \n",
       "2                               6                    3              1   \n",
       "3                               6                    7              1   \n",
       "4                               8                    2              1   \n",
       "\n",
       "  data_year race_recode_capstone  \n",
       "0      2018                    2  \n",
       "1      2018                    4  \n",
       "2      2018                    2  \n",
       "3      2018                    2  \n",
       "4      2018                    4  "
      ]
     },
     "execution_count": 20,
     "metadata": {},
     "output_type": "execute_result"
    }
   ],
   "source": [
    "person_info_2018.head()"
   ]
  },
  {
   "cell_type": "code",
   "execution_count": null,
   "metadata": {},
   "outputs": [],
   "source": [
    "# Hispanic Origin/Race Recode\n",
    "# 1 ... Mexican\n",
    "# 2 ... Puerto Rican\n",
    "# 3 ... Cuban\n",
    "# 4 ... Central or South American\n",
    "# 5 ... Other or unknown Hispanic\n",
    "# 6 ... Non - Hispanic white\n",
    "# 7 ... Non - Hispanic black\n",
    "# 8 ... Non - Hispanic other races\n",
    "# 9 ... Hispanic origin unknown \n",
    "\n",
    "\n",
    "# Race Recode Capstone\n",
    "# 1 ... Hispanic\n",
    "# 2 ... White\n",
    "# 3 ... Black\n",
    "# 4 ... Other Races\n"
   ]
  },
  {
   "cell_type": "code",
   "execution_count": 22,
   "metadata": {
    "scrolled": true
   },
   "outputs": [
    {
     "name": "stdout",
     "output_type": "stream",
     "text": [
      "CPU times: user 21.1 s, sys: 36.2 s, total: 57.3 s\n",
      "Wall time: 1min 21s\n"
     ]
    }
   ],
   "source": [
    "%%time \n",
    "\n",
    "#cleaning and merging datasets\n",
    "\n",
    "\n",
    "# #make age as int type\n",
    "# person_info_2012.age_recode_27=person_info_2012.age_recode_27.dropna().astype(np.int64)\n",
    "# person_info_2013.age_recode_27=person_info_2013.age_recode_27.dropna().astype(np.int64)\n",
    "# person_info_2014.age_recode_27=person_info_2014.age_recode_27.dropna().astype(np.int64)\n",
    "# person_info_2015.age_recode_27=person_info_2015.age_recode_27.dropna().astype(np.int64)\n",
    "# person_info_2016.age_recode_27=person_info_2016.age_recode_27.dropna().astype(np.int64)\n",
    "# person_info_2017.age_recode_27=person_info_2017.age_recode_27.dropna().astype(np.int64)\n",
    "# person_info_2018.age_recode_27=person_info_2018.age_recode_27.dropna().astype(np.int64)\n",
    "\n",
    "# #age less than 65\n",
    "# person_age_info_2012_age=person_info_2012[person_info_2012.age_recode_27<=18]\n",
    "# person_age_info_2013_age=person_info_2013[person_info_2013.age_recode_27<=18]\n",
    "# person_age_info_2014_age=person_info_2014[person_info_2014.age_recode_27<=18]\n",
    "# person_age_info_2015_age=person_info_2015[person_info_2015.age_recode_27<=18]\n",
    "# person_age_info_2016_age=person_info_2016[person_info_2016.age_recode_27<=18]\n",
    "# person_age_info_2017_age=person_info_2017[person_info_2017.age_recode_27<=18]\n",
    "# person_age_info_2018_age=person_info_2018[person_info_2018.age_recode_27<=18]\n",
    "\n",
    "\n",
    "# #person info and heart disease\n",
    "# hd2012=pd.merge(person_info_2012, hd_cause_death_2012, on=\"person_id\").merge(death_info_2012, on=\"person_id\")\n",
    "# hd2013=pd.merge(person_info_2013, hd_cause_death_2013, on=\"person_id\").merge(death_info_2013, on=\"person_id\")\n",
    "# hd2014=pd.merge(person_info_2014, hd_cause_death_2014, on=\"person_id\").merge(death_info_2014, on=\"person_id\")\n",
    "# hd2015=pd.merge(person_info_2015, hd_cause_death_2015, on=\"person_id\").merge(death_info_2015, on=\"person_id\")\n",
    "# hd2016=pd.merge(person_info_2016, hd_cause_death_2016, on=\"person_id\").merge(death_info_2016, on=\"person_id\")\n",
    "# hd2017=pd.merge(person_info_2017, hd_cause_death_2017, on=\"person_id\").merge(death_info_2017, on=\"person_id\")\n",
    "# hd2018=pd.merge(person_info_2018, hd_cause_death_2018, on=\"person_id\").merge(death_info_2018, on=\"person_id\")\n",
    "\n",
    "# #person info and cancer\n",
    "# can2012=pd.merge(person_info_2012, can_cause_death_2012, on=\"person_id\").merge(death_info_2012, on=\"person_id\")\n",
    "# can2013=pd.merge(person_info_2013, can_cause_death_2013, on=\"person_id\").merge(death_info_2013, on=\"person_id\")\n",
    "# can2014=pd.merge(person_info_2014, can_cause_death_2014, on=\"person_id\").merge(death_info_2014, on=\"person_id\")\n",
    "# can2015=pd.merge(person_info_2015, can_cause_death_2015, on=\"person_id\").merge(death_info_2015, on=\"person_id\")\n",
    "# can2016=pd.merge(person_info_2016, can_cause_death_2016, on=\"person_id\").merge(death_info_2016, on=\"person_id\")\n",
    "# can2017=pd.merge(person_info_2017, can_cause_death_2017, on=\"person_id\").merge(death_info_2017, on=\"person_id\")\n",
    "# can2018=pd.merge(person_info_2018, can_cause_death_2018, on=\"person_id\").merge(death_info_2018, on=\"person_id\")\n",
    "\n",
    "# race_map = {\n",
    "#     1: \"hispanic\",\n",
    "#     2: \"white\",\n",
    "#     3: \"black\",\n",
    "#     4: \"other\" }"
   ]
  },
  {
   "cell_type": "markdown",
   "metadata": {},
   "source": [
    "###### In 2018 Cancer and Heart Disease make up 52% of the mortality population in US"
   ]
  },
  {
   "cell_type": "code",
   "execution_count": 28,
   "metadata": {},
   "outputs": [
    {
     "data": {
      "text/plain": [
       "0.3059524388156407"
      ]
     },
     "execution_count": 28,
     "metadata": {},
     "output_type": "execute_result"
    }
   ],
   "source": [
    "hd2018.shape[0]/person_info_2018.shape[0]"
   ]
  },
  {
   "cell_type": "code",
   "execution_count": 29,
   "metadata": {},
   "outputs": [
    {
     "data": {
      "text/plain": [
       "0.2165795648501729"
      ]
     },
     "execution_count": 29,
     "metadata": {},
     "output_type": "execute_result"
    }
   ],
   "source": [
    "can2018.shape[0]/person_info_2018.shape[0]"
   ]
  },
  {
   "cell_type": "code",
   "execution_count": 30,
   "metadata": {},
   "outputs": [
    {
     "data": {
      "text/plain": [
       "0.5225320036658136"
      ]
     },
     "execution_count": 30,
     "metadata": {},
     "output_type": "execute_result"
    }
   ],
   "source": [
    "Total_rate=0.3059524388156407+0.2165795648501729\n",
    "Total_rate"
   ]
  },
  {
   "cell_type": "code",
   "execution_count": 394,
   "metadata": {
    "scrolled": true
   },
   "outputs": [
    {
     "data": {
      "image/png": "[encoded data removed]",
      "text/plain": [
       "<Figure size 432x288 with 1 Axes>"
      ]
     },
     "metadata": {},
     "output_type": "display_data"
    }
   ],
   "source": [
    "import matplotlib.pyplot as plt\n",
    "\n",
    "# Data to plot\n",
    "labels = 'Heart Disease', 'Cancer', 'Other'\n",
    "sizes = [0.305, 0.216, (1-0.305-0.216)]\n",
    "colors = ['yellowgreen', 'lightcoral', 'lightskyblue']\n",
    "explode = (0.1, 0.1, 0)  # explode 1st slice\n",
    "\n",
    "# Plot\n",
    "plt.pie(sizes, explode=explode, labels=labels, colors=colors,\n",
    "autopct='%1.1f%%', shadow=True, startangle=140)\n",
    "\n",
    "plt.axis('equal')\n",
    "plt.show()"
   ]
  },
  {
   "cell_type": "markdown",
   "metadata": {},
   "source": [
    "## Cancer and Heart Disease Mortality Rate Per Race"
   ]
  },
  {
   "cell_type": "code",
   "execution_count": 32,
   "metadata": {
    "scrolled": false
   },
   "outputs": [
    {
     "data": {
      "text/html": [
       "<div>\n",
       "<style scoped>\n",
       "    .dataframe tbody tr th:only-of-type {\n",
       "        vertical-align: middle;\n",
       "    }\n",
       "\n",
       "    .dataframe tbody tr th {\n",
       "        vertical-align: top;\n",
       "    }\n",
       "\n",
       "    .dataframe thead th {\n",
       "        text-align: right;\n",
       "    }\n",
       "</style>\n",
       "<table border=\"1\" class=\"dataframe\">\n",
       "  <thead>\n",
       "    <tr style=\"text-align: right;\">\n",
       "      <th></th>\n",
       "      <th>person_id</th>\n",
       "      <th>year_id</th>\n",
       "      <th>resident_status</th>\n",
       "      <th>edu_2003_rev</th>\n",
       "      <th>sex</th>\n",
       "      <th>age_recode_27</th>\n",
       "      <th>marital_status</th>\n",
       "      <th>bridged_race_1</th>\n",
       "      <th>bridged_race_recode_5</th>\n",
       "      <th>hispanicorigin</th>\n",
       "      <th>hispanicorigin_bridgeracerecode</th>\n",
       "      <th>day_of_week_of_death</th>\n",
       "      <th>month_of_death</th>\n",
       "      <th>data_year</th>\n",
       "      <th>race_recode_capstone</th>\n",
       "      <th>cause_recode_358</th>\n",
       "      <th>place_of_death_and_status</th>\n",
       "      <th>injury_at_work</th>\n",
       "      <th>manner_of_death</th>\n",
       "      <th>autopsy</th>\n",
       "      <th>activity_code</th>\n",
       "      <th>place_of_injury</th>\n",
       "    </tr>\n",
       "  </thead>\n",
       "  <tbody>\n",
       "    <tr>\n",
       "      <th>0</th>\n",
       "      <td>9</td>\n",
       "      <td>8</td>\n",
       "      <td>1</td>\n",
       "      <td>4</td>\n",
       "      <td>M</td>\n",
       "      <td>22</td>\n",
       "      <td>M</td>\n",
       "      <td>1</td>\n",
       "      <td>1</td>\n",
       "      <td>282</td>\n",
       "      <td>5</td>\n",
       "      <td>4</td>\n",
       "      <td>1</td>\n",
       "      <td>2018</td>\n",
       "      <td>1</td>\n",
       "      <td>230</td>\n",
       "      <td>4</td>\n",
       "      <td>U</td>\n",
       "      <td>7</td>\n",
       "      <td>N</td>\n",
       "      <td>99</td>\n",
       "      <td>99</td>\n",
       "    </tr>\n",
       "    <tr>\n",
       "      <th>1</th>\n",
       "      <td>10</td>\n",
       "      <td>8</td>\n",
       "      <td>1</td>\n",
       "      <td>4</td>\n",
       "      <td>F</td>\n",
       "      <td>23</td>\n",
       "      <td>W</td>\n",
       "      <td>1</td>\n",
       "      <td>1</td>\n",
       "      <td>100</td>\n",
       "      <td>6</td>\n",
       "      <td>2</td>\n",
       "      <td>1</td>\n",
       "      <td>2018</td>\n",
       "      <td>2</td>\n",
       "      <td>215</td>\n",
       "      <td>4</td>\n",
       "      <td>U</td>\n",
       "      <td>7</td>\n",
       "      <td>N</td>\n",
       "      <td>99</td>\n",
       "      <td>99</td>\n",
       "    </tr>\n",
       "    <tr>\n",
       "      <th>2</th>\n",
       "      <td>14</td>\n",
       "      <td>8</td>\n",
       "      <td>1</td>\n",
       "      <td>3</td>\n",
       "      <td>F</td>\n",
       "      <td>13</td>\n",
       "      <td>S</td>\n",
       "      <td>1</td>\n",
       "      <td>1</td>\n",
       "      <td>100</td>\n",
       "      <td>6</td>\n",
       "      <td>2</td>\n",
       "      <td>1</td>\n",
       "      <td>2018</td>\n",
       "      <td>2</td>\n",
       "      <td>219</td>\n",
       "      <td>1</td>\n",
       "      <td>U</td>\n",
       "      <td>7</td>\n",
       "      <td>N</td>\n",
       "      <td>99</td>\n",
       "      <td>99</td>\n",
       "    </tr>\n",
       "    <tr>\n",
       "      <th>3</th>\n",
       "      <td>15</td>\n",
       "      <td>8</td>\n",
       "      <td>1</td>\n",
       "      <td>6</td>\n",
       "      <td>F</td>\n",
       "      <td>23</td>\n",
       "      <td>W</td>\n",
       "      <td>1</td>\n",
       "      <td>1</td>\n",
       "      <td>100</td>\n",
       "      <td>6</td>\n",
       "      <td>5</td>\n",
       "      <td>1</td>\n",
       "      <td>2018</td>\n",
       "      <td>2</td>\n",
       "      <td>242</td>\n",
       "      <td>1</td>\n",
       "      <td>U</td>\n",
       "      <td>7</td>\n",
       "      <td>N</td>\n",
       "      <td>99</td>\n",
       "      <td>99</td>\n",
       "    </tr>\n",
       "    <tr>\n",
       "      <th>4</th>\n",
       "      <td>16</td>\n",
       "      <td>8</td>\n",
       "      <td>3</td>\n",
       "      <td>7</td>\n",
       "      <td>F</td>\n",
       "      <td>23</td>\n",
       "      <td>W</td>\n",
       "      <td>1</td>\n",
       "      <td>1</td>\n",
       "      <td>100</td>\n",
       "      <td>6</td>\n",
       "      <td>3</td>\n",
       "      <td>1</td>\n",
       "      <td>2018</td>\n",
       "      <td>2</td>\n",
       "      <td>214</td>\n",
       "      <td>7</td>\n",
       "      <td>U</td>\n",
       "      <td>7</td>\n",
       "      <td>N</td>\n",
       "      <td>99</td>\n",
       "      <td>99</td>\n",
       "    </tr>\n",
       "  </tbody>\n",
       "</table>\n",
       "</div>"
      ],
      "text/plain": [
       "   person_id year_id resident_status edu_2003_rev sex age_recode_27  \\\n",
       "0          9       8               1            4   M            22   \n",
       "1         10       8               1            4   F            23   \n",
       "2         14       8               1            3   F            13   \n",
       "3         15       8               1            6   F            23   \n",
       "4         16       8               3            7   F            23   \n",
       "\n",
       "  marital_status bridged_race_1 bridged_race_recode_5 hispanicorigin  \\\n",
       "0              M              1                     1            282   \n",
       "1              W              1                     1            100   \n",
       "2              S              1                     1            100   \n",
       "3              W              1                     1            100   \n",
       "4              W              1                     1            100   \n",
       "\n",
       "  hispanicorigin_bridgeracerecode day_of_week_of_death month_of_death  \\\n",
       "0                               5                    4              1   \n",
       "1                               6                    2              1   \n",
       "2                               6                    2              1   \n",
       "3                               6                    5              1   \n",
       "4                               6                    3              1   \n",
       "\n",
       "  data_year race_recode_capstone cause_recode_358 place_of_death_and_status  \\\n",
       "0      2018                    1              230                         4   \n",
       "1      2018                    2              215                         4   \n",
       "2      2018                    2              219                         1   \n",
       "3      2018                    2              242                         1   \n",
       "4      2018                    2              214                         7   \n",
       "\n",
       "  injury_at_work manner_of_death autopsy activity_code place_of_injury  \n",
       "0              U               7       N            99              99  \n",
       "1              U               7       N            99              99  \n",
       "2              U               7       N            99              99  \n",
       "3              U               7       N            99              99  \n",
       "4              U               7       N            99              99  "
      ]
     },
     "execution_count": 32,
     "metadata": {},
     "output_type": "execute_result"
    }
   ],
   "source": [
    "pd.set_option('display.max_columns', None)\n",
    "\n",
    "hd2018.head()"
   ]
  },
  {
   "cell_type": "code",
   "execution_count": 37,
   "metadata": {},
   "outputs": [
    {
     "data": {
      "text/plain": [
       "(614914, 22)"
      ]
     },
     "execution_count": 37,
     "metadata": {},
     "output_type": "execute_result"
    }
   ],
   "source": [
    "can2018.shape"
   ]
  },
  {
   "cell_type": "code",
   "execution_count": 33,
   "metadata": {
    "scrolled": false
   },
   "outputs": [
    {
     "data": {
      "text/plain": [
       "(868662, 22)"
      ]
     },
     "execution_count": 33,
     "metadata": {},
     "output_type": "execute_result"
    }
   ],
   "source": [
    "hd2018.shape"
   ]
  },
  {
   "cell_type": "code",
   "execution_count": 34,
   "metadata": {
    "scrolled": true
   },
   "outputs": [
    {
     "name": "stdout",
     "output_type": "stream",
     "text": [
      "AxesSubplot(0.125,0.125;0.775x0.755)\n"
     ]
    },
    {
     "data": {
      "image/png": "[encoded data removed]",
      "text/plain": [
       "<Figure size 432x288 with 1 Axes>"
      ]
     },
     "metadata": {
      "needs_background": "light"
     },
     "output_type": "display_data"
    }
   ],
   "source": [
    "print(can2018.race_recode_capstone.value_counts().plot(kind='bar'))"
   ]
  },
  {
   "cell_type": "code",
   "execution_count": 36,
   "metadata": {
    "scrolled": true
   },
   "outputs": [
    {
     "name": "stdout",
     "output_type": "stream",
     "text": [
      "AxesSubplot(0.125,0.125;0.775x0.755)\n"
     ]
    },
    {
     "data": {
      "image/png": "[encoded data removed]",
      "text/plain": [
       "<Figure size 432x288 with 1 Axes>"
      ]
     },
     "metadata": {
      "needs_background": "light"
     },
     "output_type": "display_data"
    }
   ],
   "source": [
    "print(hd2018.race_recode_capstone.value_counts().plot(kind='bar'))\n"
   ]
  },
  {
   "cell_type": "markdown",
   "metadata": {},
   "source": [
    "## Cancer 2018 among people less than 65 years old \n",
    "##### Rates per 100,000 population"
   ]
  },
  {
   "cell_type": "markdown",
   "metadata": {},
   "source": [
    "\n",
    "01 ... Under 1 month (includes not stated weeks, days, hours, and minutes)\\\n",
    "02 ... 1 month - 11 months (includes not stated months)\\\n",
    "03 ... 1 year\\\n",
    "04 ... 2 years\\\n",
    "05 ... 3 years\\\n",
    "06 ... 4 years\\\n",
    "07 ... 5 - 9 years\\\n",
    "08 ... 10 - 14 years\\\n",
    "09 ... 15 - 19 years\\\n",
    "10 ... 20 - 24 years\\\n",
    "11 ... 25 - 29 years\\\n",
    "12 ... 30 - 34 years\\\n",
    "13 ... 35 - 39 years\\\n",
    "14 ... 40 - 44 years\\\n",
    "15 ... 45 - 49 years\\\n",
    "16 ... 50 - 54 years\\\n",
    "17 ... 55 - 59 years\\\n",
    "18 ... 60 - 64 years "
   ]
  },
  {
   "cell_type": "code",
   "execution_count": 83,
   "metadata": {},
   "outputs": [
    {
     "name": "stdout",
     "output_type": "stream",
     "text": [
      "Total cancer population: 614914\n",
      "Older than 65 years old: 0.72\n",
      "Younger than 65 years old: 0.28\n"
     ]
    }
   ],
   "source": [
    "#2018\n",
    "\n",
    "can2018.age_recode_27=can2018.age_recode_27.astype(np.int64)\n",
    "print(\"Total cancer population: %s\" %can2018.shape[0])\n",
    "print(\"Older than 65 years old: %.2f\" %(can2018[can2018.age_recode_27>18].shape[0]/can2018.shape[0]))\n",
    "print(\"Younger than 65 years old: %.2f\" %(can2018[can2018.age_recode_27<=18].shape[0]/can2018.shape[0]))"
   ]
  },
  {
   "cell_type": "code",
   "execution_count": 23,
   "metadata": {},
   "outputs": [],
   "source": [
    "can_age_2012=can2012.copy()\n",
    "can_age_2012=can2012[can_age_2012.age_recode_27<=18]\n",
    "\n",
    "can_age_2013=can2013.copy()\n",
    "can_age_2013=can2013[can_age_2013.age_recode_27<=18]\n",
    "\n",
    "can_age_2014=can2014.copy()\n",
    "can_age_2014=can2014[can_age_2014.age_recode_27<=18]\n",
    "\n",
    "can_age_2015=can2015.copy()\n",
    "can_age_2015=can2015[can_age_2015.age_recode_27<=18]\n",
    "\n",
    "can_age_2016=can2016.copy()\n",
    "can_age_2016=can2016[can_age_2016.age_recode_27<=18]\n",
    "\n",
    "can_age_2017=can2017.copy()\n",
    "can_age_2017=can2017[can_age_2017.age_recode_27<=18]\n",
    "\n",
    "can_age_2018=can2018.copy()\n",
    "can_age_2018=can2018[can_age_2018.age_recode_27<=18]\n",
    "\n"
   ]
  },
  {
   "cell_type": "code",
   "execution_count": 532,
   "metadata": {
    "scrolled": false
   },
   "outputs": [
    {
     "data": {
      "text/html": [
       "<div>\n",
       "<style scoped>\n",
       "    .dataframe tbody tr th:only-of-type {\n",
       "        vertical-align: middle;\n",
       "    }\n",
       "\n",
       "    .dataframe tbody tr th {\n",
       "        vertical-align: top;\n",
       "    }\n",
       "\n",
       "    .dataframe thead th {\n",
       "        text-align: right;\n",
       "    }\n",
       "</style>\n",
       "<table border=\"1\" class=\"dataframe\">\n",
       "  <thead>\n",
       "    <tr style=\"text-align: right;\">\n",
       "      <th></th>\n",
       "      <th>person_id</th>\n",
       "      <th>year_id</th>\n",
       "      <th>resident_status</th>\n",
       "      <th>edu_2003_rev</th>\n",
       "      <th>sex</th>\n",
       "      <th>age_recode_27</th>\n",
       "      <th>marital_status</th>\n",
       "      <th>bridged_race_1</th>\n",
       "      <th>bridged_race_recode_5</th>\n",
       "      <th>hispanicorigin</th>\n",
       "      <th>hispanicorigin_bridgeracerecode</th>\n",
       "      <th>day_of_week_of_death</th>\n",
       "      <th>month_of_death</th>\n",
       "      <th>data_year</th>\n",
       "      <th>race_recode_capstone</th>\n",
       "      <th>cause_recode_358</th>\n",
       "      <th>place_of_death_and_status</th>\n",
       "      <th>injury_at_work</th>\n",
       "      <th>manner_of_death</th>\n",
       "      <th>autopsy</th>\n",
       "      <th>activity_code</th>\n",
       "      <th>place_of_injury</th>\n",
       "    </tr>\n",
       "  </thead>\n",
       "  <tbody>\n",
       "    <tr>\n",
       "      <th>1</th>\n",
       "      <td>11</td>\n",
       "      <td>8</td>\n",
       "      <td>1</td>\n",
       "      <td>5</td>\n",
       "      <td>F</td>\n",
       "      <td>18</td>\n",
       "      <td>W</td>\n",
       "      <td>1</td>\n",
       "      <td>1</td>\n",
       "      <td>100</td>\n",
       "      <td>6</td>\n",
       "      <td>4</td>\n",
       "      <td>1</td>\n",
       "      <td>2018</td>\n",
       "      <td>2</td>\n",
       "      <td>83</td>\n",
       "      <td>4</td>\n",
       "      <td>U</td>\n",
       "      <td>7</td>\n",
       "      <td>N</td>\n",
       "      <td>99</td>\n",
       "      <td>99</td>\n",
       "    </tr>\n",
       "    <tr>\n",
       "      <th>2</th>\n",
       "      <td>12</td>\n",
       "      <td>8</td>\n",
       "      <td>1</td>\n",
       "      <td>4</td>\n",
       "      <td>F</td>\n",
       "      <td>18</td>\n",
       "      <td>D</td>\n",
       "      <td>1</td>\n",
       "      <td>1</td>\n",
       "      <td>100</td>\n",
       "      <td>6</td>\n",
       "      <td>5</td>\n",
       "      <td>1</td>\n",
       "      <td>2018</td>\n",
       "      <td>2</td>\n",
       "      <td>88</td>\n",
       "      <td>4</td>\n",
       "      <td>U</td>\n",
       "      <td>7</td>\n",
       "      <td>N</td>\n",
       "      <td>99</td>\n",
       "      <td>99</td>\n",
       "    </tr>\n",
       "    <tr>\n",
       "      <th>8</th>\n",
       "      <td>23</td>\n",
       "      <td>8</td>\n",
       "      <td>1</td>\n",
       "      <td>3</td>\n",
       "      <td>F</td>\n",
       "      <td>13</td>\n",
       "      <td>S</td>\n",
       "      <td>3</td>\n",
       "      <td>3</td>\n",
       "      <td>100</td>\n",
       "      <td>8</td>\n",
       "      <td>1</td>\n",
       "      <td>1</td>\n",
       "      <td>2018</td>\n",
       "      <td>4</td>\n",
       "      <td>78</td>\n",
       "      <td>4</td>\n",
       "      <td>U</td>\n",
       "      <td>7</td>\n",
       "      <td>N</td>\n",
       "      <td>99</td>\n",
       "      <td>99</td>\n",
       "    </tr>\n",
       "    <tr>\n",
       "      <th>9</th>\n",
       "      <td>26</td>\n",
       "      <td>8</td>\n",
       "      <td>1</td>\n",
       "      <td>5</td>\n",
       "      <td>F</td>\n",
       "      <td>18</td>\n",
       "      <td>D</td>\n",
       "      <td>1</td>\n",
       "      <td>1</td>\n",
       "      <td>100</td>\n",
       "      <td>6</td>\n",
       "      <td>2</td>\n",
       "      <td>1</td>\n",
       "      <td>2018</td>\n",
       "      <td>2</td>\n",
       "      <td>77</td>\n",
       "      <td>1</td>\n",
       "      <td>U</td>\n",
       "      <td>7</td>\n",
       "      <td>N</td>\n",
       "      <td>99</td>\n",
       "      <td>99</td>\n",
       "    </tr>\n",
       "    <tr>\n",
       "      <th>11</th>\n",
       "      <td>30</td>\n",
       "      <td>8</td>\n",
       "      <td>1</td>\n",
       "      <td>6</td>\n",
       "      <td>M</td>\n",
       "      <td>14</td>\n",
       "      <td>D</td>\n",
       "      <td>1</td>\n",
       "      <td>1</td>\n",
       "      <td>100</td>\n",
       "      <td>6</td>\n",
       "      <td>4</td>\n",
       "      <td>1</td>\n",
       "      <td>2018</td>\n",
       "      <td>2</td>\n",
       "      <td>118</td>\n",
       "      <td>1</td>\n",
       "      <td>U</td>\n",
       "      <td>7</td>\n",
       "      <td>N</td>\n",
       "      <td>99</td>\n",
       "      <td>99</td>\n",
       "    </tr>\n",
       "  </tbody>\n",
       "</table>\n",
       "</div>"
      ],
      "text/plain": [
       "    person_id year_id resident_status edu_2003_rev sex age_recode_27  \\\n",
       "1          11       8               1            5   F            18   \n",
       "2          12       8               1            4   F            18   \n",
       "8          23       8               1            3   F            13   \n",
       "9          26       8               1            5   F            18   \n",
       "11         30       8               1            6   M            14   \n",
       "\n",
       "   marital_status bridged_race_1 bridged_race_recode_5 hispanicorigin  \\\n",
       "1               W              1                     1            100   \n",
       "2               D              1                     1            100   \n",
       "8               S              3                     3            100   \n",
       "9               D              1                     1            100   \n",
       "11              D              1                     1            100   \n",
       "\n",
       "   hispanicorigin_bridgeracerecode day_of_week_of_death month_of_death  \\\n",
       "1                                6                    4              1   \n",
       "2                                6                    5              1   \n",
       "8                                8                    1              1   \n",
       "9                                6                    2              1   \n",
       "11                               6                    4              1   \n",
       "\n",
       "   data_year race_recode_capstone cause_recode_358 place_of_death_and_status  \\\n",
       "1       2018                    2               83                         4   \n",
       "2       2018                    2               88                         4   \n",
       "8       2018                    4               78                         4   \n",
       "9       2018                    2               77                         1   \n",
       "11      2018                    2              118                         1   \n",
       "\n",
       "   injury_at_work manner_of_death autopsy activity_code place_of_injury  \n",
       "1               U               7       N            99              99  \n",
       "2               U               7       N            99              99  \n",
       "8               U               7       N            99              99  \n",
       "9               U               7       N            99              99  \n",
       "11              U               7       N            99              99  "
      ]
     },
     "execution_count": 532,
     "metadata": {},
     "output_type": "execute_result"
    }
   ],
   "source": [
    "can_age_2018.head()"
   ]
  },
  {
   "cell_type": "code",
   "execution_count": 34,
   "metadata": {},
   "outputs": [
    {
     "data": {
      "text/plain": [
       "(170714, 22)"
      ]
     },
     "execution_count": 34,
     "metadata": {},
     "output_type": "execute_result"
    }
   ],
   "source": [
    "can_age_2018.shape"
   ]
  },
  {
   "cell_type": "code",
   "execution_count": 36,
   "metadata": {
    "scrolled": true
   },
   "outputs": [
    {
     "data": {
      "text/plain": [
       "sex\n",
       "F    81687\n",
       "M    89027\n",
       "Name: cause_recode_358, dtype: int64"
      ]
     },
     "execution_count": 36,
     "metadata": {},
     "output_type": "execute_result"
    }
   ],
   "source": [
    "# Cancer among females and males \n",
    "\n",
    "can_age_2018.groupby([\"sex\"])[\"cause_recode_358\"].size().sort_values()"
   ]
  },
  {
   "cell_type": "code",
   "execution_count": 37,
   "metadata": {
    "scrolled": true
   },
   "outputs": [
    {
     "name": "stdout",
     "output_type": "stream",
     "text": [
      "CPU times: user 28.5 ms, sys: 2.05 ms, total: 30.6 ms\n",
      "Wall time: 28.6 ms\n"
     ]
    },
    {
     "data": {
      "text/plain": [
       "cause_recode_358\n",
       "93     36174\n",
       "104    15838\n",
       "81     12373\n",
       "88     11697\n",
       "125    11124\n",
       "122     7564\n",
       "85      7320\n",
       "77      5094\n",
       "109     4605\n",
       "82      4217\n",
       "dtype: int64"
      ]
     },
     "execution_count": 37,
     "metadata": {},
     "output_type": "execute_result"
    }
   ],
   "source": [
    "%%time \n",
    "#Top 10 cancer \n",
    "can_age_2018.groupby([\"cause_recode_358\"]).size().sort_values(ascending=False).head(10)\n",
    "\n",
    "#093 Of trachea, bronchus and lung (C33-C34) \n",
    "#104 Malignant neoplasm of breast (C50) \n",
    "#081 Colon (C18) \n",
    "#088 Of pancreas (C25)\n",
    "#125 Other malignant neoplasms of other and unspecified sites (C76-C80,C97) \n",
    "#122 Of brain (C71) \n",
    "#085 Liver (C22.0,C22.2-C22.9) \n",
    "#077 Of esophagus (C15) 078 Of stomach (C16) \n",
    "#109 2 Of ovary (C56) \n",
    "#082 Rectosigmoid junction and rectum (C19-C20) "
   ]
  },
  {
   "cell_type": "code",
   "execution_count": 760,
   "metadata": {
    "scrolled": true
   },
   "outputs": [
    {
     "data": {
      "text/plain": [
       "Text(0, 0.5, 'Number of Deaths')"
      ]
     },
     "execution_count": 760,
     "metadata": {},
     "output_type": "execute_result"
    },
    {
     "data": {
      "image/png": "[encoded data removed]",
      "text/plain": [
       "<Figure size 432x288 with 1 Axes>"
      ]
     },
     "metadata": {
      "needs_background": "light"
     },
     "output_type": "display_data"
    }
   ],
   "source": [
    "#type of disease compared to Female and Male\n",
    "\n",
    "def top_val_count(x, n=10):\n",
    "    return x.value_counts().head(n)\n",
    "\n",
    "plot_can=can_age_2018.groupby([\"sex\"]).cause_recode_358\n",
    "plot_can.apply(top_val_count).plot(kind=\"bar\", x='cause_recode_358')\n",
    "plt.xlabel(\"Type of Cancer\")\n",
    "plt.ylabel(\"Number of Deaths\")"
   ]
  },
  {
   "cell_type": "code",
   "execution_count": 761,
   "metadata": {
    "scrolled": true
   },
   "outputs": [
    {
     "data": {
      "text/plain": [
       "Text(0, 0.5, 'Number of Deaths')"
      ]
     },
     "execution_count": 761,
     "metadata": {},
     "output_type": "execute_result"
    },
    {
     "data": {
      "image/png": "[encoded data removed]",
      "text/plain": [
       "<Figure size 432x288 with 1 Axes>"
      ]
     },
     "metadata": {
      "needs_background": "light"
     },
     "output_type": "display_data"
    }
   ],
   "source": [
    "def top_val_count(x, n=5):\n",
    "    return x.value_counts().head(n)\n",
    "\n",
    "plot_can=can_age_2018.groupby([\"race_recode_capstone\"]).cause_recode_358\n",
    "plot_can.apply(top_val_count).plot(kind=\"bar\", x='cause_recode_358')\n",
    "plt.xlabel(\"Type of Cancer\")\n",
    "plt.ylabel(\"Number of Deaths\")"
   ]
  },
  {
   "cell_type": "code",
   "execution_count": 762,
   "metadata": {
    "scrolled": true
   },
   "outputs": [
    {
     "data": {
      "text/plain": [
       "<matplotlib.axes._subplots.AxesSubplot at 0x7ff040d217d0>"
      ]
     },
     "execution_count": 762,
     "metadata": {},
     "output_type": "execute_result"
    },
    {
     "data": {
      "image/png": "[encoded data removed]",
      "text/plain": [
       "<Figure size 432x288 with 1 Axes>"
      ]
     },
     "metadata": {
      "needs_background": "light"
     },
     "output_type": "display_data"
    }
   ],
   "source": [
    "#manner of death \n",
    "\n",
    "can_age_2018.groupby(\"manner_of_death\").size().plot(kind=\"bar\")\n",
    "\n",
    "# Manner of Death\n",
    "# 1 ... Accident\n",
    "# 2 ... Suicide\n",
    "# 3 ... Homicide\n",
    "# 4 ... Pending investigation\n",
    "# 5 ... Could not determine\n",
    "# 6 ... Self-Inflicted\n",
    "# 7 ... Natural\n",
    "# Blank ... Not specified "
   ]
  },
  {
   "cell_type": "code",
   "execution_count": 763,
   "metadata": {
    "scrolled": true
   },
   "outputs": [
    {
     "data": {
      "text/plain": [
       "<matplotlib.axes._subplots.AxesSubplot at 0x7ff040d498d0>"
      ]
     },
     "execution_count": 763,
     "metadata": {},
     "output_type": "execute_result"
    },
    {
     "data": {
      "image/png": "[encoded data removed]",
      "text/plain": [
       "<Figure size 432x288 with 1 Axes>"
      ]
     },
     "metadata": {
      "needs_background": "light"
     },
     "output_type": "display_data"
    }
   ],
   "source": [
    "can_age_2018.groupby(\"place_of_death_and_status\").size().plot(kind=\"bar\")\n",
    "\n",
    "#4 -> Decedent’s home\n",
    "#1 -> Hospital, clinic or Medical Center - Inpatient\n",
    "#6 -> Nursing home/long term care\n",
    "#3 -> Hospital, Clinic or Medical Center - Dead on Arrival"
   ]
  },
  {
   "cell_type": "markdown",
   "metadata": {},
   "source": [
    "### Cancer Per Capita "
   ]
  },
  {
   "cell_type": "code",
   "execution_count": 43,
   "metadata": {},
   "outputs": [
    {
     "data": {
      "text/plain": [
       "(181920, 22)"
      ]
     },
     "execution_count": 43,
     "metadata": {},
     "output_type": "execute_result"
    }
   ],
   "source": [
    "can_age_2012.shape"
   ]
  },
  {
   "cell_type": "code",
   "execution_count": 66,
   "metadata": {},
   "outputs": [
    {
     "data": {
      "text/plain": [
       "0       white\n",
       "1       black\n",
       "2    hispanic\n",
       "3       other\n",
       "Name: race_recode_capstone, dtype: object"
      ]
     },
     "execution_count": 66,
     "metadata": {},
     "output_type": "execute_result"
    }
   ],
   "source": [
    "per_capita_can_2012.race_recode_capstone"
   ]
  },
  {
   "cell_type": "code",
   "execution_count": 77,
   "metadata": {},
   "outputs": [
    {
     "data": {
      "text/html": [
       "<div>\n",
       "<style scoped>\n",
       "    .dataframe tbody tr th:only-of-type {\n",
       "        vertical-align: middle;\n",
       "    }\n",
       "\n",
       "    .dataframe tbody tr th {\n",
       "        vertical-align: top;\n",
       "    }\n",
       "\n",
       "    .dataframe thead th {\n",
       "        text-align: right;\n",
       "    }\n",
       "</style>\n",
       "<table border=\"1\" class=\"dataframe\">\n",
       "  <thead>\n",
       "    <tr style=\"text-align: right;\">\n",
       "      <th></th>\n",
       "      <th>race_recode_capstone</th>\n",
       "      <th>total_deaths</th>\n",
       "      <th>cancer</th>\n",
       "      <th>per_capita</th>\n",
       "      <th>per_capita_10000</th>\n",
       "      <th>year</th>\n",
       "    </tr>\n",
       "  </thead>\n",
       "  <tbody>\n",
       "    <tr>\n",
       "      <th>0</th>\n",
       "      <td>white</td>\n",
       "      <td>467775</td>\n",
       "      <td>131490</td>\n",
       "      <td>0.281097</td>\n",
       "      <td>2810.966811</td>\n",
       "      <td>2012</td>\n",
       "    </tr>\n",
       "    <tr>\n",
       "      <th>1</th>\n",
       "      <td>black</td>\n",
       "      <td>125445</td>\n",
       "      <td>28533</td>\n",
       "      <td>0.227454</td>\n",
       "      <td>2274.542628</td>\n",
       "      <td>2012</td>\n",
       "    </tr>\n",
       "    <tr>\n",
       "      <th>2</th>\n",
       "      <td>hispanic</td>\n",
       "      <td>67604</td>\n",
       "      <td>14947</td>\n",
       "      <td>0.221096</td>\n",
       "      <td>2210.963848</td>\n",
       "      <td>2012</td>\n",
       "    </tr>\n",
       "    <tr>\n",
       "      <th>3</th>\n",
       "      <td>other</td>\n",
       "      <td>24227</td>\n",
       "      <td>6950</td>\n",
       "      <td>0.286870</td>\n",
       "      <td>2868.700211</td>\n",
       "      <td>2012</td>\n",
       "    </tr>\n",
       "  </tbody>\n",
       "</table>\n",
       "</div>"
      ],
      "text/plain": [
       "  race_recode_capstone  total_deaths  cancer  per_capita  per_capita_10000  \\\n",
       "0                white        467775  131490    0.281097       2810.966811   \n",
       "1                black        125445   28533    0.227454       2274.542628   \n",
       "2             hispanic         67604   14947    0.221096       2210.963848   \n",
       "3                other         24227    6950    0.286870       2868.700211   \n",
       "\n",
       "   year  \n",
       "0  2012  \n",
       "1  2012  \n",
       "2  2012  \n",
       "3  2012  "
      ]
     },
     "execution_count": 77,
     "metadata": {},
     "output_type": "execute_result"
    },
    {
     "data": {
      "image/png": "[encoded data removed]",
      "text/plain": [
       "<Figure size 432x288 with 1 Axes>"
      ]
     },
     "metadata": {
      "needs_background": "light"
     },
     "output_type": "display_data"
    }
   ],
   "source": [
    "## PER CAPITA - RACE ##\n",
    "\n",
    "# 2012 total deaths per race\n",
    "tot_can_2012=person_age_info_2012_age.race_recode_capstone.value_counts().reset_index()\n",
    "\n",
    "# 2012 Cancer popultion: race class and heart disease \n",
    "race_can_2012=can_age_2012.race_recode_capstone.value_counts().reset_index()\n",
    "\n",
    "#merge & create new columns \n",
    "per_capita_can_2012=pd.merge(tot_can_2012,race_can_2012, on=\"index\").rename(columns={\"index\":\"race_recode_capstone\", \"race_recode_capstone_x\":\"total_deaths\", \"race_recode_capstone_y\":\"cancer\"})\n",
    "per_capita_can_2012[\"per_capita\"]=per_capita_can_2012.cancer/per_capita_can_2012.total_deaths\n",
    "per_capita_can_2012[\"per_capita_10000\"]=per_capita_can_2012[\"per_capita\"].apply(lambda t: t*10000)\n",
    "per_capita_can_2012[\"year\"]=[\"2012\",\"2012\",\"2012\",\"2012\",]\n",
    "per_capita_can_2012[\"race_recode_capstone\"]=[\"white\", \"black\", \"hispanic\", \"other\"]\n",
    "\n",
    "ans=per_capita_can_2012.per_capita_10000\n",
    "ans.index = [\"white\", \"black\", \"hispanic\", \"other\"]\n",
    "ans.plot(kind=\"bar\")\n",
    "\n",
    "per_capita_can_2012"
   ]
  },
  {
   "cell_type": "code",
   "execution_count": 96,
   "metadata": {},
   "outputs": [
    {
     "data": {
      "text/html": [
       "<div>\n",
       "<style scoped>\n",
       "    .dataframe tbody tr th:only-of-type {\n",
       "        vertical-align: middle;\n",
       "    }\n",
       "\n",
       "    .dataframe tbody tr th {\n",
       "        vertical-align: top;\n",
       "    }\n",
       "\n",
       "    .dataframe thead th {\n",
       "        text-align: right;\n",
       "    }\n",
       "</style>\n",
       "<table border=\"1\" class=\"dataframe\">\n",
       "  <thead>\n",
       "    <tr style=\"text-align: right;\">\n",
       "      <th></th>\n",
       "      <th>race_recode_capstone</th>\n",
       "      <th>total_deaths</th>\n",
       "      <th>cancer</th>\n",
       "      <th>per_capita</th>\n",
       "      <th>per_capita_10000</th>\n",
       "      <th>year</th>\n",
       "    </tr>\n",
       "  </thead>\n",
       "  <tbody>\n",
       "    <tr>\n",
       "      <th>0</th>\n",
       "      <td>white</td>\n",
       "      <td>471019</td>\n",
       "      <td>129505</td>\n",
       "      <td>0.274946</td>\n",
       "      <td>2749.464459</td>\n",
       "      <td>2013</td>\n",
       "    </tr>\n",
       "    <tr>\n",
       "      <th>1</th>\n",
       "      <td>black</td>\n",
       "      <td>127500</td>\n",
       "      <td>28508</td>\n",
       "      <td>0.223592</td>\n",
       "      <td>2235.921569</td>\n",
       "      <td>2013</td>\n",
       "    </tr>\n",
       "    <tr>\n",
       "      <th>2</th>\n",
       "      <td>hispanic</td>\n",
       "      <td>68867</td>\n",
       "      <td>15111</td>\n",
       "      <td>0.219423</td>\n",
       "      <td>2194.229457</td>\n",
       "      <td>2013</td>\n",
       "    </tr>\n",
       "    <tr>\n",
       "      <th>3</th>\n",
       "      <td>other</td>\n",
       "      <td>24835</td>\n",
       "      <td>6989</td>\n",
       "      <td>0.281417</td>\n",
       "      <td>2814.173545</td>\n",
       "      <td>2013</td>\n",
       "    </tr>\n",
       "  </tbody>\n",
       "</table>\n",
       "</div>"
      ],
      "text/plain": [
       "  race_recode_capstone  total_deaths  cancer  per_capita  per_capita_10000  \\\n",
       "0                white        471019  129505    0.274946       2749.464459   \n",
       "1                black        127500   28508    0.223592       2235.921569   \n",
       "2             hispanic         68867   15111    0.219423       2194.229457   \n",
       "3                other         24835    6989    0.281417       2814.173545   \n",
       "\n",
       "   year  \n",
       "0  2013  \n",
       "1  2013  \n",
       "2  2013  \n",
       "3  2013  "
      ]
     },
     "execution_count": 96,
     "metadata": {},
     "output_type": "execute_result"
    },
    {
     "data": {
      "image/png": "[encoded data removed]",
      "text/plain": [
       "<Figure size 432x288 with 1 Axes>"
      ]
     },
     "metadata": {
      "needs_background": "light"
     },
     "output_type": "display_data"
    }
   ],
   "source": [
    "## PER CAPITA - RACE ##\n",
    "\n",
    "# 2013 total deaths per race\n",
    "tot_can_2013=person_age_info_2013_age.race_recode_capstone.value_counts().reset_index()\n",
    "\n",
    "# 2013 Cancer popultion: race class and heart disease \n",
    "race_can_2013=can_age_2013.race_recode_capstone.value_counts().reset_index()\n",
    "\n",
    "#merge & create new columns \n",
    "per_capita_can_2013=pd.merge(tot_can_2013,race_can_2013, on=\"index\").rename(columns={\"index\":\"race_recode_capstone\", \"race_recode_capstone_x\":\"total_deaths\", \"race_recode_capstone_y\":\"cancer\"})\n",
    "per_capita_can_2013[\"per_capita\"]=per_capita_can_2013.cancer/per_capita_can_2013.total_deaths\n",
    "per_capita_can_2013[\"per_capita_10000\"]=per_capita_can_2013[\"per_capita\"].apply(lambda t: t*10000)\n",
    "per_capita_can_2013[\"year\"]=[\"2013\",\"2013\",\"2013\",\"2013\",]\n",
    "per_capita_can_2013[\"race_recode_capstone\"]=[\"white\", \"black\", \"hispanic\", \"other\"]\n",
    "\n",
    "ans=per_capita_can_2013.per_capita_10000\n",
    "ans.index = [\"white\", \"black\", \"hispanic\", \"other\"]\n",
    "ans.plot(kind=\"bar\")\n",
    "\n",
    "per_capita_can_2013\n",
    "\n"
   ]
  },
  {
   "cell_type": "code",
   "execution_count": 91,
   "metadata": {
    "scrolled": true
   },
   "outputs": [
    {
     "data": {
      "text/plain": [
       "0    477452\n",
       "1    128774\n",
       "2     72143\n",
       "3     25615\n",
       "Name: total_deaths, dtype: int64"
      ]
     },
     "execution_count": 91,
     "metadata": {},
     "output_type": "execute_result"
    }
   ],
   "source": [
    "per_capita_can_2014.total_deaths#.sum()"
   ]
  },
  {
   "cell_type": "code",
   "execution_count": 88,
   "metadata": {},
   "outputs": [
    {
     "data": {
      "text/plain": [
       "(703984, 15)"
      ]
     },
     "execution_count": 88,
     "metadata": {},
     "output_type": "execute_result"
    }
   ],
   "source": [
    "person_age_info_2014_age.shape"
   ]
  },
  {
   "cell_type": "code",
   "execution_count": 93,
   "metadata": {},
   "outputs": [
    {
     "data": {
      "text/html": [
       "<div>\n",
       "<style scoped>\n",
       "    .dataframe tbody tr th:only-of-type {\n",
       "        vertical-align: middle;\n",
       "    }\n",
       "\n",
       "    .dataframe tbody tr th {\n",
       "        vertical-align: top;\n",
       "    }\n",
       "\n",
       "    .dataframe thead th {\n",
       "        text-align: right;\n",
       "    }\n",
       "</style>\n",
       "<table border=\"1\" class=\"dataframe\">\n",
       "  <thead>\n",
       "    <tr style=\"text-align: right;\">\n",
       "      <th></th>\n",
       "      <th>race_recode_capstone</th>\n",
       "      <th>total_deaths</th>\n",
       "      <th>cancer</th>\n",
       "      <th>per_capita</th>\n",
       "      <th>per_capita_10000</th>\n",
       "      <th>year</th>\n",
       "    </tr>\n",
       "  </thead>\n",
       "  <tbody>\n",
       "    <tr>\n",
       "      <th>0</th>\n",
       "      <td>white</td>\n",
       "      <td>477452</td>\n",
       "      <td>129342</td>\n",
       "      <td>0.270901</td>\n",
       "      <td>2709.005303</td>\n",
       "      <td>2014</td>\n",
       "    </tr>\n",
       "    <tr>\n",
       "      <th>1</th>\n",
       "      <td>black</td>\n",
       "      <td>128774</td>\n",
       "      <td>28660</td>\n",
       "      <td>0.222560</td>\n",
       "      <td>2225.604548</td>\n",
       "      <td>2014</td>\n",
       "    </tr>\n",
       "    <tr>\n",
       "      <th>2</th>\n",
       "      <td>hispanic</td>\n",
       "      <td>72143</td>\n",
       "      <td>15573</td>\n",
       "      <td>0.215863</td>\n",
       "      <td>2158.629389</td>\n",
       "      <td>2014</td>\n",
       "    </tr>\n",
       "    <tr>\n",
       "      <th>3</th>\n",
       "      <td>other</td>\n",
       "      <td>25615</td>\n",
       "      <td>7112</td>\n",
       "      <td>0.277650</td>\n",
       "      <td>2776.498146</td>\n",
       "      <td>2014</td>\n",
       "    </tr>\n",
       "  </tbody>\n",
       "</table>\n",
       "</div>"
      ],
      "text/plain": [
       "  race_recode_capstone  total_deaths  cancer  per_capita  per_capita_10000  \\\n",
       "0                white        477452  129342    0.270901       2709.005303   \n",
       "1                black        128774   28660    0.222560       2225.604548   \n",
       "2             hispanic         72143   15573    0.215863       2158.629389   \n",
       "3                other         25615    7112    0.277650       2776.498146   \n",
       "\n",
       "   year  \n",
       "0  2014  \n",
       "1  2014  \n",
       "2  2014  \n",
       "3  2014  "
      ]
     },
     "execution_count": 93,
     "metadata": {},
     "output_type": "execute_result"
    },
    {
     "data": {
      "image/png": "[encoded data removed]",
      "text/plain": [
       "<Figure size 432x288 with 1 Axes>"
      ]
     },
     "metadata": {
      "needs_background": "light"
     },
     "output_type": "display_data"
    }
   ],
   "source": [
    "## PER CAPITA - RACE ##\n",
    "\n",
    "# 2014 total deaths per race\n",
    "tot_can_2014=person_age_info_2014_age.race_recode_capstone.value_counts().reset_index()\n",
    "\n",
    "# 2014 Cancer popultion: race class and heart disease \n",
    "race_can_2014=can_age_2014.race_recode_capstone.value_counts().reset_index()\n",
    "\n",
    "#merge & create new columns \n",
    "per_capita_can_2014=pd.merge(tot_can_2014,race_can_2014, on=\"index\").rename(columns={\"index\":\"race_recode_capstone\", \"race_recode_capstone_x\":\"total_deaths\", \"race_recode_capstone_y\":\"cancer\"})\n",
    "per_capita_can_2014[\"per_capita\"]=per_capita_can_2014.cancer/per_capita_can_2014.total_deaths#.sum()\n",
    "per_capita_can_2014[\"per_capita_10000\"]=per_capita_can_2014[\"per_capita\"].apply(lambda t: t*10000)\n",
    "per_capita_can_2014[\"year\"]=[\"2014\",\"2014\",\"2014\",\"2014\",]\n",
    "per_capita_can_2014[\"race_recode_capstone\"]=[\"white\", \"black\", \"hispanic\", \"other\"]\n",
    "\n",
    "ans=per_capita_can_2014.per_capita_10000\n",
    "ans.index = [\"white\", \"black\", \"hispanic\", \"other\"]\n",
    "ans.plot(kind=\"bar\")\n",
    "\n",
    "per_capita_can_2014"
   ]
  },
  {
   "cell_type": "code",
   "execution_count": 27,
   "metadata": {},
   "outputs": [
    {
     "data": {
      "text/html": [
       "<div>\n",
       "<style scoped>\n",
       "    .dataframe tbody tr th:only-of-type {\n",
       "        vertical-align: middle;\n",
       "    }\n",
       "\n",
       "    .dataframe tbody tr th {\n",
       "        vertical-align: top;\n",
       "    }\n",
       "\n",
       "    .dataframe thead th {\n",
       "        text-align: right;\n",
       "    }\n",
       "</style>\n",
       "<table border=\"1\" class=\"dataframe\">\n",
       "  <thead>\n",
       "    <tr style=\"text-align: right;\">\n",
       "      <th></th>\n",
       "      <th>race_recode_capstone</th>\n",
       "      <th>total_deaths</th>\n",
       "      <th>cancer</th>\n",
       "      <th>per_capita</th>\n",
       "      <th>per_capita_10000</th>\n",
       "      <th>year</th>\n",
       "    </tr>\n",
       "  </thead>\n",
       "  <tbody>\n",
       "    <tr>\n",
       "      <th>0</th>\n",
       "      <td>white</td>\n",
       "      <td>484762</td>\n",
       "      <td>127506</td>\n",
       "      <td>0.263028</td>\n",
       "      <td>2630.280426</td>\n",
       "      <td>2015</td>\n",
       "    </tr>\n",
       "    <tr>\n",
       "      <th>1</th>\n",
       "      <td>black</td>\n",
       "      <td>132882</td>\n",
       "      <td>28436</td>\n",
       "      <td>0.213994</td>\n",
       "      <td>2139.943709</td>\n",
       "      <td>2015</td>\n",
       "    </tr>\n",
       "    <tr>\n",
       "      <th>2</th>\n",
       "      <td>hispanic</td>\n",
       "      <td>75874</td>\n",
       "      <td>16134</td>\n",
       "      <td>0.212642</td>\n",
       "      <td>2126.420118</td>\n",
       "      <td>2015</td>\n",
       "    </tr>\n",
       "    <tr>\n",
       "      <th>3</th>\n",
       "      <td>other</td>\n",
       "      <td>26691</td>\n",
       "      <td>7392</td>\n",
       "      <td>0.276947</td>\n",
       "      <td>2769.472856</td>\n",
       "      <td>2015</td>\n",
       "    </tr>\n",
       "  </tbody>\n",
       "</table>\n",
       "</div>"
      ],
      "text/plain": [
       "  race_recode_capstone  total_deaths  cancer  per_capita  per_capita_10000  \\\n",
       "0                white        484762  127506    0.263028       2630.280426   \n",
       "1                black        132882   28436    0.213994       2139.943709   \n",
       "2             hispanic         75874   16134    0.212642       2126.420118   \n",
       "3                other         26691    7392    0.276947       2769.472856   \n",
       "\n",
       "   year  \n",
       "0  2015  \n",
       "1  2015  \n",
       "2  2015  \n",
       "3  2015  "
      ]
     },
     "execution_count": 27,
     "metadata": {},
     "output_type": "execute_result"
    },
    {
     "data": {
      "image/png": "[encoded data removed]",
      "text/plain": [
       "<Figure size 432x288 with 1 Axes>"
      ]
     },
     "metadata": {
      "needs_background": "light"
     },
     "output_type": "display_data"
    }
   ],
   "source": [
    "## PER CAPITA - RACE ##\n",
    "\n",
    "# 2015 total deaths per race\n",
    "tot_can_2015=person_age_info_2015_age.race_recode_capstone.value_counts().reset_index()\n",
    "\n",
    "# 2015 Cancer popultion: race class and heart disease \n",
    "race_can_2015=can_age_2015.race_recode_capstone.value_counts().reset_index()\n",
    "\n",
    "#merge & create new columns \n",
    "per_capita_can_2015=pd.merge(tot_can_2015,race_can_2015, on=\"index\").rename(columns={\"index\":\"race_recode_capstone\", \"race_recode_capstone_x\":\"total_deaths\", \"race_recode_capstone_y\":\"cancer\"})\n",
    "per_capita_can_2015[\"per_capita\"]=per_capita_can_2015.cancer/per_capita_can_2015.total_deaths\n",
    "per_capita_can_2015[\"per_capita_10000\"]=per_capita_can_2015[\"per_capita\"].apply(lambda t: t*10000)\n",
    "per_capita_can_2015[\"year\"]=[\"2015\",\"2015\",\"2015\",\"2015\",]\n",
    "per_capita_can_2015[\"race_recode_capstone\"]=[\"white\", \"black\", \"hispanic\", \"other\"]\n",
    "\n",
    "ans=per_capita_can_2015.per_capita_10000\n",
    "ans.index = [\"white\", \"black\", \"hispanic\", \"other\"]\n",
    "ans.plot(kind=\"bar\")\n",
    "\n",
    "per_capita_can_2015"
   ]
  },
  {
   "cell_type": "code",
   "execution_count": 28,
   "metadata": {},
   "outputs": [
    {
     "data": {
      "text/html": [
       "<div>\n",
       "<style scoped>\n",
       "    .dataframe tbody tr th:only-of-type {\n",
       "        vertical-align: middle;\n",
       "    }\n",
       "\n",
       "    .dataframe tbody tr th {\n",
       "        vertical-align: top;\n",
       "    }\n",
       "\n",
       "    .dataframe thead th {\n",
       "        text-align: right;\n",
       "    }\n",
       "</style>\n",
       "<table border=\"1\" class=\"dataframe\">\n",
       "  <thead>\n",
       "    <tr style=\"text-align: right;\">\n",
       "      <th></th>\n",
       "      <th>race_recode_capstone</th>\n",
       "      <th>total_deaths</th>\n",
       "      <th>cancer</th>\n",
       "      <th>per_capita</th>\n",
       "      <th>per_capita_10000</th>\n",
       "      <th>year</th>\n",
       "    </tr>\n",
       "  </thead>\n",
       "  <tbody>\n",
       "    <tr>\n",
       "      <th>0</th>\n",
       "      <td>white</td>\n",
       "      <td>494815</td>\n",
       "      <td>125095</td>\n",
       "      <td>0.252812</td>\n",
       "      <td>2528.116569</td>\n",
       "      <td>2016</td>\n",
       "    </tr>\n",
       "    <tr>\n",
       "      <th>1</th>\n",
       "      <td>black</td>\n",
       "      <td>137981</td>\n",
       "      <td>28425</td>\n",
       "      <td>0.206007</td>\n",
       "      <td>2060.066241</td>\n",
       "      <td>2016</td>\n",
       "    </tr>\n",
       "    <tr>\n",
       "      <th>2</th>\n",
       "      <td>hispanic</td>\n",
       "      <td>79766</td>\n",
       "      <td>16590</td>\n",
       "      <td>0.207983</td>\n",
       "      <td>2079.833513</td>\n",
       "      <td>2016</td>\n",
       "    </tr>\n",
       "    <tr>\n",
       "      <th>3</th>\n",
       "      <td>other</td>\n",
       "      <td>28091</td>\n",
       "      <td>7724</td>\n",
       "      <td>0.274964</td>\n",
       "      <td>2749.635114</td>\n",
       "      <td>2016</td>\n",
       "    </tr>\n",
       "  </tbody>\n",
       "</table>\n",
       "</div>"
      ],
      "text/plain": [
       "  race_recode_capstone  total_deaths  cancer  per_capita  per_capita_10000  \\\n",
       "0                white        494815  125095    0.252812       2528.116569   \n",
       "1                black        137981   28425    0.206007       2060.066241   \n",
       "2             hispanic         79766   16590    0.207983       2079.833513   \n",
       "3                other         28091    7724    0.274964       2749.635114   \n",
       "\n",
       "   year  \n",
       "0  2016  \n",
       "1  2016  \n",
       "2  2016  \n",
       "3  2016  "
      ]
     },
     "execution_count": 28,
     "metadata": {},
     "output_type": "execute_result"
    },
    {
     "data": {
      "image/png": "[encoded data removed]",
      "text/plain": [
       "<Figure size 432x288 with 1 Axes>"
      ]
     },
     "metadata": {
      "needs_background": "light"
     },
     "output_type": "display_data"
    }
   ],
   "source": [
    "## PER CAPITA - RACE ##\n",
    "\n",
    "# 2016 total deaths per race\n",
    "tot_can_2016=person_age_info_2016_age.race_recode_capstone.value_counts().reset_index()\n",
    "\n",
    "# 2016 Cancer popultion: race class and heart disease \n",
    "race_can_2016=can_age_2016.race_recode_capstone.value_counts().reset_index()\n",
    "\n",
    "#merge & create new columns \n",
    "per_capita_can_2016=pd.merge(tot_can_2016,race_can_2016, on=\"index\").rename(columns={\"index\":\"race_recode_capstone\", \"race_recode_capstone_x\":\"total_deaths\", \"race_recode_capstone_y\":\"cancer\"})\n",
    "per_capita_can_2016[\"per_capita\"]=per_capita_can_2016.cancer/per_capita_can_2016.total_deaths\n",
    "per_capita_can_2016[\"per_capita_10000\"]=per_capita_can_2016[\"per_capita\"].apply(lambda t: t*10000)\n",
    "per_capita_can_2016[\"year\"]=[\"2016\",\"2016\",\"2016\",\"2016\",]\n",
    "per_capita_can_2016[\"race_recode_capstone\"]=[\"white\", \"black\", \"hispanic\", \"other\"]\n",
    "\n",
    "ans=per_capita_can_2016.per_capita_10000\n",
    "ans.index = [\"white\", \"black\", \"hispanic\", \"other\"]\n",
    "ans.plot(kind=\"bar\")\n",
    "\n",
    "per_capita_can_2016"
   ]
  },
  {
   "cell_type": "code",
   "execution_count": 29,
   "metadata": {
    "scrolled": false
   },
   "outputs": [
    {
     "data": {
      "text/html": [
       "<div>\n",
       "<style scoped>\n",
       "    .dataframe tbody tr th:only-of-type {\n",
       "        vertical-align: middle;\n",
       "    }\n",
       "\n",
       "    .dataframe tbody tr th {\n",
       "        vertical-align: top;\n",
       "    }\n",
       "\n",
       "    .dataframe thead th {\n",
       "        text-align: right;\n",
       "    }\n",
       "</style>\n",
       "<table border=\"1\" class=\"dataframe\">\n",
       "  <thead>\n",
       "    <tr style=\"text-align: right;\">\n",
       "      <th></th>\n",
       "      <th>race_recode_capstone</th>\n",
       "      <th>total_deaths</th>\n",
       "      <th>cancer</th>\n",
       "      <th>per_capita</th>\n",
       "      <th>per_capita_10000</th>\n",
       "      <th>year</th>\n",
       "    </tr>\n",
       "  </thead>\n",
       "  <tbody>\n",
       "    <tr>\n",
       "      <th>0</th>\n",
       "      <td>white</td>\n",
       "      <td>495130</td>\n",
       "      <td>122101</td>\n",
       "      <td>0.246604</td>\n",
       "      <td>2466.039222</td>\n",
       "      <td>2017</td>\n",
       "    </tr>\n",
       "    <tr>\n",
       "      <th>1</th>\n",
       "      <td>black</td>\n",
       "      <td>139909</td>\n",
       "      <td>27415</td>\n",
       "      <td>0.195949</td>\n",
       "      <td>1959.487953</td>\n",
       "      <td>2017</td>\n",
       "    </tr>\n",
       "    <tr>\n",
       "      <th>2</th>\n",
       "      <td>hispanic</td>\n",
       "      <td>82292</td>\n",
       "      <td>16697</td>\n",
       "      <td>0.202899</td>\n",
       "      <td>2028.994313</td>\n",
       "      <td>2017</td>\n",
       "    </tr>\n",
       "    <tr>\n",
       "      <th>3</th>\n",
       "      <td>other</td>\n",
       "      <td>28639</td>\n",
       "      <td>7659</td>\n",
       "      <td>0.267433</td>\n",
       "      <td>2674.325221</td>\n",
       "      <td>2017</td>\n",
       "    </tr>\n",
       "  </tbody>\n",
       "</table>\n",
       "</div>"
      ],
      "text/plain": [
       "  race_recode_capstone  total_deaths  cancer  per_capita  per_capita_10000  \\\n",
       "0                white        495130  122101    0.246604       2466.039222   \n",
       "1                black        139909   27415    0.195949       1959.487953   \n",
       "2             hispanic         82292   16697    0.202899       2028.994313   \n",
       "3                other         28639    7659    0.267433       2674.325221   \n",
       "\n",
       "   year  \n",
       "0  2017  \n",
       "1  2017  \n",
       "2  2017  \n",
       "3  2017  "
      ]
     },
     "execution_count": 29,
     "metadata": {},
     "output_type": "execute_result"
    },
    {
     "data": {
      "image/png": "[encoded data removed]",
      "text/plain": [
       "<Figure size 432x288 with 1 Axes>"
      ]
     },
     "metadata": {
      "needs_background": "light"
     },
     "output_type": "display_data"
    }
   ],
   "source": [
    "## PER CAPITA - RACE ##\n",
    "\n",
    "# 2017 total deaths per race\n",
    "tot_can_2017=person_age_info_2017_age.race_recode_capstone.value_counts().reset_index()\n",
    "\n",
    "# 2017 Cancer popultion: race class and heart disease \n",
    "race_can_2017=can_age_2017.race_recode_capstone.value_counts().reset_index()\n",
    "\n",
    "#merge & create new columns \n",
    "per_capita_can_2017=pd.merge(tot_can_2017,race_can_2017, on=\"index\").rename(columns={\"index\":\"race_recode_capstone\", \"race_recode_capstone_x\":\"total_deaths\", \"race_recode_capstone_y\":\"cancer\"})\n",
    "per_capita_can_2017[\"per_capita\"]=per_capita_can_2017.cancer/per_capita_can_2017.total_deaths\n",
    "per_capita_can_2017[\"per_capita_10000\"]=per_capita_can_2017[\"per_capita\"].apply(lambda t: t*10000)\n",
    "per_capita_can_2017[\"year\"]=[\"2017\",\"2017\",\"2017\",\"2017\",]\n",
    "per_capita_can_2017[\"race_recode_capstone\"]=[\"white\", \"black\", \"hispanic\", \"other\"]\n",
    "\n",
    "ans=per_capita_can_2017.per_capita_10000\n",
    "ans.index = [\"white\", \"black\", \"hispanic\", \"other\"]\n",
    "ans.plot(kind=\"bar\")\n",
    "\n",
    "per_capita_can_2017\n",
    "\n",
    "\n"
   ]
  },
  {
   "cell_type": "code",
   "execution_count": 30,
   "metadata": {
    "scrolled": false
   },
   "outputs": [
    {
     "data": {
      "text/html": [
       "<div>\n",
       "<style scoped>\n",
       "    .dataframe tbody tr th:only-of-type {\n",
       "        vertical-align: middle;\n",
       "    }\n",
       "\n",
       "    .dataframe tbody tr th {\n",
       "        vertical-align: top;\n",
       "    }\n",
       "\n",
       "    .dataframe thead th {\n",
       "        text-align: right;\n",
       "    }\n",
       "</style>\n",
       "<table border=\"1\" class=\"dataframe\">\n",
       "  <thead>\n",
       "    <tr style=\"text-align: right;\">\n",
       "      <th></th>\n",
       "      <th>race_recode_capstone</th>\n",
       "      <th>total_deaths</th>\n",
       "      <th>cancer</th>\n",
       "      <th>per_capita</th>\n",
       "      <th>per_capita_10000</th>\n",
       "      <th>year</th>\n",
       "    </tr>\n",
       "  </thead>\n",
       "  <tbody>\n",
       "    <tr>\n",
       "      <th>0</th>\n",
       "      <td>white</td>\n",
       "      <td>486746</td>\n",
       "      <td>119168</td>\n",
       "      <td>0.244826</td>\n",
       "      <td>2448.258435</td>\n",
       "      <td>2018</td>\n",
       "    </tr>\n",
       "    <tr>\n",
       "      <th>1</th>\n",
       "      <td>black</td>\n",
       "      <td>140379</td>\n",
       "      <td>26817</td>\n",
       "      <td>0.191033</td>\n",
       "      <td>1910.328468</td>\n",
       "      <td>2018</td>\n",
       "    </tr>\n",
       "    <tr>\n",
       "      <th>2</th>\n",
       "      <td>hispanic</td>\n",
       "      <td>83557</td>\n",
       "      <td>17214</td>\n",
       "      <td>0.206015</td>\n",
       "      <td>2060.150556</td>\n",
       "      <td>2018</td>\n",
       "    </tr>\n",
       "    <tr>\n",
       "      <th>3</th>\n",
       "      <td>other</td>\n",
       "      <td>29116</td>\n",
       "      <td>7515</td>\n",
       "      <td>0.258106</td>\n",
       "      <td>2581.055090</td>\n",
       "      <td>2018</td>\n",
       "    </tr>\n",
       "  </tbody>\n",
       "</table>\n",
       "</div>"
      ],
      "text/plain": [
       "  race_recode_capstone  total_deaths  cancer  per_capita  per_capita_10000  \\\n",
       "0                white        486746  119168    0.244826       2448.258435   \n",
       "1                black        140379   26817    0.191033       1910.328468   \n",
       "2             hispanic         83557   17214    0.206015       2060.150556   \n",
       "3                other         29116    7515    0.258106       2581.055090   \n",
       "\n",
       "   year  \n",
       "0  2018  \n",
       "1  2018  \n",
       "2  2018  \n",
       "3  2018  "
      ]
     },
     "execution_count": 30,
     "metadata": {},
     "output_type": "execute_result"
    },
    {
     "data": {
      "image/png": "[encoded data removed]",
      "text/plain": [
       "<Figure size 432x288 with 1 Axes>"
      ]
     },
     "metadata": {
      "needs_background": "light"
     },
     "output_type": "display_data"
    }
   ],
   "source": [
    "## PER CAPITA - RACE ##\n",
    "\n",
    "# 2018 total deaths per race\n",
    "tot_can_2018=person_age_info_2018_age.race_recode_capstone.value_counts().reset_index()\n",
    "\n",
    "# 2018 Cancer popultion: race class and heart disease \n",
    "race_can_2018=can_age_2018.race_recode_capstone.value_counts().reset_index()\n",
    "\n",
    "#merge & create new columns \n",
    "per_capita_can_2018=pd.merge(tot_can_2018,race_can_2018, on=\"index\").rename(columns={\"index\":\"race_recode_capstone\", \"race_recode_capstone_x\":\"total_deaths\", \"race_recode_capstone_y\":\"cancer\"})\n",
    "per_capita_can_2018[\"per_capita\"]=per_capita_can_2018.cancer/per_capita_can_2018.total_deaths\n",
    "per_capita_can_2018[\"per_capita_10000\"]=per_capita_can_2018[\"per_capita\"].apply(lambda t: t*10000)\n",
    "per_capita_can_2018[\"year\"]=[\"2018\",\"2018\",\"2018\",\"2018\",]\n",
    "per_capita_can_2018[\"race_recode_capstone\"]=[\"white\", \"black\", \"hispanic\", \"other\"]\n",
    "\n",
    "\n",
    "ans=per_capita_can_2018.per_capita_10000\n",
    "ans.index = [\"white\", \"black\", \"hispanic\", \"other\"]\n",
    "ans.plot(kind=\"bar\")\n",
    "\n",
    "per_capita_can_2018\n",
    "\n"
   ]
  },
  {
   "cell_type": "code",
   "execution_count": 31,
   "metadata": {
    "scrolled": false
   },
   "outputs": [
    {
     "data": {
      "text/html": [
       "<div>\n",
       "<style scoped>\n",
       "    .dataframe tbody tr th:only-of-type {\n",
       "        vertical-align: middle;\n",
       "    }\n",
       "\n",
       "    .dataframe tbody tr th {\n",
       "        vertical-align: top;\n",
       "    }\n",
       "\n",
       "    .dataframe thead th {\n",
       "        text-align: right;\n",
       "    }\n",
       "</style>\n",
       "<table border=\"1\" class=\"dataframe\">\n",
       "  <thead>\n",
       "    <tr style=\"text-align: right;\">\n",
       "      <th></th>\n",
       "      <th></th>\n",
       "      <th>total_deaths</th>\n",
       "      <th>cancer</th>\n",
       "      <th>per_capita</th>\n",
       "      <th>per_capita_10000</th>\n",
       "    </tr>\n",
       "    <tr>\n",
       "      <th>year</th>\n",
       "      <th>race_recode_capstone</th>\n",
       "      <th></th>\n",
       "      <th></th>\n",
       "      <th></th>\n",
       "      <th></th>\n",
       "    </tr>\n",
       "  </thead>\n",
       "  <tbody>\n",
       "    <tr>\n",
       "      <th rowspan=\"4\" valign=\"top\">2012</th>\n",
       "      <th>black</th>\n",
       "      <td>125445</td>\n",
       "      <td>28533</td>\n",
       "      <td>0.227454</td>\n",
       "      <td>2274.542628</td>\n",
       "    </tr>\n",
       "    <tr>\n",
       "      <th>hispanic</th>\n",
       "      <td>67604</td>\n",
       "      <td>14947</td>\n",
       "      <td>0.221096</td>\n",
       "      <td>2210.963848</td>\n",
       "    </tr>\n",
       "    <tr>\n",
       "      <th>other</th>\n",
       "      <td>24227</td>\n",
       "      <td>6950</td>\n",
       "      <td>0.286870</td>\n",
       "      <td>2868.700211</td>\n",
       "    </tr>\n",
       "    <tr>\n",
       "      <th>white</th>\n",
       "      <td>467775</td>\n",
       "      <td>131490</td>\n",
       "      <td>0.281097</td>\n",
       "      <td>2810.966811</td>\n",
       "    </tr>\n",
       "    <tr>\n",
       "      <th rowspan=\"4\" valign=\"top\">2013</th>\n",
       "      <th>black</th>\n",
       "      <td>127500</td>\n",
       "      <td>28508</td>\n",
       "      <td>0.223592</td>\n",
       "      <td>2235.921569</td>\n",
       "    </tr>\n",
       "    <tr>\n",
       "      <th>hispanic</th>\n",
       "      <td>68867</td>\n",
       "      <td>15111</td>\n",
       "      <td>0.219423</td>\n",
       "      <td>2194.229457</td>\n",
       "    </tr>\n",
       "    <tr>\n",
       "      <th>other</th>\n",
       "      <td>24835</td>\n",
       "      <td>6989</td>\n",
       "      <td>0.281417</td>\n",
       "      <td>2814.173545</td>\n",
       "    </tr>\n",
       "    <tr>\n",
       "      <th>white</th>\n",
       "      <td>471019</td>\n",
       "      <td>129505</td>\n",
       "      <td>0.274946</td>\n",
       "      <td>2749.464459</td>\n",
       "    </tr>\n",
       "    <tr>\n",
       "      <th rowspan=\"4\" valign=\"top\">2014</th>\n",
       "      <th>black</th>\n",
       "      <td>128774</td>\n",
       "      <td>28660</td>\n",
       "      <td>0.222560</td>\n",
       "      <td>2225.604548</td>\n",
       "    </tr>\n",
       "    <tr>\n",
       "      <th>hispanic</th>\n",
       "      <td>72143</td>\n",
       "      <td>15573</td>\n",
       "      <td>0.215863</td>\n",
       "      <td>2158.629389</td>\n",
       "    </tr>\n",
       "    <tr>\n",
       "      <th>other</th>\n",
       "      <td>25615</td>\n",
       "      <td>7112</td>\n",
       "      <td>0.277650</td>\n",
       "      <td>2776.498146</td>\n",
       "    </tr>\n",
       "    <tr>\n",
       "      <th>white</th>\n",
       "      <td>477452</td>\n",
       "      <td>129342</td>\n",
       "      <td>0.270901</td>\n",
       "      <td>2709.005303</td>\n",
       "    </tr>\n",
       "    <tr>\n",
       "      <th rowspan=\"4\" valign=\"top\">2015</th>\n",
       "      <th>black</th>\n",
       "      <td>132882</td>\n",
       "      <td>28436</td>\n",
       "      <td>0.213994</td>\n",
       "      <td>2139.943709</td>\n",
       "    </tr>\n",
       "    <tr>\n",
       "      <th>hispanic</th>\n",
       "      <td>75874</td>\n",
       "      <td>16134</td>\n",
       "      <td>0.212642</td>\n",
       "      <td>2126.420118</td>\n",
       "    </tr>\n",
       "    <tr>\n",
       "      <th>other</th>\n",
       "      <td>26691</td>\n",
       "      <td>7392</td>\n",
       "      <td>0.276947</td>\n",
       "      <td>2769.472856</td>\n",
       "    </tr>\n",
       "    <tr>\n",
       "      <th>white</th>\n",
       "      <td>484762</td>\n",
       "      <td>127506</td>\n",
       "      <td>0.263028</td>\n",
       "      <td>2630.280426</td>\n",
       "    </tr>\n",
       "    <tr>\n",
       "      <th rowspan=\"4\" valign=\"top\">2016</th>\n",
       "      <th>black</th>\n",
       "      <td>137981</td>\n",
       "      <td>28425</td>\n",
       "      <td>0.206007</td>\n",
       "      <td>2060.066241</td>\n",
       "    </tr>\n",
       "    <tr>\n",
       "      <th>hispanic</th>\n",
       "      <td>79766</td>\n",
       "      <td>16590</td>\n",
       "      <td>0.207983</td>\n",
       "      <td>2079.833513</td>\n",
       "    </tr>\n",
       "    <tr>\n",
       "      <th>other</th>\n",
       "      <td>28091</td>\n",
       "      <td>7724</td>\n",
       "      <td>0.274964</td>\n",
       "      <td>2749.635114</td>\n",
       "    </tr>\n",
       "    <tr>\n",
       "      <th>white</th>\n",
       "      <td>494815</td>\n",
       "      <td>125095</td>\n",
       "      <td>0.252812</td>\n",
       "      <td>2528.116569</td>\n",
       "    </tr>\n",
       "    <tr>\n",
       "      <th rowspan=\"4\" valign=\"top\">2017</th>\n",
       "      <th>black</th>\n",
       "      <td>139909</td>\n",
       "      <td>27415</td>\n",
       "      <td>0.195949</td>\n",
       "      <td>1959.487953</td>\n",
       "    </tr>\n",
       "    <tr>\n",
       "      <th>hispanic</th>\n",
       "      <td>82292</td>\n",
       "      <td>16697</td>\n",
       "      <td>0.202899</td>\n",
       "      <td>2028.994313</td>\n",
       "    </tr>\n",
       "    <tr>\n",
       "      <th>other</th>\n",
       "      <td>28639</td>\n",
       "      <td>7659</td>\n",
       "      <td>0.267433</td>\n",
       "      <td>2674.325221</td>\n",
       "    </tr>\n",
       "    <tr>\n",
       "      <th>white</th>\n",
       "      <td>495130</td>\n",
       "      <td>122101</td>\n",
       "      <td>0.246604</td>\n",
       "      <td>2466.039222</td>\n",
       "    </tr>\n",
       "    <tr>\n",
       "      <th rowspan=\"4\" valign=\"top\">2018</th>\n",
       "      <th>black</th>\n",
       "      <td>140379</td>\n",
       "      <td>26817</td>\n",
       "      <td>0.191033</td>\n",
       "      <td>1910.328468</td>\n",
       "    </tr>\n",
       "    <tr>\n",
       "      <th>hispanic</th>\n",
       "      <td>83557</td>\n",
       "      <td>17214</td>\n",
       "      <td>0.206015</td>\n",
       "      <td>2060.150556</td>\n",
       "    </tr>\n",
       "    <tr>\n",
       "      <th>other</th>\n",
       "      <td>29116</td>\n",
       "      <td>7515</td>\n",
       "      <td>0.258106</td>\n",
       "      <td>2581.055090</td>\n",
       "    </tr>\n",
       "    <tr>\n",
       "      <th>white</th>\n",
       "      <td>486746</td>\n",
       "      <td>119168</td>\n",
       "      <td>0.244826</td>\n",
       "      <td>2448.258435</td>\n",
       "    </tr>\n",
       "  </tbody>\n",
       "</table>\n",
       "</div>"
      ],
      "text/plain": [
       "                           total_deaths  cancer  per_capita  per_capita_10000\n",
       "year race_recode_capstone                                                    \n",
       "2012 black                       125445   28533    0.227454       2274.542628\n",
       "     hispanic                     67604   14947    0.221096       2210.963848\n",
       "     other                        24227    6950    0.286870       2868.700211\n",
       "     white                       467775  131490    0.281097       2810.966811\n",
       "2013 black                       127500   28508    0.223592       2235.921569\n",
       "     hispanic                     68867   15111    0.219423       2194.229457\n",
       "     other                        24835    6989    0.281417       2814.173545\n",
       "     white                       471019  129505    0.274946       2749.464459\n",
       "2014 black                       128774   28660    0.222560       2225.604548\n",
       "     hispanic                     72143   15573    0.215863       2158.629389\n",
       "     other                        25615    7112    0.277650       2776.498146\n",
       "     white                       477452  129342    0.270901       2709.005303\n",
       "2015 black                       132882   28436    0.213994       2139.943709\n",
       "     hispanic                     75874   16134    0.212642       2126.420118\n",
       "     other                        26691    7392    0.276947       2769.472856\n",
       "     white                       484762  127506    0.263028       2630.280426\n",
       "2016 black                       137981   28425    0.206007       2060.066241\n",
       "     hispanic                     79766   16590    0.207983       2079.833513\n",
       "     other                        28091    7724    0.274964       2749.635114\n",
       "     white                       494815  125095    0.252812       2528.116569\n",
       "2017 black                       139909   27415    0.195949       1959.487953\n",
       "     hispanic                     82292   16697    0.202899       2028.994313\n",
       "     other                        28639    7659    0.267433       2674.325221\n",
       "     white                       495130  122101    0.246604       2466.039222\n",
       "2018 black                       140379   26817    0.191033       1910.328468\n",
       "     hispanic                     83557   17214    0.206015       2060.150556\n",
       "     other                        29116    7515    0.258106       2581.055090\n",
       "     white                       486746  119168    0.244826       2448.258435"
      ]
     },
     "execution_count": 31,
     "metadata": {},
     "output_type": "execute_result"
    }
   ],
   "source": [
    "per_capita_can_total=pd.concat([per_capita_can_2018,\n",
    "           per_capita_can_2017,\n",
    "           per_capita_can_2016,\n",
    "           per_capita_can_2015,\n",
    "           per_capita_can_2014,\n",
    "           per_capita_can_2013,\n",
    "           per_capita_can_2012,\n",
    "          ])\n",
    "\n",
    "per_capita_can_total.groupby([\"year\",\"race_recode_capstone\"]).sum()\n"
   ]
  },
  {
   "cell_type": "code",
   "execution_count": 32,
   "metadata": {
    "scrolled": true
   },
   "outputs": [
    {
     "data": {
      "text/plain": [
       "<matplotlib.axes._subplots.AxesSubplot at 0x7f8d8f462c10>"
      ]
     },
     "execution_count": 32,
     "metadata": {},
     "output_type": "execute_result"
    },
    {
     "data": {
      "image/png": "[encoded data removed]",
      "text/plain": [
       "<Figure size 432x288 with 1 Axes>"
      ]
     },
     "metadata": {
      "needs_background": "light"
     },
     "output_type": "display_data"
    }
   ],
   "source": [
    "per_capita_can_total.groupby([\"year\"])['per_capita_10000'].sum().plot(kind=\"line\")"
   ]
  },
  {
   "cell_type": "code",
   "execution_count": 44,
   "metadata": {
    "scrolled": true
   },
   "outputs": [
    {
     "data": {
      "text/plain": [
       "<matplotlib.legend.Legend at 0x7f8daa3c00d0>"
      ]
     },
     "execution_count": 44,
     "metadata": {},
     "output_type": "execute_result"
    },
    {
     "data": {
      "image/png": "[encoded data removed]",
      "text/plain": [
       "<Figure size 432x288 with 1 Axes>"
      ]
     },
     "metadata": {
      "needs_background": "light"
     },
     "output_type": "display_data"
    }
   ],
   "source": [
    "per_capita_can_total[per_capita_can_total.race_recode_capstone==\"white\"].groupby([\"year\"])['per_capita_10000'].sum().plot(kind=\"line\")\n",
    "per_capita_can_total[per_capita_can_total.race_recode_capstone==\"black\"].groupby([\"year\"])['per_capita_10000'].sum().plot(kind=\"line\")\n",
    "per_capita_can_total[per_capita_can_total.race_recode_capstone==\"hispanic\"].groupby([\"year\"])['per_capita_10000'].sum().plot(kind=\"line\")\n",
    "per_capita_can_total[per_capita_can_total.race_recode_capstone==\"other\"].groupby([\"year\"])['per_capita_10000'].sum().plot(kind=\"line\")\n",
    "\n",
    "plt.legend((\"white\", \"black\", \"hispanic\", \"other\"))\n"
   ]
  },
  {
   "cell_type": "code",
   "execution_count": 45,
   "metadata": {},
   "outputs": [
    {
     "data": {
      "text/plain": [
       "F_onewayResult(statistic=array([5931.67744821,   56.79245283,   56.04339325]), pvalue=array([1.43518280e-34, 4.76164179e-11, 5.47054600e-11]))"
      ]
     },
     "execution_count": 45,
     "metadata": {},
     "output_type": "execute_result"
    }
   ],
   "source": [
    "from scipy.stats import f_oneway\n",
    "\n",
    "\n",
    "w=per_capita_can_total[per_capita_can_total.race_recode_capstone==\"white\"].groupby([\"year\", \"cancer\"]).sum()\n",
    "b=per_capita_can_total[per_capita_can_total.race_recode_capstone==\"black\"].groupby([\"year\",\"cancer\"]).sum()\n",
    "h=per_capita_can_total[per_capita_can_total.race_recode_capstone==\"hispanic\"].groupby([\"year\",\"cancer\"]).sum()\n",
    "o=per_capita_can_total[per_capita_can_total.race_recode_capstone==\"other\"].groupby([\"year\",\"cancer\"]).sum()\n",
    "\n",
    "\n",
    "f_oneway(w,b,h,o)\n",
    "\n",
    "#The p-value is below the  5%  threshold\n",
    "#Based on the current data, it seems that there is a significant difference between \n",
    "#the race and cancer.\n"
   ]
  },
  {
   "cell_type": "code",
   "execution_count": 50,
   "metadata": {
    "scrolled": true
   },
   "outputs": [
    {
     "data": {
      "text/plain": [
       "race_recode_capstone  sex\n",
       "1                     F       8407\n",
       "                      M       8807\n",
       "2                     F      55749\n",
       "                      M      63419\n",
       "3                     F      13656\n",
       "                      M      13161\n",
       "4                     F       3875\n",
       "                      M       3640\n",
       "dtype: int64"
      ]
     },
     "execution_count": 50,
     "metadata": {},
     "output_type": "execute_result"
    }
   ],
   "source": [
    "can_age_2018.groupby([\"race_recode_capstone\",\"sex\"]).size()#.plot(kind=\"bar\")"
   ]
  },
  {
   "cell_type": "markdown",
   "metadata": {},
   "source": [
    "# --------------------------------------------------------------- "
   ]
  },
  {
   "cell_type": "markdown",
   "metadata": {},
   "source": [
    "## Heart Disease among people less than 65 years old \n",
    "##### Rates per 100,000 population"
   ]
  },
  {
   "cell_type": "code",
   "execution_count": 51,
   "metadata": {
    "scrolled": true
   },
   "outputs": [
    {
     "name": "stdout",
     "output_type": "stream",
     "text": [
      "Total heart disease population: 868662\n",
      "Older than 65 years old: 0.81\n",
      "Younger than 65 years old: 0.19\n"
     ]
    }
   ],
   "source": [
    "hd2018.age_recode_27=hd2018.age_recode_27.astype(np.int64)\n",
    "print(\"Total heart disease population: %s\" %hd2018.shape[0])\n",
    "print(\"Older than 65 years old: %.2f\" %(hd2018[hd2018.age_recode_27>18].shape[0]/hd2018.shape[0]))\n",
    "print(\"Younger than 65 years old: %.2f\" %(hd2018[hd2018.age_recode_27<=18].shape[0]/hd2018.shape[0]))"
   ]
  },
  {
   "cell_type": "code",
   "execution_count": 52,
   "metadata": {},
   "outputs": [],
   "source": [
    "hd_age_2012=hd2012.copy()\n",
    "hd_age_2012=hd2012[hd_age_2012.age_recode_27<=18]\n",
    "\n",
    "hd_age_2013=hd2013.copy()\n",
    "hd_age_2013=hd2013[hd_age_2013.age_recode_27<=18]\n",
    "\n",
    "hd_age_2014=hd2014.copy()\n",
    "hd_age_2014=hd2014[hd_age_2014.age_recode_27<=18]\n",
    "\n",
    "hd_age_2015=hd2015.copy()\n",
    "hd_age_2015=hd2015[hd_age_2015.age_recode_27<=18]\n",
    "\n",
    "hd_age_2016=hd2016.copy()\n",
    "hd_age_2016=hd2016[hd_age_2016.age_recode_27<=18]\n",
    "\n",
    "hd_age_2017=hd2017.copy()\n",
    "hd_age_2017=hd2017[hd_age_2017.age_recode_27<=18]\n",
    "\n",
    "hd_age_2018=hd2018.copy()\n",
    "hd_age_2018=hd2018[hd_age_2018.age_recode_27<=18]"
   ]
  },
  {
   "cell_type": "code",
   "execution_count": 113,
   "metadata": {
    "scrolled": false
   },
   "outputs": [
    {
     "name": "stdout",
     "output_type": "stream",
     "text": [
      "211    26365\n",
      "215    24904\n",
      "214    21416\n",
      "207    15021\n",
      "228     9685\n",
      "227     6999\n",
      "236     6629\n",
      "238     5425\n",
      "230     5142\n",
      "233     4798\n",
      "Name: cause_recode_358, dtype: int64\n"
     ]
    },
    {
     "data": {
      "text/plain": [
       "Text(0, 0.5, 'Number of deaths')"
      ]
     },
     "execution_count": 113,
     "metadata": {},
     "output_type": "execute_result"
    },
    {
     "data": {
      "image/png": "[encoded data removed]",
      "text/plain": [
       "<Figure size 432x288 with 1 Axes>"
      ]
     },
     "metadata": {
      "needs_background": "light"
     },
     "output_type": "display_data"
    }
   ],
   "source": [
    "#Top 10 heart disease deaths in 2018 for population younger than 65\n",
    "\n",
    "print(hd_age_2018['cause_recode_358'].value_counts().head(10))\n",
    "hd_age['cause_recode_358'].value_counts().head(10).plot(kind='bar', x='cause_recode_358')\n",
    "plt.xlabel(\"Types of heart disease deaths\")\n",
    "plt.ylabel(\"Number of deaths\")\n",
    "\n",
    "#211 Acute myocardial infarction (I21-I22) \n",
    "#215 All other forms of chronic ischemic heart disease (I20,I25.1-I25.9) \n",
    "#214 Atherosclerotic cardiovascular disease, so described (I25.0)\n",
    "#207 Hypertensive heart disease (I11) \n",
    "#227 Cardiomyopathy (I42) \n",
    "#228 Conduction disorders and cardiac dysrhythmias (I44-I49)\n",
    "#236 3 Intracerebral and other intracranial hemorrhage (I61-I62)\n",
    "#238 Stroke, not specified as hemorrhage or infarction (I64) \n",
    "#230 Congestive heart failure (I50.0)   \n",
    "#233 All other and ill-defined forms of heart disease (I50.0-I51.3,I51.6-I51.9) \n"
   ]
  },
  {
   "cell_type": "code",
   "execution_count": 114,
   "metadata": {
    "scrolled": true
   },
   "outputs": [
    {
     "data": {
      "text/plain": [
       "Text(0, 0.5, 'Number of Deaths')"
      ]
     },
     "execution_count": 114,
     "metadata": {},
     "output_type": "execute_result"
    },
    {
     "data": {
      "image/png": "[encoded data removed]",
      "text/plain": [
       "<Figure size 432x288 with 1 Axes>"
      ]
     },
     "metadata": {
      "needs_background": "light"
     },
     "output_type": "display_data"
    }
   ],
   "source": [
    "#type of disease compared to Female and Male\n",
    "\n",
    "def top_val_count(x, n=10):\n",
    "    return x.value_counts().head(n)\n",
    "\n",
    "plot_hd=hd_age_2018.groupby([\"sex\"]).cause_recode_358\n",
    "plot_hd.apply(top_val_count).plot(kind=\"bar\", x='cause_recode_358')\n",
    "plt.xlabel(\"Type of Heart Disease\")\n",
    "plt.ylabel(\"Number of Deaths\")\n",
    "\n",
    "#seems like males are at a higher risk of dying from a heart disease"
   ]
  },
  {
   "cell_type": "markdown",
   "metadata": {},
   "source": [
    "### Heart Disease Per Capita "
   ]
  },
  {
   "cell_type": "code",
   "execution_count": 53,
   "metadata": {},
   "outputs": [
    {
     "data": {
      "text/html": [
       "<div>\n",
       "<style scoped>\n",
       "    .dataframe tbody tr th:only-of-type {\n",
       "        vertical-align: middle;\n",
       "    }\n",
       "\n",
       "    .dataframe tbody tr th {\n",
       "        vertical-align: top;\n",
       "    }\n",
       "\n",
       "    .dataframe thead th {\n",
       "        text-align: right;\n",
       "    }\n",
       "</style>\n",
       "<table border=\"1\" class=\"dataframe\">\n",
       "  <thead>\n",
       "    <tr style=\"text-align: right;\">\n",
       "      <th></th>\n",
       "      <th>race_recode_capstone</th>\n",
       "      <th>total_deaths</th>\n",
       "      <th>heart_disease</th>\n",
       "      <th>per_capita</th>\n",
       "      <th>per_capita_10000</th>\n",
       "      <th>year</th>\n",
       "    </tr>\n",
       "  </thead>\n",
       "  <tbody>\n",
       "    <tr>\n",
       "      <th>0</th>\n",
       "      <td>white</td>\n",
       "      <td>467775</td>\n",
       "      <td>101662</td>\n",
       "      <td>0.217331</td>\n",
       "      <td>2173.309818</td>\n",
       "      <td>2012</td>\n",
       "    </tr>\n",
       "    <tr>\n",
       "      <th>1</th>\n",
       "      <td>black</td>\n",
       "      <td>125445</td>\n",
       "      <td>33464</td>\n",
       "      <td>0.266762</td>\n",
       "      <td>2667.623261</td>\n",
       "      <td>2012</td>\n",
       "    </tr>\n",
       "    <tr>\n",
       "      <th>2</th>\n",
       "      <td>hispanic</td>\n",
       "      <td>67604</td>\n",
       "      <td>12172</td>\n",
       "      <td>0.180049</td>\n",
       "      <td>1800.485178</td>\n",
       "      <td>2012</td>\n",
       "    </tr>\n",
       "    <tr>\n",
       "      <th>3</th>\n",
       "      <td>other</td>\n",
       "      <td>24227</td>\n",
       "      <td>4988</td>\n",
       "      <td>0.205886</td>\n",
       "      <td>2058.859950</td>\n",
       "      <td>2012</td>\n",
       "    </tr>\n",
       "  </tbody>\n",
       "</table>\n",
       "</div>"
      ],
      "text/plain": [
       "  race_recode_capstone  total_deaths  heart_disease  per_capita  \\\n",
       "0                white        467775         101662    0.217331   \n",
       "1                black        125445          33464    0.266762   \n",
       "2             hispanic         67604          12172    0.180049   \n",
       "3                other         24227           4988    0.205886   \n",
       "\n",
       "   per_capita_10000  year  \n",
       "0       2173.309818  2012  \n",
       "1       2667.623261  2012  \n",
       "2       1800.485178  2012  \n",
       "3       2058.859950  2012  "
      ]
     },
     "execution_count": 53,
     "metadata": {},
     "output_type": "execute_result"
    },
    {
     "data": {
      "image/png": "[encoded data removed]",
      "text/plain": [
       "<Figure size 432x288 with 1 Axes>"
      ]
     },
     "metadata": {
      "needs_background": "light"
     },
     "output_type": "display_data"
    }
   ],
   "source": [
    "## PER CAPITA - RACE ##\n",
    "\n",
    "# 2012 total deaths per race\n",
    "tot_hd_2012=person_age_info_2012_age.race_recode_capstone.value_counts().reset_index()\n",
    "\n",
    "# 2012 Heart Disease popultion: race class and heart disease \n",
    "race_hd_2012=hd_age_2012.race_recode_capstone.value_counts().reset_index()\n",
    "\n",
    "#merge & create new columns \n",
    "per_capita_hd_2012=pd.merge(tot_hd_2012,race_hd_2012, on=\"index\").rename(columns={\"index\":\"race_recode_capstone\", \"race_recode_capstone_x\":\"total_deaths\", \"race_recode_capstone_y\":\"heart_disease\"})\n",
    "per_capita_hd_2012[\"per_capita\"]=per_capita_hd_2012.heart_disease/per_capita_hd_2012.total_deaths\n",
    "per_capita_hd_2012[\"per_capita_10000\"]=per_capita_hd_2012[\"per_capita\"].apply(lambda t: t*10000)\n",
    "per_capita_hd_2012[\"year\"]=[\"2012\",\"2012\",\"2012\",\"2012\",]\n",
    "per_capita_hd_2012[\"race_recode_capstone\"]=[\"white\", \"black\", \"hispanic\", \"other\"]\n",
    "\n",
    "\n",
    "ans=per_capita_hd_2012.per_capita_10000\n",
    "ans.index = [\"white\", \"black\", \"hispanic\", \"other\"]\n",
    "ans.plot(kind=\"bar\")\n",
    "\n",
    "per_capita_hd_2012\n"
   ]
  },
  {
   "cell_type": "code",
   "execution_count": 54,
   "metadata": {},
   "outputs": [
    {
     "data": {
      "text/html": [
       "<div>\n",
       "<style scoped>\n",
       "    .dataframe tbody tr th:only-of-type {\n",
       "        vertical-align: middle;\n",
       "    }\n",
       "\n",
       "    .dataframe tbody tr th {\n",
       "        vertical-align: top;\n",
       "    }\n",
       "\n",
       "    .dataframe thead th {\n",
       "        text-align: right;\n",
       "    }\n",
       "</style>\n",
       "<table border=\"1\" class=\"dataframe\">\n",
       "  <thead>\n",
       "    <tr style=\"text-align: right;\">\n",
       "      <th></th>\n",
       "      <th>race_recode_capstone</th>\n",
       "      <th>total_deaths</th>\n",
       "      <th>heart_disease</th>\n",
       "      <th>per_capita</th>\n",
       "      <th>per_capita_10000</th>\n",
       "      <th>year</th>\n",
       "    </tr>\n",
       "  </thead>\n",
       "  <tbody>\n",
       "    <tr>\n",
       "      <th>0</th>\n",
       "      <td>white</td>\n",
       "      <td>471019</td>\n",
       "      <td>101932</td>\n",
       "      <td>0.216407</td>\n",
       "      <td>2164.074061</td>\n",
       "      <td>2013</td>\n",
       "    </tr>\n",
       "    <tr>\n",
       "      <th>1</th>\n",
       "      <td>black</td>\n",
       "      <td>127500</td>\n",
       "      <td>34104</td>\n",
       "      <td>0.267482</td>\n",
       "      <td>2674.823529</td>\n",
       "      <td>2013</td>\n",
       "    </tr>\n",
       "    <tr>\n",
       "      <th>2</th>\n",
       "      <td>hispanic</td>\n",
       "      <td>68867</td>\n",
       "      <td>12505</td>\n",
       "      <td>0.181582</td>\n",
       "      <td>1815.818897</td>\n",
       "      <td>2013</td>\n",
       "    </tr>\n",
       "    <tr>\n",
       "      <th>3</th>\n",
       "      <td>other</td>\n",
       "      <td>24835</td>\n",
       "      <td>5306</td>\n",
       "      <td>0.213650</td>\n",
       "      <td>2136.500906</td>\n",
       "      <td>2013</td>\n",
       "    </tr>\n",
       "  </tbody>\n",
       "</table>\n",
       "</div>"
      ],
      "text/plain": [
       "  race_recode_capstone  total_deaths  heart_disease  per_capita  \\\n",
       "0                white        471019         101932    0.216407   \n",
       "1                black        127500          34104    0.267482   \n",
       "2             hispanic         68867          12505    0.181582   \n",
       "3                other         24835           5306    0.213650   \n",
       "\n",
       "   per_capita_10000  year  \n",
       "0       2164.074061  2013  \n",
       "1       2674.823529  2013  \n",
       "2       1815.818897  2013  \n",
       "3       2136.500906  2013  "
      ]
     },
     "execution_count": 54,
     "metadata": {},
     "output_type": "execute_result"
    },
    {
     "data": {
      "image/png": "[encoded data removed]",
      "text/plain": [
       "<Figure size 432x288 with 1 Axes>"
      ]
     },
     "metadata": {
      "needs_background": "light"
     },
     "output_type": "display_data"
    }
   ],
   "source": [
    "## PER CAPITA - RACE ##\n",
    "\n",
    "# 2013 total deaths per race\n",
    "tot_hd_2013=person_age_info_2013_age.race_recode_capstone.value_counts().reset_index()\n",
    "\n",
    "# 2013 Heart Disease popultion: race class and heart disease \n",
    "race_hd_2013=hd_age_2013.race_recode_capstone.value_counts().reset_index()\n",
    "\n",
    "#merge & create new columns \n",
    "per_capita_hd_2013=pd.merge(tot_hd_2013,race_hd_2013, on=\"index\").rename(columns={\"index\":\"race_recode_capstone\", \"race_recode_capstone_x\":\"total_deaths\", \"race_recode_capstone_y\":\"heart_disease\"})\n",
    "per_capita_hd_2013[\"per_capita\"]=per_capita_hd_2013.heart_disease/per_capita_hd_2013.total_deaths\n",
    "per_capita_hd_2013[\"per_capita_10000\"]=per_capita_hd_2013[\"per_capita\"].apply(lambda t: t*10000)\n",
    "per_capita_hd_2013[\"year\"]=[\"2013\",\"2013\",\"2013\",\"2013\",]\n",
    "per_capita_hd_2013[\"race_recode_capstone\"]=[\"white\", \"black\", \"hispanic\", \"other\"]\n",
    "\n",
    "\n",
    "ans=per_capita_hd_2013.per_capita_10000\n",
    "ans.index = [\"white\", \"black\", \"hispanic\", \"other\"]\n",
    "ans.plot(kind=\"bar\")\n",
    "\n",
    "per_capita_hd_2013"
   ]
  },
  {
   "cell_type": "code",
   "execution_count": 98,
   "metadata": {},
   "outputs": [
    {
     "data": {
      "text/html": [
       "<div>\n",
       "<style scoped>\n",
       "    .dataframe tbody tr th:only-of-type {\n",
       "        vertical-align: middle;\n",
       "    }\n",
       "\n",
       "    .dataframe tbody tr th {\n",
       "        vertical-align: top;\n",
       "    }\n",
       "\n",
       "    .dataframe thead th {\n",
       "        text-align: right;\n",
       "    }\n",
       "</style>\n",
       "<table border=\"1\" class=\"dataframe\">\n",
       "  <thead>\n",
       "    <tr style=\"text-align: right;\">\n",
       "      <th></th>\n",
       "      <th>race_recode_capstone</th>\n",
       "      <th>total_deaths</th>\n",
       "      <th>heart_disease</th>\n",
       "      <th>per_capita</th>\n",
       "      <th>per_capita_10000</th>\n",
       "      <th>year</th>\n",
       "    </tr>\n",
       "  </thead>\n",
       "  <tbody>\n",
       "    <tr>\n",
       "      <th>0</th>\n",
       "      <td>white</td>\n",
       "      <td>477452</td>\n",
       "      <td>103152</td>\n",
       "      <td>0.216047</td>\n",
       "      <td>2160.468487</td>\n",
       "      <td>2014</td>\n",
       "    </tr>\n",
       "    <tr>\n",
       "      <th>1</th>\n",
       "      <td>black</td>\n",
       "      <td>128774</td>\n",
       "      <td>34539</td>\n",
       "      <td>0.268214</td>\n",
       "      <td>2682.140805</td>\n",
       "      <td>2014</td>\n",
       "    </tr>\n",
       "    <tr>\n",
       "      <th>2</th>\n",
       "      <td>hispanic</td>\n",
       "      <td>72143</td>\n",
       "      <td>13235</td>\n",
       "      <td>0.183455</td>\n",
       "      <td>1834.550823</td>\n",
       "      <td>2014</td>\n",
       "    </tr>\n",
       "    <tr>\n",
       "      <th>3</th>\n",
       "      <td>other</td>\n",
       "      <td>25615</td>\n",
       "      <td>5335</td>\n",
       "      <td>0.208276</td>\n",
       "      <td>2082.764005</td>\n",
       "      <td>2014</td>\n",
       "    </tr>\n",
       "  </tbody>\n",
       "</table>\n",
       "</div>"
      ],
      "text/plain": [
       "  race_recode_capstone  total_deaths  heart_disease  per_capita  \\\n",
       "0                white        477452         103152    0.216047   \n",
       "1                black        128774          34539    0.268214   \n",
       "2             hispanic         72143          13235    0.183455   \n",
       "3                other         25615           5335    0.208276   \n",
       "\n",
       "   per_capita_10000  year  \n",
       "0       2160.468487  2014  \n",
       "1       2682.140805  2014  \n",
       "2       1834.550823  2014  \n",
       "3       2082.764005  2014  "
      ]
     },
     "execution_count": 98,
     "metadata": {},
     "output_type": "execute_result"
    },
    {
     "data": {
      "image/png": "[encoded data removed]",
      "text/plain": [
       "<Figure size 432x288 with 1 Axes>"
      ]
     },
     "metadata": {
      "needs_background": "light"
     },
     "output_type": "display_data"
    }
   ],
   "source": [
    "## PER CAPITA - RACE ##\n",
    "\n",
    "# 2014 total deaths per race\n",
    "tot_hd_2014=person_age_info_2014_age.race_recode_capstone.value_counts().reset_index()\n",
    "\n",
    "# 2014 Heart Disease popultion: race class and heart disease \n",
    "race_hd_2014=hd_age_2014.race_recode_capstone.value_counts().reset_index()\n",
    "\n",
    "#merge & create new columns \n",
    "per_capita_hd_2014=pd.merge(tot_hd_2014,race_hd_2014, on=\"index\").rename(columns={\"index\":\"race_recode_capstone\", \"race_recode_capstone_x\":\"total_deaths\", \"race_recode_capstone_y\":\"heart_disease\"})\n",
    "per_capita_hd_2014[\"per_capita\"]=per_capita_hd_2014.heart_disease/per_capita_hd_2014.total_deaths\n",
    "per_capita_hd_2014[\"per_capita_10000\"]=per_capita_hd_2014[\"per_capita\"].apply(lambda t: t*10000)\n",
    "per_capita_hd_2014[\"year\"]=[\"2014\",\"2014\",\"2014\",\"2014\",]\n",
    "per_capita_hd_2014[\"race_recode_capstone\"]=[\"white\", \"black\", \"hispanic\", \"other\"]\n",
    "\n",
    "\n",
    "ans=per_capita_hd_2014.per_capita_10000\n",
    "ans.index = [\"white\", \"black\", \"hispanic\", \"other\"]\n",
    "ans.plot(kind=\"bar\")\n",
    "\n",
    "per_capita_hd_2014"
   ]
  },
  {
   "cell_type": "code",
   "execution_count": 56,
   "metadata": {},
   "outputs": [
    {
     "data": {
      "text/html": [
       "<div>\n",
       "<style scoped>\n",
       "    .dataframe tbody tr th:only-of-type {\n",
       "        vertical-align: middle;\n",
       "    }\n",
       "\n",
       "    .dataframe tbody tr th {\n",
       "        vertical-align: top;\n",
       "    }\n",
       "\n",
       "    .dataframe thead th {\n",
       "        text-align: right;\n",
       "    }\n",
       "</style>\n",
       "<table border=\"1\" class=\"dataframe\">\n",
       "  <thead>\n",
       "    <tr style=\"text-align: right;\">\n",
       "      <th></th>\n",
       "      <th>race_recode_capstone</th>\n",
       "      <th>total_deaths</th>\n",
       "      <th>heart_disease</th>\n",
       "      <th>per_capita</th>\n",
       "      <th>per_capita_10000</th>\n",
       "      <th>year</th>\n",
       "    </tr>\n",
       "  </thead>\n",
       "  <tbody>\n",
       "    <tr>\n",
       "      <th>0</th>\n",
       "      <td>white</td>\n",
       "      <td>484762</td>\n",
       "      <td>104168</td>\n",
       "      <td>0.214885</td>\n",
       "      <td>2148.848301</td>\n",
       "      <td>2015</td>\n",
       "    </tr>\n",
       "    <tr>\n",
       "      <th>1</th>\n",
       "      <td>black</td>\n",
       "      <td>132882</td>\n",
       "      <td>35248</td>\n",
       "      <td>0.265258</td>\n",
       "      <td>2652.578980</td>\n",
       "      <td>2015</td>\n",
       "    </tr>\n",
       "    <tr>\n",
       "      <th>2</th>\n",
       "      <td>hispanic</td>\n",
       "      <td>75874</td>\n",
       "      <td>14005</td>\n",
       "      <td>0.184582</td>\n",
       "      <td>1845.823339</td>\n",
       "      <td>2015</td>\n",
       "    </tr>\n",
       "    <tr>\n",
       "      <th>3</th>\n",
       "      <td>other</td>\n",
       "      <td>26691</td>\n",
       "      <td>5611</td>\n",
       "      <td>0.210221</td>\n",
       "      <td>2102.206736</td>\n",
       "      <td>2015</td>\n",
       "    </tr>\n",
       "  </tbody>\n",
       "</table>\n",
       "</div>"
      ],
      "text/plain": [
       "  race_recode_capstone  total_deaths  heart_disease  per_capita  \\\n",
       "0                white        484762         104168    0.214885   \n",
       "1                black        132882          35248    0.265258   \n",
       "2             hispanic         75874          14005    0.184582   \n",
       "3                other         26691           5611    0.210221   \n",
       "\n",
       "   per_capita_10000  year  \n",
       "0       2148.848301  2015  \n",
       "1       2652.578980  2015  \n",
       "2       1845.823339  2015  \n",
       "3       2102.206736  2015  "
      ]
     },
     "execution_count": 56,
     "metadata": {},
     "output_type": "execute_result"
    },
    {
     "data": {
      "image/png": "[encoded data removed]",
      "text/plain": [
       "<Figure size 432x288 with 1 Axes>"
      ]
     },
     "metadata": {
      "needs_background": "light"
     },
     "output_type": "display_data"
    }
   ],
   "source": [
    "## PER CAPITA - RACE ##\n",
    "\n",
    "# 2015 total deaths per race\n",
    "tot_hd_2015=person_age_info_2015_age.race_recode_capstone.value_counts().reset_index()\n",
    "\n",
    "# 2015 Heart Disease popultion: race class and heart disease \n",
    "race_hd_2015=hd_age_2015.race_recode_capstone.value_counts().reset_index()\n",
    "\n",
    "#merge & create new columns \n",
    "per_capita_hd_2015=pd.merge(tot_hd_2015,race_hd_2015, on=\"index\").rename(columns={\"index\":\"race_recode_capstone\", \"race_recode_capstone_x\":\"total_deaths\", \"race_recode_capstone_y\":\"heart_disease\"})\n",
    "per_capita_hd_2015[\"per_capita\"]=per_capita_hd_2015.heart_disease/per_capita_hd_2015.total_deaths\n",
    "per_capita_hd_2015[\"per_capita_10000\"]=per_capita_hd_2015[\"per_capita\"].apply(lambda t: t*10000)\n",
    "per_capita_hd_2015[\"year\"]=[\"2015\",\"2015\",\"2015\",\"2015\",]\n",
    "per_capita_hd_2015[\"race_recode_capstone\"]=[\"white\", \"black\", \"hispanic\", \"other\"]\n",
    "\n",
    "\n",
    "ans=per_capita_hd_2015.per_capita_10000\n",
    "ans.index = [\"white\", \"black\", \"hispanic\", \"other\"]\n",
    "ans.plot(kind=\"bar\")\n",
    "\n",
    "per_capita_hd_2015"
   ]
  },
  {
   "cell_type": "code",
   "execution_count": 57,
   "metadata": {},
   "outputs": [
    {
     "data": {
      "text/html": [
       "<div>\n",
       "<style scoped>\n",
       "    .dataframe tbody tr th:only-of-type {\n",
       "        vertical-align: middle;\n",
       "    }\n",
       "\n",
       "    .dataframe tbody tr th {\n",
       "        vertical-align: top;\n",
       "    }\n",
       "\n",
       "    .dataframe thead th {\n",
       "        text-align: right;\n",
       "    }\n",
       "</style>\n",
       "<table border=\"1\" class=\"dataframe\">\n",
       "  <thead>\n",
       "    <tr style=\"text-align: right;\">\n",
       "      <th></th>\n",
       "      <th>race_recode_capstone</th>\n",
       "      <th>total_deaths</th>\n",
       "      <th>heart_disease</th>\n",
       "      <th>per_capita</th>\n",
       "      <th>per_capita_10000</th>\n",
       "      <th>year</th>\n",
       "    </tr>\n",
       "  </thead>\n",
       "  <tbody>\n",
       "    <tr>\n",
       "      <th>0</th>\n",
       "      <td>white</td>\n",
       "      <td>494815</td>\n",
       "      <td>105379</td>\n",
       "      <td>0.212966</td>\n",
       "      <td>2129.664622</td>\n",
       "      <td>2016</td>\n",
       "    </tr>\n",
       "    <tr>\n",
       "      <th>1</th>\n",
       "      <td>black</td>\n",
       "      <td>137981</td>\n",
       "      <td>36045</td>\n",
       "      <td>0.261232</td>\n",
       "      <td>2612.316188</td>\n",
       "      <td>2016</td>\n",
       "    </tr>\n",
       "    <tr>\n",
       "      <th>2</th>\n",
       "      <td>hispanic</td>\n",
       "      <td>79766</td>\n",
       "      <td>14349</td>\n",
       "      <td>0.179889</td>\n",
       "      <td>1798.886744</td>\n",
       "      <td>2016</td>\n",
       "    </tr>\n",
       "    <tr>\n",
       "      <th>3</th>\n",
       "      <td>other</td>\n",
       "      <td>28091</td>\n",
       "      <td>5665</td>\n",
       "      <td>0.201666</td>\n",
       "      <td>2016.660140</td>\n",
       "      <td>2016</td>\n",
       "    </tr>\n",
       "  </tbody>\n",
       "</table>\n",
       "</div>"
      ],
      "text/plain": [
       "  race_recode_capstone  total_deaths  heart_disease  per_capita  \\\n",
       "0                white        494815         105379    0.212966   \n",
       "1                black        137981          36045    0.261232   \n",
       "2             hispanic         79766          14349    0.179889   \n",
       "3                other         28091           5665    0.201666   \n",
       "\n",
       "   per_capita_10000  year  \n",
       "0       2129.664622  2016  \n",
       "1       2612.316188  2016  \n",
       "2       1798.886744  2016  \n",
       "3       2016.660140  2016  "
      ]
     },
     "execution_count": 57,
     "metadata": {},
     "output_type": "execute_result"
    },
    {
     "data": {
      "image/png": "[encoded data removed]",
      "text/plain": [
       "<Figure size 432x288 with 1 Axes>"
      ]
     },
     "metadata": {
      "needs_background": "light"
     },
     "output_type": "display_data"
    }
   ],
   "source": [
    "## PER CAPITA - RACE ##\n",
    "\n",
    "# 2016 total deaths per race\n",
    "tot_hd_2016=person_age_info_2016_age.race_recode_capstone.value_counts().reset_index()\n",
    "\n",
    "# 2016 Heart Disease popultion: race class and heart disease \n",
    "race_hd_2016=hd_age_2016.race_recode_capstone.value_counts().reset_index()\n",
    "\n",
    "#merge & create new columns \n",
    "per_capita_hd_2016=pd.merge(tot_hd_2016,race_hd_2016, on=\"index\").rename(columns={\"index\":\"race_recode_capstone\", \"race_recode_capstone_x\":\"total_deaths\", \"race_recode_capstone_y\":\"heart_disease\"})\n",
    "per_capita_hd_2016[\"per_capita\"]=per_capita_hd_2016.heart_disease/per_capita_hd_2016.total_deaths\n",
    "per_capita_hd_2016[\"per_capita_10000\"]=per_capita_hd_2016[\"per_capita\"].apply(lambda t: t*10000)\n",
    "per_capita_hd_2016[\"year\"]=[\"2016\",\"2016\",\"2016\",\"2016\",]\n",
    "per_capita_hd_2016[\"race_recode_capstone\"]=[\"white\", \"black\", \"hispanic\", \"other\"]\n",
    "\n",
    "\n",
    "ans=per_capita_hd_2016.per_capita_10000\n",
    "ans.index = [\"white\", \"black\", \"hispanic\", \"other\"]\n",
    "ans.plot(kind=\"bar\")\n",
    "\n",
    "per_capita_hd_2016"
   ]
  },
  {
   "cell_type": "code",
   "execution_count": 58,
   "metadata": {},
   "outputs": [
    {
     "data": {
      "text/html": [
       "<div>\n",
       "<style scoped>\n",
       "    .dataframe tbody tr th:only-of-type {\n",
       "        vertical-align: middle;\n",
       "    }\n",
       "\n",
       "    .dataframe tbody tr th {\n",
       "        vertical-align: top;\n",
       "    }\n",
       "\n",
       "    .dataframe thead th {\n",
       "        text-align: right;\n",
       "    }\n",
       "</style>\n",
       "<table border=\"1\" class=\"dataframe\">\n",
       "  <thead>\n",
       "    <tr style=\"text-align: right;\">\n",
       "      <th></th>\n",
       "      <th>race_recode_capstone</th>\n",
       "      <th>total_deaths</th>\n",
       "      <th>heart_disease</th>\n",
       "      <th>per_capita</th>\n",
       "      <th>per_capita_10000</th>\n",
       "      <th>year</th>\n",
       "    </tr>\n",
       "  </thead>\n",
       "  <tbody>\n",
       "    <tr>\n",
       "      <th>0</th>\n",
       "      <td>white</td>\n",
       "      <td>495130</td>\n",
       "      <td>104465</td>\n",
       "      <td>0.210985</td>\n",
       "      <td>2109.849938</td>\n",
       "      <td>2017</td>\n",
       "    </tr>\n",
       "    <tr>\n",
       "      <th>1</th>\n",
       "      <td>black</td>\n",
       "      <td>139909</td>\n",
       "      <td>36763</td>\n",
       "      <td>0.262764</td>\n",
       "      <td>2627.636535</td>\n",
       "      <td>2017</td>\n",
       "    </tr>\n",
       "    <tr>\n",
       "      <th>2</th>\n",
       "      <td>hispanic</td>\n",
       "      <td>82292</td>\n",
       "      <td>15147</td>\n",
       "      <td>0.184064</td>\n",
       "      <td>1840.640646</td>\n",
       "      <td>2017</td>\n",
       "    </tr>\n",
       "    <tr>\n",
       "      <th>3</th>\n",
       "      <td>other</td>\n",
       "      <td>28639</td>\n",
       "      <td>5831</td>\n",
       "      <td>0.203603</td>\n",
       "      <td>2036.034778</td>\n",
       "      <td>2017</td>\n",
       "    </tr>\n",
       "  </tbody>\n",
       "</table>\n",
       "</div>"
      ],
      "text/plain": [
       "  race_recode_capstone  total_deaths  heart_disease  per_capita  \\\n",
       "0                white        495130         104465    0.210985   \n",
       "1                black        139909          36763    0.262764   \n",
       "2             hispanic         82292          15147    0.184064   \n",
       "3                other         28639           5831    0.203603   \n",
       "\n",
       "   per_capita_10000  year  \n",
       "0       2109.849938  2017  \n",
       "1       2627.636535  2017  \n",
       "2       1840.640646  2017  \n",
       "3       2036.034778  2017  "
      ]
     },
     "execution_count": 58,
     "metadata": {},
     "output_type": "execute_result"
    },
    {
     "data": {
      "image/png": "[encoded data removed]",
      "text/plain": [
       "<Figure size 432x288 with 1 Axes>"
      ]
     },
     "metadata": {
      "needs_background": "light"
     },
     "output_type": "display_data"
    }
   ],
   "source": [
    "## PER CAPITA - RACE ##\n",
    "\n",
    "# 2017 total deaths per race\n",
    "tot_hd_2017=person_age_info_2017_age.race_recode_capstone.value_counts().reset_index()\n",
    "\n",
    "# 2017 Heart Disease popultion: race class and heart disease \n",
    "race_hd_2017=hd_age_2017.race_recode_capstone.value_counts().reset_index()\n",
    "\n",
    "#merge & create new columns \n",
    "per_capita_hd_2017=pd.merge(tot_hd_2017,race_hd_2017, on=\"index\").rename(columns={\"index\":\"race_recode_capstone\", \"race_recode_capstone_x\":\"total_deaths\", \"race_recode_capstone_y\":\"heart_disease\"})\n",
    "per_capita_hd_2017[\"per_capita\"]=per_capita_hd_2017.heart_disease/per_capita_hd_2017.total_deaths\n",
    "per_capita_hd_2017[\"per_capita_10000\"]=per_capita_hd_2017[\"per_capita\"].apply(lambda t: t*10000)\n",
    "per_capita_hd_2017[\"year\"]=[\"2017\",\"2017\",\"2017\",\"2017\",]\n",
    "per_capita_hd_2017[\"race_recode_capstone\"]=[\"white\", \"black\", \"hispanic\", \"other\"]\n",
    "\n",
    "\n",
    "ans=per_capita_hd_2017.per_capita_10000\n",
    "ans.index = [\"white\", \"black\", \"hispanic\", \"other\"]\n",
    "ans.plot(kind=\"bar\")\n",
    "\n",
    "per_capita_hd_2017"
   ]
  },
  {
   "cell_type": "code",
   "execution_count": 59,
   "metadata": {
    "scrolled": false
   },
   "outputs": [
    {
     "data": {
      "text/html": [
       "<div>\n",
       "<style scoped>\n",
       "    .dataframe tbody tr th:only-of-type {\n",
       "        vertical-align: middle;\n",
       "    }\n",
       "\n",
       "    .dataframe tbody tr th {\n",
       "        vertical-align: top;\n",
       "    }\n",
       "\n",
       "    .dataframe thead th {\n",
       "        text-align: right;\n",
       "    }\n",
       "</style>\n",
       "<table border=\"1\" class=\"dataframe\">\n",
       "  <thead>\n",
       "    <tr style=\"text-align: right;\">\n",
       "      <th></th>\n",
       "      <th>race_recode_capstone</th>\n",
       "      <th>total_deaths</th>\n",
       "      <th>heart_disease</th>\n",
       "      <th>per_capita</th>\n",
       "      <th>per_capita_10000</th>\n",
       "      <th>year</th>\n",
       "    </tr>\n",
       "  </thead>\n",
       "  <tbody>\n",
       "    <tr>\n",
       "      <th>0</th>\n",
       "      <td>white</td>\n",
       "      <td>486746</td>\n",
       "      <td>103928</td>\n",
       "      <td>0.213516</td>\n",
       "      <td>2135.158789</td>\n",
       "      <td>2018</td>\n",
       "    </tr>\n",
       "    <tr>\n",
       "      <th>1</th>\n",
       "      <td>black</td>\n",
       "      <td>140379</td>\n",
       "      <td>37356</td>\n",
       "      <td>0.266108</td>\n",
       "      <td>2661.081786</td>\n",
       "      <td>2018</td>\n",
       "    </tr>\n",
       "    <tr>\n",
       "      <th>2</th>\n",
       "      <td>hispanic</td>\n",
       "      <td>83557</td>\n",
       "      <td>15213</td>\n",
       "      <td>0.182067</td>\n",
       "      <td>1820.673313</td>\n",
       "      <td>2018</td>\n",
       "    </tr>\n",
       "    <tr>\n",
       "      <th>3</th>\n",
       "      <td>other</td>\n",
       "      <td>29116</td>\n",
       "      <td>6115</td>\n",
       "      <td>0.210022</td>\n",
       "      <td>2100.219810</td>\n",
       "      <td>2018</td>\n",
       "    </tr>\n",
       "  </tbody>\n",
       "</table>\n",
       "</div>"
      ],
      "text/plain": [
       "  race_recode_capstone  total_deaths  heart_disease  per_capita  \\\n",
       "0                white        486746         103928    0.213516   \n",
       "1                black        140379          37356    0.266108   \n",
       "2             hispanic         83557          15213    0.182067   \n",
       "3                other         29116           6115    0.210022   \n",
       "\n",
       "   per_capita_10000  year  \n",
       "0       2135.158789  2018  \n",
       "1       2661.081786  2018  \n",
       "2       1820.673313  2018  \n",
       "3       2100.219810  2018  "
      ]
     },
     "execution_count": 59,
     "metadata": {},
     "output_type": "execute_result"
    },
    {
     "data": {
      "image/png": "[encoded data removed]",
      "text/plain": [
       "<Figure size 432x288 with 1 Axes>"
      ]
     },
     "metadata": {
      "needs_background": "light"
     },
     "output_type": "display_data"
    }
   ],
   "source": [
    "## PER CAPITA - RACE ##\n",
    "\n",
    "# 2018 total deaths per race\n",
    "tot_hd_2018=person_age_info_2018_age.race_recode_capstone.value_counts().reset_index()\n",
    "\n",
    "# 2018 Heart Disease popultion: race class and heart disease \n",
    "race_hd_2018=hd_age_2018.race_recode_capstone.value_counts().reset_index()\n",
    "\n",
    "#merge & create new columns \n",
    "per_capita_hd_2018=pd.merge(tot_hd_2018,race_hd_2018, on=\"index\").rename(columns={\"index\":\"race_recode_capstone\", \"race_recode_capstone_x\":\"total_deaths\", \"race_recode_capstone_y\":\"heart_disease\"})\n",
    "per_capita_hd_2018[\"per_capita\"]=per_capita_hd_2018.heart_disease/per_capita_hd_2018.total_deaths\n",
    "per_capita_hd_2018[\"per_capita_10000\"]=per_capita_hd_2018[\"per_capita\"].apply(lambda t: t*10000)\n",
    "per_capita_hd_2018[\"year\"]=[\"2018\",\"2018\",\"2018\",\"2018\",]\n",
    "per_capita_hd_2018[\"race_recode_capstone\"]=[\"white\", \"black\", \"hispanic\", \"other\"]\n",
    "\n",
    "\n",
    "ans=per_capita_hd_2018.per_capita_10000\n",
    "ans.index = [\"white\", \"black\", \"hispanic\", \"other\"]\n",
    "ans.plot(kind=\"bar\")\n",
    "\n",
    "per_capita_hd_2018\n"
   ]
  },
  {
   "cell_type": "code",
   "execution_count": 60,
   "metadata": {
    "scrolled": true
   },
   "outputs": [
    {
     "data": {
      "text/html": [
       "<div>\n",
       "<style scoped>\n",
       "    .dataframe tbody tr th:only-of-type {\n",
       "        vertical-align: middle;\n",
       "    }\n",
       "\n",
       "    .dataframe tbody tr th {\n",
       "        vertical-align: top;\n",
       "    }\n",
       "\n",
       "    .dataframe thead th {\n",
       "        text-align: right;\n",
       "    }\n",
       "</style>\n",
       "<table border=\"1\" class=\"dataframe\">\n",
       "  <thead>\n",
       "    <tr style=\"text-align: right;\">\n",
       "      <th></th>\n",
       "      <th></th>\n",
       "      <th>total_deaths</th>\n",
       "      <th>cancer</th>\n",
       "      <th>per_capita</th>\n",
       "      <th>per_capita_10000</th>\n",
       "    </tr>\n",
       "    <tr>\n",
       "      <th>year</th>\n",
       "      <th>race_recode_capstone</th>\n",
       "      <th></th>\n",
       "      <th></th>\n",
       "      <th></th>\n",
       "      <th></th>\n",
       "    </tr>\n",
       "  </thead>\n",
       "  <tbody>\n",
       "    <tr>\n",
       "      <th rowspan=\"4\" valign=\"top\">2012</th>\n",
       "      <th>black</th>\n",
       "      <td>125445</td>\n",
       "      <td>28533</td>\n",
       "      <td>0.227454</td>\n",
       "      <td>2274.542628</td>\n",
       "    </tr>\n",
       "    <tr>\n",
       "      <th>hispanic</th>\n",
       "      <td>67604</td>\n",
       "      <td>14947</td>\n",
       "      <td>0.221096</td>\n",
       "      <td>2210.963848</td>\n",
       "    </tr>\n",
       "    <tr>\n",
       "      <th>other</th>\n",
       "      <td>24227</td>\n",
       "      <td>6950</td>\n",
       "      <td>0.286870</td>\n",
       "      <td>2868.700211</td>\n",
       "    </tr>\n",
       "    <tr>\n",
       "      <th>white</th>\n",
       "      <td>467775</td>\n",
       "      <td>131490</td>\n",
       "      <td>0.281097</td>\n",
       "      <td>2810.966811</td>\n",
       "    </tr>\n",
       "    <tr>\n",
       "      <th rowspan=\"4\" valign=\"top\">2013</th>\n",
       "      <th>black</th>\n",
       "      <td>127500</td>\n",
       "      <td>28508</td>\n",
       "      <td>0.223592</td>\n",
       "      <td>2235.921569</td>\n",
       "    </tr>\n",
       "    <tr>\n",
       "      <th>hispanic</th>\n",
       "      <td>68867</td>\n",
       "      <td>15111</td>\n",
       "      <td>0.219423</td>\n",
       "      <td>2194.229457</td>\n",
       "    </tr>\n",
       "    <tr>\n",
       "      <th>other</th>\n",
       "      <td>24835</td>\n",
       "      <td>6989</td>\n",
       "      <td>0.281417</td>\n",
       "      <td>2814.173545</td>\n",
       "    </tr>\n",
       "    <tr>\n",
       "      <th>white</th>\n",
       "      <td>471019</td>\n",
       "      <td>129505</td>\n",
       "      <td>0.274946</td>\n",
       "      <td>2749.464459</td>\n",
       "    </tr>\n",
       "    <tr>\n",
       "      <th rowspan=\"4\" valign=\"top\">2014</th>\n",
       "      <th>black</th>\n",
       "      <td>128774</td>\n",
       "      <td>28660</td>\n",
       "      <td>0.222560</td>\n",
       "      <td>2225.604548</td>\n",
       "    </tr>\n",
       "    <tr>\n",
       "      <th>hispanic</th>\n",
       "      <td>72143</td>\n",
       "      <td>15573</td>\n",
       "      <td>0.215863</td>\n",
       "      <td>2158.629389</td>\n",
       "    </tr>\n",
       "    <tr>\n",
       "      <th>other</th>\n",
       "      <td>25615</td>\n",
       "      <td>7112</td>\n",
       "      <td>0.277650</td>\n",
       "      <td>2776.498146</td>\n",
       "    </tr>\n",
       "    <tr>\n",
       "      <th>white</th>\n",
       "      <td>477452</td>\n",
       "      <td>129342</td>\n",
       "      <td>0.270901</td>\n",
       "      <td>2709.005303</td>\n",
       "    </tr>\n",
       "    <tr>\n",
       "      <th rowspan=\"4\" valign=\"top\">2015</th>\n",
       "      <th>black</th>\n",
       "      <td>132882</td>\n",
       "      <td>28436</td>\n",
       "      <td>0.213994</td>\n",
       "      <td>2139.943709</td>\n",
       "    </tr>\n",
       "    <tr>\n",
       "      <th>hispanic</th>\n",
       "      <td>75874</td>\n",
       "      <td>16134</td>\n",
       "      <td>0.212642</td>\n",
       "      <td>2126.420118</td>\n",
       "    </tr>\n",
       "    <tr>\n",
       "      <th>other</th>\n",
       "      <td>26691</td>\n",
       "      <td>7392</td>\n",
       "      <td>0.276947</td>\n",
       "      <td>2769.472856</td>\n",
       "    </tr>\n",
       "    <tr>\n",
       "      <th>white</th>\n",
       "      <td>484762</td>\n",
       "      <td>127506</td>\n",
       "      <td>0.263028</td>\n",
       "      <td>2630.280426</td>\n",
       "    </tr>\n",
       "    <tr>\n",
       "      <th rowspan=\"4\" valign=\"top\">2016</th>\n",
       "      <th>black</th>\n",
       "      <td>137981</td>\n",
       "      <td>28425</td>\n",
       "      <td>0.206007</td>\n",
       "      <td>2060.066241</td>\n",
       "    </tr>\n",
       "    <tr>\n",
       "      <th>hispanic</th>\n",
       "      <td>79766</td>\n",
       "      <td>16590</td>\n",
       "      <td>0.207983</td>\n",
       "      <td>2079.833513</td>\n",
       "    </tr>\n",
       "    <tr>\n",
       "      <th>other</th>\n",
       "      <td>28091</td>\n",
       "      <td>7724</td>\n",
       "      <td>0.274964</td>\n",
       "      <td>2749.635114</td>\n",
       "    </tr>\n",
       "    <tr>\n",
       "      <th>white</th>\n",
       "      <td>494815</td>\n",
       "      <td>125095</td>\n",
       "      <td>0.252812</td>\n",
       "      <td>2528.116569</td>\n",
       "    </tr>\n",
       "    <tr>\n",
       "      <th rowspan=\"4\" valign=\"top\">2017</th>\n",
       "      <th>black</th>\n",
       "      <td>139909</td>\n",
       "      <td>27415</td>\n",
       "      <td>0.195949</td>\n",
       "      <td>1959.487953</td>\n",
       "    </tr>\n",
       "    <tr>\n",
       "      <th>hispanic</th>\n",
       "      <td>82292</td>\n",
       "      <td>16697</td>\n",
       "      <td>0.202899</td>\n",
       "      <td>2028.994313</td>\n",
       "    </tr>\n",
       "    <tr>\n",
       "      <th>other</th>\n",
       "      <td>28639</td>\n",
       "      <td>7659</td>\n",
       "      <td>0.267433</td>\n",
       "      <td>2674.325221</td>\n",
       "    </tr>\n",
       "    <tr>\n",
       "      <th>white</th>\n",
       "      <td>495130</td>\n",
       "      <td>122101</td>\n",
       "      <td>0.246604</td>\n",
       "      <td>2466.039222</td>\n",
       "    </tr>\n",
       "    <tr>\n",
       "      <th rowspan=\"4\" valign=\"top\">2018</th>\n",
       "      <th>black</th>\n",
       "      <td>140379</td>\n",
       "      <td>26817</td>\n",
       "      <td>0.191033</td>\n",
       "      <td>1910.328468</td>\n",
       "    </tr>\n",
       "    <tr>\n",
       "      <th>hispanic</th>\n",
       "      <td>83557</td>\n",
       "      <td>17214</td>\n",
       "      <td>0.206015</td>\n",
       "      <td>2060.150556</td>\n",
       "    </tr>\n",
       "    <tr>\n",
       "      <th>other</th>\n",
       "      <td>29116</td>\n",
       "      <td>7515</td>\n",
       "      <td>0.258106</td>\n",
       "      <td>2581.055090</td>\n",
       "    </tr>\n",
       "    <tr>\n",
       "      <th>white</th>\n",
       "      <td>486746</td>\n",
       "      <td>119168</td>\n",
       "      <td>0.244826</td>\n",
       "      <td>2448.258435</td>\n",
       "    </tr>\n",
       "  </tbody>\n",
       "</table>\n",
       "</div>"
      ],
      "text/plain": [
       "                           total_deaths  cancer  per_capita  per_capita_10000\n",
       "year race_recode_capstone                                                    \n",
       "2012 black                       125445   28533    0.227454       2274.542628\n",
       "     hispanic                     67604   14947    0.221096       2210.963848\n",
       "     other                        24227    6950    0.286870       2868.700211\n",
       "     white                       467775  131490    0.281097       2810.966811\n",
       "2013 black                       127500   28508    0.223592       2235.921569\n",
       "     hispanic                     68867   15111    0.219423       2194.229457\n",
       "     other                        24835    6989    0.281417       2814.173545\n",
       "     white                       471019  129505    0.274946       2749.464459\n",
       "2014 black                       128774   28660    0.222560       2225.604548\n",
       "     hispanic                     72143   15573    0.215863       2158.629389\n",
       "     other                        25615    7112    0.277650       2776.498146\n",
       "     white                       477452  129342    0.270901       2709.005303\n",
       "2015 black                       132882   28436    0.213994       2139.943709\n",
       "     hispanic                     75874   16134    0.212642       2126.420118\n",
       "     other                        26691    7392    0.276947       2769.472856\n",
       "     white                       484762  127506    0.263028       2630.280426\n",
       "2016 black                       137981   28425    0.206007       2060.066241\n",
       "     hispanic                     79766   16590    0.207983       2079.833513\n",
       "     other                        28091    7724    0.274964       2749.635114\n",
       "     white                       494815  125095    0.252812       2528.116569\n",
       "2017 black                       139909   27415    0.195949       1959.487953\n",
       "     hispanic                     82292   16697    0.202899       2028.994313\n",
       "     other                        28639    7659    0.267433       2674.325221\n",
       "     white                       495130  122101    0.246604       2466.039222\n",
       "2018 black                       140379   26817    0.191033       1910.328468\n",
       "     hispanic                     83557   17214    0.206015       2060.150556\n",
       "     other                        29116    7515    0.258106       2581.055090\n",
       "     white                       486746  119168    0.244826       2448.258435"
      ]
     },
     "execution_count": 60,
     "metadata": {},
     "output_type": "execute_result"
    }
   ],
   "source": [
    "per_capita_hd_total=pd.concat([per_capita_hd_2018,\n",
    "           per_capita_hd_2017,\n",
    "           per_capita_hd_2016,\n",
    "           per_capita_hd_2015,\n",
    "           per_capita_hd_2014,\n",
    "           per_capita_hd_2013,\n",
    "           per_capita_hd_2012,\n",
    "          ])\n",
    "\n",
    "per_capita_can_total.groupby([\"year\",\"race_recode_capstone\"]).sum()\n"
   ]
  },
  {
   "cell_type": "code",
   "execution_count": 61,
   "metadata": {
    "scrolled": true
   },
   "outputs": [
    {
     "data": {
      "text/plain": [
       "<matplotlib.axes._subplots.AxesSubplot at 0x7f8da9850fd0>"
      ]
     },
     "execution_count": 61,
     "metadata": {},
     "output_type": "execute_result"
    },
    {
     "data": {
      "image/png": "[encoded data removed]",
      "text/plain": [
       "<Figure size 432x288 with 1 Axes>"
      ]
     },
     "metadata": {
      "needs_background": "light"
     },
     "output_type": "display_data"
    }
   ],
   "source": [
    "per_capita_hd_total.groupby([\"year\"])['per_capita_10000'].sum().plot(kind=\"line\")\n"
   ]
  },
  {
   "cell_type": "code",
   "execution_count": 62,
   "metadata": {
    "scrolled": true
   },
   "outputs": [
    {
     "data": {
      "text/plain": [
       "<matplotlib.legend.Legend at 0x7f8da97d94d0>"
      ]
     },
     "execution_count": 62,
     "metadata": {},
     "output_type": "execute_result"
    },
    {
     "data": {
      "image/png": "[encoded data removed]",
      "text/plain": [
       "<Figure size 432x288 with 1 Axes>"
      ]
     },
     "metadata": {
      "needs_background": "light"
     },
     "output_type": "display_data"
    }
   ],
   "source": [
    "per_capita_hd_total[per_capita_hd_total.race_recode_capstone==\"white\"].groupby([\"year\"])['per_capita_10000'].sum().plot(kind=\"line\")\n",
    "per_capita_hd_total[per_capita_hd_total.race_recode_capstone==\"black\"].groupby([\"year\"])['per_capita_10000'].sum().plot(kind=\"line\")\n",
    "per_capita_hd_total[per_capita_hd_total.race_recode_capstone==\"hispanic\"].groupby([\"year\"])['per_capita_10000'].sum().plot(kind=\"line\")\n",
    "per_capita_hd_total[per_capita_hd_total.race_recode_capstone==\"other\"].groupby([\"year\"])['per_capita_10000'].sum().plot(kind=\"line\")\n",
    "\n",
    "plt.legend((\"white\", \"black\", \"hispanic\", \"other\"))\n"
   ]
  },
  {
   "cell_type": "code",
   "execution_count": 63,
   "metadata": {},
   "outputs": [
    {
     "data": {
      "text/html": [
       "<div>\n",
       "<style scoped>\n",
       "    .dataframe tbody tr th:only-of-type {\n",
       "        vertical-align: middle;\n",
       "    }\n",
       "\n",
       "    .dataframe tbody tr th {\n",
       "        vertical-align: top;\n",
       "    }\n",
       "\n",
       "    .dataframe thead th {\n",
       "        text-align: right;\n",
       "    }\n",
       "</style>\n",
       "<table border=\"1\" class=\"dataframe\">\n",
       "  <thead>\n",
       "    <tr style=\"text-align: right;\">\n",
       "      <th></th>\n",
       "      <th></th>\n",
       "      <th></th>\n",
       "      <th>total_deaths</th>\n",
       "      <th>per_capita</th>\n",
       "      <th>per_capita_10000</th>\n",
       "    </tr>\n",
       "    <tr>\n",
       "      <th>year</th>\n",
       "      <th>race_recode_capstone</th>\n",
       "      <th>heart_disease</th>\n",
       "      <th></th>\n",
       "      <th></th>\n",
       "      <th></th>\n",
       "    </tr>\n",
       "  </thead>\n",
       "  <tbody>\n",
       "    <tr>\n",
       "      <th rowspan=\"4\" valign=\"top\">2012</th>\n",
       "      <th>black</th>\n",
       "      <th>33464</th>\n",
       "      <td>125445</td>\n",
       "      <td>0.266762</td>\n",
       "      <td>2667.623261</td>\n",
       "    </tr>\n",
       "    <tr>\n",
       "      <th>hispanic</th>\n",
       "      <th>12172</th>\n",
       "      <td>67604</td>\n",
       "      <td>0.180049</td>\n",
       "      <td>1800.485178</td>\n",
       "    </tr>\n",
       "    <tr>\n",
       "      <th>other</th>\n",
       "      <th>4988</th>\n",
       "      <td>24227</td>\n",
       "      <td>0.205886</td>\n",
       "      <td>2058.859950</td>\n",
       "    </tr>\n",
       "    <tr>\n",
       "      <th>white</th>\n",
       "      <th>101662</th>\n",
       "      <td>467775</td>\n",
       "      <td>0.217331</td>\n",
       "      <td>2173.309818</td>\n",
       "    </tr>\n",
       "    <tr>\n",
       "      <th rowspan=\"4\" valign=\"top\">2013</th>\n",
       "      <th>black</th>\n",
       "      <th>34104</th>\n",
       "      <td>127500</td>\n",
       "      <td>0.267482</td>\n",
       "      <td>2674.823529</td>\n",
       "    </tr>\n",
       "    <tr>\n",
       "      <th>hispanic</th>\n",
       "      <th>12505</th>\n",
       "      <td>68867</td>\n",
       "      <td>0.181582</td>\n",
       "      <td>1815.818897</td>\n",
       "    </tr>\n",
       "    <tr>\n",
       "      <th>other</th>\n",
       "      <th>5306</th>\n",
       "      <td>24835</td>\n",
       "      <td>0.213650</td>\n",
       "      <td>2136.500906</td>\n",
       "    </tr>\n",
       "    <tr>\n",
       "      <th>white</th>\n",
       "      <th>101932</th>\n",
       "      <td>471019</td>\n",
       "      <td>0.216407</td>\n",
       "      <td>2164.074061</td>\n",
       "    </tr>\n",
       "    <tr>\n",
       "      <th rowspan=\"4\" valign=\"top\">2014</th>\n",
       "      <th>black</th>\n",
       "      <th>34539</th>\n",
       "      <td>128774</td>\n",
       "      <td>0.268214</td>\n",
       "      <td>2682.140805</td>\n",
       "    </tr>\n",
       "    <tr>\n",
       "      <th>hispanic</th>\n",
       "      <th>13235</th>\n",
       "      <td>72143</td>\n",
       "      <td>0.183455</td>\n",
       "      <td>1834.550823</td>\n",
       "    </tr>\n",
       "    <tr>\n",
       "      <th>other</th>\n",
       "      <th>5335</th>\n",
       "      <td>25615</td>\n",
       "      <td>0.208276</td>\n",
       "      <td>2082.764005</td>\n",
       "    </tr>\n",
       "    <tr>\n",
       "      <th>white</th>\n",
       "      <th>103152</th>\n",
       "      <td>477452</td>\n",
       "      <td>0.216047</td>\n",
       "      <td>2160.468487</td>\n",
       "    </tr>\n",
       "    <tr>\n",
       "      <th rowspan=\"4\" valign=\"top\">2015</th>\n",
       "      <th>black</th>\n",
       "      <th>35248</th>\n",
       "      <td>132882</td>\n",
       "      <td>0.265258</td>\n",
       "      <td>2652.578980</td>\n",
       "    </tr>\n",
       "    <tr>\n",
       "      <th>hispanic</th>\n",
       "      <th>14005</th>\n",
       "      <td>75874</td>\n",
       "      <td>0.184582</td>\n",
       "      <td>1845.823339</td>\n",
       "    </tr>\n",
       "    <tr>\n",
       "      <th>other</th>\n",
       "      <th>5611</th>\n",
       "      <td>26691</td>\n",
       "      <td>0.210221</td>\n",
       "      <td>2102.206736</td>\n",
       "    </tr>\n",
       "    <tr>\n",
       "      <th>white</th>\n",
       "      <th>104168</th>\n",
       "      <td>484762</td>\n",
       "      <td>0.214885</td>\n",
       "      <td>2148.848301</td>\n",
       "    </tr>\n",
       "    <tr>\n",
       "      <th rowspan=\"4\" valign=\"top\">2016</th>\n",
       "      <th>black</th>\n",
       "      <th>36045</th>\n",
       "      <td>137981</td>\n",
       "      <td>0.261232</td>\n",
       "      <td>2612.316188</td>\n",
       "    </tr>\n",
       "    <tr>\n",
       "      <th>hispanic</th>\n",
       "      <th>14349</th>\n",
       "      <td>79766</td>\n",
       "      <td>0.179889</td>\n",
       "      <td>1798.886744</td>\n",
       "    </tr>\n",
       "    <tr>\n",
       "      <th>other</th>\n",
       "      <th>5665</th>\n",
       "      <td>28091</td>\n",
       "      <td>0.201666</td>\n",
       "      <td>2016.660140</td>\n",
       "    </tr>\n",
       "    <tr>\n",
       "      <th>white</th>\n",
       "      <th>105379</th>\n",
       "      <td>494815</td>\n",
       "      <td>0.212966</td>\n",
       "      <td>2129.664622</td>\n",
       "    </tr>\n",
       "    <tr>\n",
       "      <th rowspan=\"4\" valign=\"top\">2017</th>\n",
       "      <th>black</th>\n",
       "      <th>36763</th>\n",
       "      <td>139909</td>\n",
       "      <td>0.262764</td>\n",
       "      <td>2627.636535</td>\n",
       "    </tr>\n",
       "    <tr>\n",
       "      <th>hispanic</th>\n",
       "      <th>15147</th>\n",
       "      <td>82292</td>\n",
       "      <td>0.184064</td>\n",
       "      <td>1840.640646</td>\n",
       "    </tr>\n",
       "    <tr>\n",
       "      <th>other</th>\n",
       "      <th>5831</th>\n",
       "      <td>28639</td>\n",
       "      <td>0.203603</td>\n",
       "      <td>2036.034778</td>\n",
       "    </tr>\n",
       "    <tr>\n",
       "      <th>white</th>\n",
       "      <th>104465</th>\n",
       "      <td>495130</td>\n",
       "      <td>0.210985</td>\n",
       "      <td>2109.849938</td>\n",
       "    </tr>\n",
       "    <tr>\n",
       "      <th rowspan=\"4\" valign=\"top\">2018</th>\n",
       "      <th>black</th>\n",
       "      <th>37356</th>\n",
       "      <td>140379</td>\n",
       "      <td>0.266108</td>\n",
       "      <td>2661.081786</td>\n",
       "    </tr>\n",
       "    <tr>\n",
       "      <th>hispanic</th>\n",
       "      <th>15213</th>\n",
       "      <td>83557</td>\n",
       "      <td>0.182067</td>\n",
       "      <td>1820.673313</td>\n",
       "    </tr>\n",
       "    <tr>\n",
       "      <th>other</th>\n",
       "      <th>6115</th>\n",
       "      <td>29116</td>\n",
       "      <td>0.210022</td>\n",
       "      <td>2100.219810</td>\n",
       "    </tr>\n",
       "    <tr>\n",
       "      <th>white</th>\n",
       "      <th>103928</th>\n",
       "      <td>486746</td>\n",
       "      <td>0.213516</td>\n",
       "      <td>2135.158789</td>\n",
       "    </tr>\n",
       "  </tbody>\n",
       "</table>\n",
       "</div>"
      ],
      "text/plain": [
       "                                         total_deaths  per_capita  \\\n",
       "year race_recode_capstone heart_disease                             \n",
       "2012 black                33464                125445    0.266762   \n",
       "     hispanic             12172                 67604    0.180049   \n",
       "     other                4988                  24227    0.205886   \n",
       "     white                101662               467775    0.217331   \n",
       "2013 black                34104                127500    0.267482   \n",
       "     hispanic             12505                 68867    0.181582   \n",
       "     other                5306                  24835    0.213650   \n",
       "     white                101932               471019    0.216407   \n",
       "2014 black                34539                128774    0.268214   \n",
       "     hispanic             13235                 72143    0.183455   \n",
       "     other                5335                  25615    0.208276   \n",
       "     white                103152               477452    0.216047   \n",
       "2015 black                35248                132882    0.265258   \n",
       "     hispanic             14005                 75874    0.184582   \n",
       "     other                5611                  26691    0.210221   \n",
       "     white                104168               484762    0.214885   \n",
       "2016 black                36045                137981    0.261232   \n",
       "     hispanic             14349                 79766    0.179889   \n",
       "     other                5665                  28091    0.201666   \n",
       "     white                105379               494815    0.212966   \n",
       "2017 black                36763                139909    0.262764   \n",
       "     hispanic             15147                 82292    0.184064   \n",
       "     other                5831                  28639    0.203603   \n",
       "     white                104465               495130    0.210985   \n",
       "2018 black                37356                140379    0.266108   \n",
       "     hispanic             15213                 83557    0.182067   \n",
       "     other                6115                  29116    0.210022   \n",
       "     white                103928               486746    0.213516   \n",
       "\n",
       "                                         per_capita_10000  \n",
       "year race_recode_capstone heart_disease                    \n",
       "2012 black                33464               2667.623261  \n",
       "     hispanic             12172               1800.485178  \n",
       "     other                4988                2058.859950  \n",
       "     white                101662              2173.309818  \n",
       "2013 black                34104               2674.823529  \n",
       "     hispanic             12505               1815.818897  \n",
       "     other                5306                2136.500906  \n",
       "     white                101932              2164.074061  \n",
       "2014 black                34539               2682.140805  \n",
       "     hispanic             13235               1834.550823  \n",
       "     other                5335                2082.764005  \n",
       "     white                103152              2160.468487  \n",
       "2015 black                35248               2652.578980  \n",
       "     hispanic             14005               1845.823339  \n",
       "     other                5611                2102.206736  \n",
       "     white                104168              2148.848301  \n",
       "2016 black                36045               2612.316188  \n",
       "     hispanic             14349               1798.886744  \n",
       "     other                5665                2016.660140  \n",
       "     white                105379              2129.664622  \n",
       "2017 black                36763               2627.636535  \n",
       "     hispanic             15147               1840.640646  \n",
       "     other                5831                2036.034778  \n",
       "     white                104465              2109.849938  \n",
       "2018 black                37356               2661.081786  \n",
       "     hispanic             15213               1820.673313  \n",
       "     other                6115                2100.219810  \n",
       "     white                103928              2135.158789  "
      ]
     },
     "execution_count": 63,
     "metadata": {},
     "output_type": "execute_result"
    }
   ],
   "source": [
    "\n",
    "per_capita_hd_total.groupby([\"year\",\"race_recode_capstone\",\"heart_disease\"]).sum()\n"
   ]
  },
  {
   "cell_type": "code",
   "execution_count": 64,
   "metadata": {
    "scrolled": true
   },
   "outputs": [
    {
     "data": {
      "text/plain": [
       "F_onewayResult(statistic=array([5931.67744821, 1114.        , 1053.12713305]), pvalue=array([1.43518280e-34, 6.93399445e-26, 1.35396111e-25]))"
      ]
     },
     "execution_count": 64,
     "metadata": {},
     "output_type": "execute_result"
    }
   ],
   "source": [
    "from scipy.stats import f_oneway\n",
    "\n",
    "\n",
    "w=per_capita_hd_total[per_capita_hd_total.race_recode_capstone==\"white\"].groupby([\"year\", \"heart_disease\"]).sum()\n",
    "b=per_capita_hd_total[per_capita_hd_total.race_recode_capstone==\"black\"].groupby([\"year\",\"heart_disease\"]).sum()\n",
    "h=per_capita_hd_total[per_capita_hd_total.race_recode_capstone==\"hispanic\"].groupby([\"year\",\"heart_disease\"]).sum()\n",
    "o=per_capita_hd_total[per_capita_hd_total.race_recode_capstone==\"other\"].groupby([\"year\",\"heart_disease\"]).sum()\n",
    "\n",
    "\n",
    "f_oneway(w,b,h,o)\n",
    "\n",
    "#The p-value is below the  5%  threshold\n",
    "#Based on the current data, it seems that there is a significant difference between \n",
    "#the race and heart disease.\n",
    "#We may speculate that race may play an essential role in mortality rate\n",
    "\n"
   ]
  },
  {
   "cell_type": "code",
   "execution_count": 1097,
   "metadata": {},
   "outputs": [],
   "source": [
    "#can_age_2018.race_recode_capstone=can_age_2018.race_recode_capstone.astype(\"int64\").map(race_map)\n",
    "can_age_2018\n",
    "\n"
   ]
  },
  {
   "cell_type": "code",
   "execution_count": null,
   "metadata": {},
   "outputs": [],
   "source": [
    "#211 Acute myocardial infarction (I21-I22) \n",
    "#215 All other forms of chronic ischemic heart disease (I20,I25.1-I25.9) \n",
    "#214 Atherosclerotic cardiovascular disease, so described (I25.0)\n",
    "#207 Hypertensive heart disease (I11) \n",
    "#227 Cardiomyopathy (I42) \n",
    "#228 Conduction disorders and cardiac dysrhythmias (I44-I49)\n",
    "#236 3 Intracerebral and other intracranial hemorrhage (I61-I62)\n",
    "#238 Stroke, not specified as hemorrhage or infarction (I64) \n",
    "#230 Congestive heart failure (I50.0)   \n",
    "#233 All other and ill-defined forms of heart disease (I50.0-I51.3,I51.6-I51.9) "
   ]
  },
  {
   "cell_type": "code",
   "execution_count": null,
   "metadata": {},
   "outputs": [],
   "source": []
  },
  {
   "cell_type": "markdown",
   "metadata": {},
   "source": [
    "## Overall Heart Disease 2018 EDA \n"
   ]
  },
  {
   "cell_type": "code",
   "execution_count": 95,
   "metadata": {},
   "outputs": [
    {
     "data": {
      "text/html": [
       "<div>\n",
       "<style scoped>\n",
       "    .dataframe tbody tr th:only-of-type {\n",
       "        vertical-align: middle;\n",
       "    }\n",
       "\n",
       "    .dataframe tbody tr th {\n",
       "        vertical-align: top;\n",
       "    }\n",
       "\n",
       "    .dataframe thead th {\n",
       "        text-align: right;\n",
       "    }\n",
       "</style>\n",
       "<table border=\"1\" class=\"dataframe\">\n",
       "  <thead>\n",
       "    <tr style=\"text-align: right;\">\n",
       "      <th></th>\n",
       "      <th>person_id</th>\n",
       "      <th>year_id</th>\n",
       "      <th>resident_status</th>\n",
       "      <th>edu_2003_rev</th>\n",
       "      <th>sex</th>\n",
       "      <th>age_recode_27</th>\n",
       "      <th>marital_status</th>\n",
       "      <th>bridged_race_1</th>\n",
       "      <th>bridged_race_recode_5</th>\n",
       "      <th>hispanicorigin</th>\n",
       "      <th>hispanicorigin_bridgeracerecode</th>\n",
       "      <th>day_of_week_of_death</th>\n",
       "      <th>month_of_death</th>\n",
       "      <th>data_year</th>\n",
       "      <th>race_recode_capstone</th>\n",
       "      <th>cause_recode_358</th>\n",
       "      <th>place_of_death_and_status</th>\n",
       "      <th>injury_at_work</th>\n",
       "      <th>manner_of_death</th>\n",
       "      <th>autopsy</th>\n",
       "      <th>activity_code</th>\n",
       "      <th>place_of_injury</th>\n",
       "    </tr>\n",
       "  </thead>\n",
       "  <tbody>\n",
       "    <tr>\n",
       "      <th>0</th>\n",
       "      <td>9</td>\n",
       "      <td>8</td>\n",
       "      <td>1</td>\n",
       "      <td>4</td>\n",
       "      <td>M</td>\n",
       "      <td>22</td>\n",
       "      <td>M</td>\n",
       "      <td>1</td>\n",
       "      <td>1</td>\n",
       "      <td>282</td>\n",
       "      <td>5</td>\n",
       "      <td>4</td>\n",
       "      <td>1</td>\n",
       "      <td>2018</td>\n",
       "      <td>1</td>\n",
       "      <td>230</td>\n",
       "      <td>4</td>\n",
       "      <td>U</td>\n",
       "      <td>7</td>\n",
       "      <td>N</td>\n",
       "      <td>99</td>\n",
       "      <td>99</td>\n",
       "    </tr>\n",
       "    <tr>\n",
       "      <th>1</th>\n",
       "      <td>10</td>\n",
       "      <td>8</td>\n",
       "      <td>1</td>\n",
       "      <td>4</td>\n",
       "      <td>F</td>\n",
       "      <td>23</td>\n",
       "      <td>W</td>\n",
       "      <td>1</td>\n",
       "      <td>1</td>\n",
       "      <td>100</td>\n",
       "      <td>6</td>\n",
       "      <td>2</td>\n",
       "      <td>1</td>\n",
       "      <td>2018</td>\n",
       "      <td>2</td>\n",
       "      <td>215</td>\n",
       "      <td>4</td>\n",
       "      <td>U</td>\n",
       "      <td>7</td>\n",
       "      <td>N</td>\n",
       "      <td>99</td>\n",
       "      <td>99</td>\n",
       "    </tr>\n",
       "    <tr>\n",
       "      <th>2</th>\n",
       "      <td>14</td>\n",
       "      <td>8</td>\n",
       "      <td>1</td>\n",
       "      <td>3</td>\n",
       "      <td>F</td>\n",
       "      <td>13</td>\n",
       "      <td>S</td>\n",
       "      <td>1</td>\n",
       "      <td>1</td>\n",
       "      <td>100</td>\n",
       "      <td>6</td>\n",
       "      <td>2</td>\n",
       "      <td>1</td>\n",
       "      <td>2018</td>\n",
       "      <td>2</td>\n",
       "      <td>219</td>\n",
       "      <td>1</td>\n",
       "      <td>U</td>\n",
       "      <td>7</td>\n",
       "      <td>N</td>\n",
       "      <td>99</td>\n",
       "      <td>99</td>\n",
       "    </tr>\n",
       "    <tr>\n",
       "      <th>3</th>\n",
       "      <td>15</td>\n",
       "      <td>8</td>\n",
       "      <td>1</td>\n",
       "      <td>6</td>\n",
       "      <td>F</td>\n",
       "      <td>23</td>\n",
       "      <td>W</td>\n",
       "      <td>1</td>\n",
       "      <td>1</td>\n",
       "      <td>100</td>\n",
       "      <td>6</td>\n",
       "      <td>5</td>\n",
       "      <td>1</td>\n",
       "      <td>2018</td>\n",
       "      <td>2</td>\n",
       "      <td>242</td>\n",
       "      <td>1</td>\n",
       "      <td>U</td>\n",
       "      <td>7</td>\n",
       "      <td>N</td>\n",
       "      <td>99</td>\n",
       "      <td>99</td>\n",
       "    </tr>\n",
       "    <tr>\n",
       "      <th>4</th>\n",
       "      <td>16</td>\n",
       "      <td>8</td>\n",
       "      <td>3</td>\n",
       "      <td>7</td>\n",
       "      <td>F</td>\n",
       "      <td>23</td>\n",
       "      <td>W</td>\n",
       "      <td>1</td>\n",
       "      <td>1</td>\n",
       "      <td>100</td>\n",
       "      <td>6</td>\n",
       "      <td>3</td>\n",
       "      <td>1</td>\n",
       "      <td>2018</td>\n",
       "      <td>2</td>\n",
       "      <td>214</td>\n",
       "      <td>7</td>\n",
       "      <td>U</td>\n",
       "      <td>7</td>\n",
       "      <td>N</td>\n",
       "      <td>99</td>\n",
       "      <td>99</td>\n",
       "    </tr>\n",
       "  </tbody>\n",
       "</table>\n",
       "</div>"
      ],
      "text/plain": [
       "   person_id year_id resident_status edu_2003_rev sex age_recode_27  \\\n",
       "0          9       8               1            4   M            22   \n",
       "1         10       8               1            4   F            23   \n",
       "2         14       8               1            3   F            13   \n",
       "3         15       8               1            6   F            23   \n",
       "4         16       8               3            7   F            23   \n",
       "\n",
       "  marital_status bridged_race_1 bridged_race_recode_5 hispanicorigin  \\\n",
       "0              M              1                     1            282   \n",
       "1              W              1                     1            100   \n",
       "2              S              1                     1            100   \n",
       "3              W              1                     1            100   \n",
       "4              W              1                     1            100   \n",
       "\n",
       "  hispanicorigin_bridgeracerecode day_of_week_of_death month_of_death  \\\n",
       "0                               5                    4              1   \n",
       "1                               6                    2              1   \n",
       "2                               6                    2              1   \n",
       "3                               6                    5              1   \n",
       "4                               6                    3              1   \n",
       "\n",
       "  data_year race_recode_capstone cause_recode_358 place_of_death_and_status  \\\n",
       "0      2018                    1              230                         4   \n",
       "1      2018                    2              215                         4   \n",
       "2      2018                    2              219                         1   \n",
       "3      2018                    2              242                         1   \n",
       "4      2018                    2              214                         7   \n",
       "\n",
       "  injury_at_work manner_of_death autopsy activity_code place_of_injury  \n",
       "0              U               7       N            99              99  \n",
       "1              U               7       N            99              99  \n",
       "2              U               7       N            99              99  \n",
       "3              U               7       N            99              99  \n",
       "4              U               7       N            99              99  "
      ]
     },
     "execution_count": 95,
     "metadata": {},
     "output_type": "execute_result"
    }
   ],
   "source": [
    "hd2018.head()"
   ]
  },
  {
   "cell_type": "code",
   "execution_count": 96,
   "metadata": {},
   "outputs": [
    {
     "name": "stdout",
     "output_type": "stream",
     "text": [
      "215    187858\n",
      "211    108610\n",
      "230     65232\n",
      "214     64926\n",
      "228     56446\n",
      "238     52312\n",
      "207     51524\n",
      "239     41462\n",
      "236     28294\n",
      "206     22905\n",
      "Name: cause_recode_358, dtype: int64\n"
     ]
    },
    {
     "data": {
      "text/plain": [
       "Text(0, 0.5, 'Number of deaths')"
      ]
     },
     "execution_count": 96,
     "metadata": {},
     "output_type": "execute_result"
    },
    {
     "data": {
      "image/png": "[encoded data removed]",
      "text/plain": [
       "<Figure size 432x288 with 1 Axes>"
      ]
     },
     "metadata": {
      "needs_background": "light"
     },
     "output_type": "display_data"
    }
   ],
   "source": [
    "#Top 10 heart disease deaths\n",
    "\n",
    "print(hd2018['cause_recode_358'].value_counts().head(10))\n",
    "hd2018['cause_recode_358'].value_counts().head(10).plot(kind='bar', x='cause_recode_358')\n",
    "plt.xlabel(\"Types of heart disease deaths\")\n",
    "plt.ylabel(\"Number of deaths\")\n",
    "\n",
    "#215 All other forms of chronic ischemic heart disease (I20,I25.1-I25.9) \n",
    "#211 Acute myocardial infarction (I21-I22) \n",
    "#230 Congestive heart failure (I50.0) \n",
    "#214 Atherosclerotic cardiovascular disease, so described (I25.0) \n",
    "#228 Conduction disorders and cardiac dysrhythmias (I44-I49) \n",
    "#238 Stroke, not specified as hemorrhage or infarction (I64) \n",
    "#207 Hypertensive heart disease (I11) \n",
    "#239 Other cerebrovascular diseases and their sequelae (I67,I69) \n",
    "#236 3 Intracerebral and other intracranial hemorrhage (I61-I62) \n",
    "#206 Essential (primary) hypertension (I10) "
   ]
  },
  {
   "cell_type": "code",
   "execution_count": 97,
   "metadata": {},
   "outputs": [
    {
     "data": {
      "text/plain": [
       "<matplotlib.axes._subplots.AxesSubplot at 0x7ff295c7ce90>"
      ]
     },
     "execution_count": 97,
     "metadata": {},
     "output_type": "execute_result"
    },
    {
     "data": {
      "image/png": "[encoded data removed]",
      "text/plain": [
       "<Figure size 432x288 with 1 Axes>"
      ]
     },
     "metadata": {
      "needs_background": "light"
     },
     "output_type": "display_data"
    }
   ],
   "source": [
    "hd2018.groupby(\"age_recode_27\").size().plot(kind=\"bar\")\n",
    "\n",
    "#higher risk of dying from a heart disease the older you get\n",
    "\n",
    "#top: 23 -> 85 - 89 years \n",
    "#24 -> 90 - 94 years \n",
    "#22 -> 80 - 84 years \n",
    "#21 -> 75 - 79 years \n",
    "\n"
   ]
  },
  {
   "cell_type": "code",
   "execution_count": 98,
   "metadata": {
    "scrolled": true
   },
   "outputs": [
    {
     "data": {
      "text/plain": [
       "sex\n",
       "F    420164\n",
       "M    448498\n",
       "Name: cause_recode_358, dtype: int64"
      ]
     },
     "execution_count": 98,
     "metadata": {},
     "output_type": "execute_result"
    }
   ],
   "source": [
    "hd2018.groupby([\"sex\"])[\"cause_recode_358\"].size().sort_values()\n"
   ]
  },
  {
   "cell_type": "code",
   "execution_count": 99,
   "metadata": {},
   "outputs": [
    {
     "data": {
      "text/plain": [
       "Text(0, 0.5, 'Number of Deaths')"
      ]
     },
     "execution_count": 99,
     "metadata": {},
     "output_type": "execute_result"
    },
    {
     "data": {
      "image/png": "[encoded data removed]",
      "text/plain": [
       "<Figure size 432x288 with 1 Axes>"
      ]
     },
     "metadata": {
      "needs_background": "light"
     },
     "output_type": "display_data"
    }
   ],
   "source": [
    "#type of disease compared to Female and Male\n",
    "\n",
    "def top_val_count(x, n=10):\n",
    "    return x.value_counts().head(n)\n",
    "\n",
    "plot_hd=hd2018.groupby([\"sex\"]).cause_recode_358\n",
    "plot_hd.apply(top_val_count).plot(kind=\"bar\", x='cause_recode_358')\n",
    "plt.xlabel(\"Type of Heart Disease\")\n",
    "plt.ylabel(\"Number of Deaths\")"
   ]
  },
  {
   "cell_type": "code",
   "execution_count": 100,
   "metadata": {},
   "outputs": [
    {
     "data": {
      "text/plain": [
       "<matplotlib.axes._subplots.AxesSubplot at 0x7ff2b70036d0>"
      ]
     },
     "execution_count": 100,
     "metadata": {},
     "output_type": "execute_result"
    },
    {
     "data": {
      "image/png": "[encoded data removed]",
      "text/plain": [
       "<Figure size 432x288 with 1 Axes>"
      ]
     },
     "metadata": {
      "needs_background": "light"
     },
     "output_type": "display_data"
    }
   ],
   "source": [
    "hd2018.groupby(\"manner_of_death\").size().plot(kind=\"bar\")\n",
    "\n",
    "#7 natural \n",
    "#0 Not specified "
   ]
  },
  {
   "cell_type": "code",
   "execution_count": 101,
   "metadata": {},
   "outputs": [
    {
     "data": {
      "text/plain": [
       "<matplotlib.axes._subplots.AxesSubplot at 0x7ff2b3c503d0>"
      ]
     },
     "execution_count": 101,
     "metadata": {},
     "output_type": "execute_result"
    },
    {
     "data": {
      "image/png": "[encoded data removed]",
      "text/plain": [
       "<Figure size 432x288 with 1 Axes>"
      ]
     },
     "metadata": {
      "needs_background": "light"
     },
     "output_type": "display_data"
    }
   ],
   "source": [
    "hd2018.groupby(\"place_of_death_and_status\").size().plot(kind=\"bar\")\n",
    "\n",
    "#top: 4 -> Decedent’s home\n",
    "#1 -> Hospital, clinic or Medical Center - Inpatient\n",
    "#6 -> Nursing home/long term care\n",
    "#3 -> Hospital, Clinic or Medical Center - Dead on Arrival"
   ]
  },
  {
   "cell_type": "code",
   "execution_count": 102,
   "metadata": {},
   "outputs": [
    {
     "data": {
      "text/plain": [
       "bridged_race_1\n",
       "1     726969\n",
       "18      3256\n",
       "2     112268\n",
       "28      1729\n",
       "3       4943\n",
       "38       281\n",
       "4       5110\n",
       "48      2027\n",
       "5       2790\n",
       "58       124\n",
       "6        277\n",
       "68      3190\n",
       "7       4619\n",
       "78      1079\n",
       "dtype: int64"
      ]
     },
     "execution_count": 102,
     "metadata": {},
     "output_type": "execute_result"
    }
   ],
   "source": [
    "hd2018.groupby(\"bridged_race_1\").size()\n",
    "\n",
    "#hd2018.groupby(\"bridged_race_1\").size().plot(kind=\"bar\")\n"
   ]
  },
  {
   "cell_type": "code",
   "execution_count": 103,
   "metadata": {},
   "outputs": [
    {
     "data": {
      "text/plain": [
       "<matplotlib.axes._subplots.AxesSubplot at 0x7ff2973228d0>"
      ]
     },
     "execution_count": 103,
     "metadata": {},
     "output_type": "execute_result"
    },
    {
     "data": {
      "image/png": "[encoded data removed]",
      "text/plain": [
       "<Figure size 432x288 with 1 Axes>"
      ]
     },
     "metadata": {
      "needs_background": "light"
     },
     "output_type": "display_data"
    }
   ],
   "source": [
    "hd2018.groupby(\"bridged_race_recode_5\").size().plot(kind=\"bar\")\n"
   ]
  },
  {
   "cell_type": "markdown",
   "metadata": {},
   "source": [
    "### CSV file 2018 EDA "
   ]
  },
  {
   "cell_type": "code",
   "execution_count": null,
   "metadata": {},
   "outputs": [],
   "source": [
    "%%time\n",
    "\n",
    "## 2018 EDA with CSV file \n",
    "\n",
    "mort2018=pd.read_csv('mort_2018.csv')\n",
    "\n",
    "pd.set_option('display.max_columns', None) \n",
    "\n",
    "#mort2018.shape\n",
    "\n",
    "code_358=mort2018[\"cause_recode_358\"]\n",
    "\n",
    "hd2018=mort2018[(code_358>=197) & (code_358<=246)]\n",
    "\n",
    "can2018=mort2018[(code_358>=69) & (code_358<=146)]"
   ]
  }
 ],
 "metadata": {
  "kernelspec": {
   "display_name": "Python 3",
   "language": "python",
   "name": "python3"
  },
  "language_info": {
   "codemirror_mode": {
    "name": "ipython",
    "version": 3
   },
   "file_extension": ".py",
   "mimetype": "text/x-python",
   "name": "python",
   "nbconvert_exporter": "python",
   "pygments_lexer": "ipython3",
   "version": "3.7.6"
  },
  "toc": {
   "base_numbering": 1,
   "nav_menu": {},
   "number_sections": true,
   "sideBar": true,
   "skip_h1_title": false,
   "title_cell": "Table of Contents",
   "title_sidebar": "Contents",
   "toc_cell": false,
   "toc_position": {
    "height": "calc(100% - 180px)",
    "left": "10px",
    "top": "150px",
    "width": "165px"
   },
   "toc_section_display": true,
   "toc_window_display": true
  }
 },
 "nbformat": 4,
 "nbformat_minor": 4
}
