{
 "cells": [
  {
   "cell_type": "markdown",
   "metadata": {
    "toc": true
   },
   "source": [
    "<h1>Table of Contents<span class=\"tocSkip\"></span></h1>\n",
    "<div class=\"toc\"><ul class=\"toc-item\"><li><ul class=\"toc-item\"><li><span><a href=\"#File-load\" data-toc-modified-id=\"File-load-0.1\"><span class=\"toc-item-num\">0.1&nbsp;&nbsp;</span>File load</a></span></li></ul></li><li><span><a href=\"#Health-US:-Table\" data-toc-modified-id=\"Health-US:-Table-1\"><span class=\"toc-item-num\">1&nbsp;&nbsp;</span>Health US: Table</a></span></li><li><span><a href=\"#Health-US:-Line-Graph\" data-toc-modified-id=\"Health-US:-Line-Graph-2\"><span class=\"toc-item-num\">2&nbsp;&nbsp;</span>Health US: Line Graph</a></span></li></ul></div>"
   ]
  },
  {
   "cell_type": "markdown",
   "metadata": {},
   "source": [
    "# Health US 2012-2017 Total Statistics for Presentation"
   ]
  },
  {
   "cell_type": "code",
   "execution_count": 57,
   "metadata": {},
   "outputs": [],
   "source": [
    "# Essentials\n",
    "import sys\n",
    "import pandas as pd\n",
    "pd.set_option('display.max_columns', 100)\n",
    "import csv\n",
    "import numpy as np\n",
    "import os\n",
    "import re\n",
    "\n",
    "# Plots\n",
    "import matplotlib.pyplot as plt\n",
    "%matplotlib inline\n",
    "import seaborn as sns\n",
    "import plotly.graph_objects as go\n",
    "import plotly.figure_factory as ff\n",
    "\n"
   ]
  },
  {
   "cell_type": "markdown",
   "metadata": {},
   "source": [
    "### File load"
   ]
  },
  {
   "cell_type": "code",
   "execution_count": 125,
   "metadata": {},
   "outputs": [
    {
     "name": "stdout",
     "output_type": "stream",
     "text": [
      "Wall time: 48.4 ms\n"
     ]
    }
   ],
   "source": [
    "%%time \n",
    "# # Load all files\n",
    "healthUS = pd.read_excel('data/Health US 2012-2017 CDC.xlsx')\n",
    "healthUScsv = pd.read_csv('data/Health US 2012-2017 CDC.csv')"
   ]
  },
  {
   "cell_type": "code",
   "execution_count": 126,
   "metadata": {
    "scrolled": true
   },
   "outputs": [
    {
     "data": {
      "text/html": [
       "<div>\n",
       "<style scoped>\n",
       "    .dataframe tbody tr th:only-of-type {\n",
       "        vertical-align: middle;\n",
       "    }\n",
       "\n",
       "    .dataframe tbody tr th {\n",
       "        vertical-align: top;\n",
       "    }\n",
       "\n",
       "    .dataframe thead th {\n",
       "        text-align: right;\n",
       "    }\n",
       "</style>\n",
       "<table border=\"1\" class=\"dataframe\">\n",
       "  <thead>\n",
       "    <tr style=\"text-align: right;\">\n",
       "      <th></th>\n",
       "      <th>Cause of Death</th>\n",
       "      <th>2012</th>\n",
       "      <th>2013</th>\n",
       "      <th>2014</th>\n",
       "      <th>2015</th>\n",
       "      <th>2016</th>\n",
       "      <th>2017</th>\n",
       "    </tr>\n",
       "  </thead>\n",
       "  <tbody>\n",
       "    <tr>\n",
       "      <th>0</th>\n",
       "      <td>Diseases of heart</td>\n",
       "      <td>170.5</td>\n",
       "      <td>169.8</td>\n",
       "      <td>167.0</td>\n",
       "      <td>168.5</td>\n",
       "      <td>165.5</td>\n",
       "      <td>165.0</td>\n",
       "    </tr>\n",
       "    <tr>\n",
       "      <th>1</th>\n",
       "      <td>Ischemic heart disease</td>\n",
       "      <td>105.4</td>\n",
       "      <td>102.6</td>\n",
       "      <td>98.8</td>\n",
       "      <td>97.2</td>\n",
       "      <td>94.3</td>\n",
       "      <td>92.9</td>\n",
       "    </tr>\n",
       "    <tr>\n",
       "      <th>2</th>\n",
       "      <td>Cerebrovascular diseases</td>\n",
       "      <td>36.9</td>\n",
       "      <td>36.2</td>\n",
       "      <td>36.5</td>\n",
       "      <td>37.6</td>\n",
       "      <td>37.3</td>\n",
       "      <td>37.6</td>\n",
       "    </tr>\n",
       "    <tr>\n",
       "      <th>3</th>\n",
       "      <td>Malignant neoplasms</td>\n",
       "      <td>166.5</td>\n",
       "      <td>163.2</td>\n",
       "      <td>161.2</td>\n",
       "      <td>158.5</td>\n",
       "      <td>155.8</td>\n",
       "      <td>152.5</td>\n",
       "    </tr>\n",
       "    <tr>\n",
       "      <th>4</th>\n",
       "      <td>Trachea, bronchus, and lung</td>\n",
       "      <td>44.9</td>\n",
       "      <td>43.4</td>\n",
       "      <td>42.1</td>\n",
       "      <td>40.5</td>\n",
       "      <td>38.4</td>\n",
       "      <td>36.6</td>\n",
       "    </tr>\n",
       "    <tr>\n",
       "      <th>5</th>\n",
       "      <td>Colon, rectum, and anus</td>\n",
       "      <td>14.9</td>\n",
       "      <td>14.6</td>\n",
       "      <td>14.3</td>\n",
       "      <td>14.2</td>\n",
       "      <td>13.9</td>\n",
       "      <td>13.7</td>\n",
       "    </tr>\n",
       "    <tr>\n",
       "      <th>6</th>\n",
       "      <td>Chronic lower respiratory diseases</td>\n",
       "      <td>41.5</td>\n",
       "      <td>42.1</td>\n",
       "      <td>40.5</td>\n",
       "      <td>41.6</td>\n",
       "      <td>40.6</td>\n",
       "      <td>40.9</td>\n",
       "    </tr>\n",
       "    <tr>\n",
       "      <th>7</th>\n",
       "      <td>Influenza and pneumonia</td>\n",
       "      <td>14.4</td>\n",
       "      <td>15.9</td>\n",
       "      <td>15.1</td>\n",
       "      <td>15.2</td>\n",
       "      <td>13.5</td>\n",
       "      <td>14.3</td>\n",
       "    </tr>\n",
       "    <tr>\n",
       "      <th>8</th>\n",
       "      <td>Chronic liver disease and cirrhosis</td>\n",
       "      <td>9.9</td>\n",
       "      <td>10.2</td>\n",
       "      <td>10.4</td>\n",
       "      <td>10.8</td>\n",
       "      <td>10.7</td>\n",
       "      <td>10.9</td>\n",
       "    </tr>\n",
       "    <tr>\n",
       "      <th>9</th>\n",
       "      <td>Diabetes mellitus</td>\n",
       "      <td>21.2</td>\n",
       "      <td>21.2</td>\n",
       "      <td>20.9</td>\n",
       "      <td>21.3</td>\n",
       "      <td>21.0</td>\n",
       "      <td>21.5</td>\n",
       "    </tr>\n",
       "    <tr>\n",
       "      <th>10</th>\n",
       "      <td>Alzheimer's disease</td>\n",
       "      <td>23.8</td>\n",
       "      <td>23.5</td>\n",
       "      <td>25.4</td>\n",
       "      <td>29.4</td>\n",
       "      <td>30.3</td>\n",
       "      <td>31.0</td>\n",
       "    </tr>\n",
       "    <tr>\n",
       "      <th>11</th>\n",
       "      <td>Human immunodeficiency virus (HIV) disease</td>\n",
       "      <td>2.2</td>\n",
       "      <td>2.1</td>\n",
       "      <td>2.0</td>\n",
       "      <td>1.9</td>\n",
       "      <td>1.8</td>\n",
       "      <td>1.6</td>\n",
       "    </tr>\n",
       "    <tr>\n",
       "      <th>12</th>\n",
       "      <td>Unintentional injuries</td>\n",
       "      <td>39.1</td>\n",
       "      <td>39.4</td>\n",
       "      <td>40.5</td>\n",
       "      <td>43.2</td>\n",
       "      <td>47.4</td>\n",
       "      <td>49.4</td>\n",
       "    </tr>\n",
       "    <tr>\n",
       "      <th>13</th>\n",
       "      <td>Motor vehicle-related injuries</td>\n",
       "      <td>11.4</td>\n",
       "      <td>10.9</td>\n",
       "      <td>10.8</td>\n",
       "      <td>11.4</td>\n",
       "      <td>12.1</td>\n",
       "      <td>12.0</td>\n",
       "    </tr>\n",
       "    <tr>\n",
       "      <th>14</th>\n",
       "      <td>Poisoning</td>\n",
       "      <td>11.5</td>\n",
       "      <td>12.2</td>\n",
       "      <td>13.1</td>\n",
       "      <td>14.8</td>\n",
       "      <td>18.2</td>\n",
       "      <td>20.1</td>\n",
       "    </tr>\n",
       "    <tr>\n",
       "      <th>15</th>\n",
       "      <td>Nephritis, nephrotic syndrome and nephrosis</td>\n",
       "      <td>13.1</td>\n",
       "      <td>13.2</td>\n",
       "      <td>13.2</td>\n",
       "      <td>13.4</td>\n",
       "      <td>13.1</td>\n",
       "      <td>13.0</td>\n",
       "    </tr>\n",
       "    <tr>\n",
       "      <th>16</th>\n",
       "      <td>Suicide</td>\n",
       "      <td>12.6</td>\n",
       "      <td>12.6</td>\n",
       "      <td>13.0</td>\n",
       "      <td>13.3</td>\n",
       "      <td>13.5</td>\n",
       "      <td>14.0</td>\n",
       "    </tr>\n",
       "    <tr>\n",
       "      <th>17</th>\n",
       "      <td>Homicide</td>\n",
       "      <td>5.4</td>\n",
       "      <td>5.2</td>\n",
       "      <td>5.1</td>\n",
       "      <td>5.7</td>\n",
       "      <td>6.2</td>\n",
       "      <td>6.2</td>\n",
       "    </tr>\n",
       "  </tbody>\n",
       "</table>\n",
       "</div>"
      ],
      "text/plain": [
       "                                 Cause of Death   2012   2013   2014   2015  \\\n",
       "0                             Diseases of heart  170.5  169.8  167.0  168.5   \n",
       "1                        Ischemic heart disease  105.4  102.6   98.8   97.2   \n",
       "2                      Cerebrovascular diseases   36.9   36.2   36.5   37.6   \n",
       "3                           Malignant neoplasms  166.5  163.2  161.2  158.5   \n",
       "4                   Trachea, bronchus, and lung   44.9   43.4   42.1   40.5   \n",
       "5                       Colon, rectum, and anus   14.9   14.6   14.3   14.2   \n",
       "6            Chronic lower respiratory diseases   41.5   42.1   40.5   41.6   \n",
       "7                       Influenza and pneumonia   14.4   15.9   15.1   15.2   \n",
       "8           Chronic liver disease and cirrhosis    9.9   10.2   10.4   10.8   \n",
       "9                             Diabetes mellitus   21.2   21.2   20.9   21.3   \n",
       "10                          Alzheimer's disease   23.8   23.5   25.4   29.4   \n",
       "11   Human immunodeficiency virus (HIV) disease    2.2    2.1    2.0    1.9   \n",
       "12                       Unintentional injuries   39.1   39.4   40.5   43.2   \n",
       "13               Motor vehicle-related injuries   11.4   10.9   10.8   11.4   \n",
       "14                                    Poisoning   11.5   12.2   13.1   14.8   \n",
       "15  Nephritis, nephrotic syndrome and nephrosis   13.1   13.2   13.2   13.4   \n",
       "16                                      Suicide   12.6   12.6   13.0   13.3   \n",
       "17                                     Homicide    5.4    5.2    5.1    5.7   \n",
       "\n",
       "     2016   2017  \n",
       "0   165.5  165.0  \n",
       "1    94.3   92.9  \n",
       "2    37.3   37.6  \n",
       "3   155.8  152.5  \n",
       "4    38.4   36.6  \n",
       "5    13.9   13.7  \n",
       "6    40.6   40.9  \n",
       "7    13.5   14.3  \n",
       "8    10.7   10.9  \n",
       "9    21.0   21.5  \n",
       "10   30.3   31.0  \n",
       "11    1.8    1.6  \n",
       "12   47.4   49.4  \n",
       "13   12.1   12.0  \n",
       "14   18.2   20.1  \n",
       "15   13.1   13.0  \n",
       "16   13.5   14.0  \n",
       "17    6.2    6.2  "
      ]
     },
     "execution_count": 126,
     "metadata": {},
     "output_type": "execute_result"
    }
   ],
   "source": [
    "healthUScsv\n"
   ]
  },
  {
   "cell_type": "code",
   "execution_count": 24,
   "metadata": {},
   "outputs": [],
   "source": [
    "# remove spaces from cause of death column name\n",
    "healthUS.columns = ['Cause of Death' if x=='cause_of_death' else x for x in healthUS.columns]"
   ]
  },
  {
   "cell_type": "code",
   "execution_count": 31,
   "metadata": {
    "collapsed": true
   },
   "outputs": [
    {
     "data": {
      "text/html": [
       "<div>\n",
       "<style scoped>\n",
       "    .dataframe tbody tr th:only-of-type {\n",
       "        vertical-align: middle;\n",
       "    }\n",
       "\n",
       "    .dataframe tbody tr th {\n",
       "        vertical-align: top;\n",
       "    }\n",
       "\n",
       "    .dataframe thead th {\n",
       "        text-align: right;\n",
       "    }\n",
       "</style>\n",
       "<table border=\"1\" class=\"dataframe\">\n",
       "  <thead>\n",
       "    <tr style=\"text-align: right;\">\n",
       "      <th></th>\n",
       "      <th>Cause of Death</th>\n",
       "      <th>2012</th>\n",
       "      <th>2013</th>\n",
       "      <th>2014</th>\n",
       "      <th>2015</th>\n",
       "      <th>2016</th>\n",
       "      <th>2017</th>\n",
       "    </tr>\n",
       "  </thead>\n",
       "  <tbody>\n",
       "    <tr>\n",
       "      <th>1</th>\n",
       "      <td>Diseases of heart</td>\n",
       "      <td>170.5</td>\n",
       "      <td>169.8</td>\n",
       "      <td>167.0</td>\n",
       "      <td>168.5</td>\n",
       "      <td>165.5</td>\n",
       "      <td>165.0</td>\n",
       "    </tr>\n",
       "    <tr>\n",
       "      <th>2</th>\n",
       "      <td>Ischemic heart disease</td>\n",
       "      <td>105.4</td>\n",
       "      <td>102.6</td>\n",
       "      <td>98.8</td>\n",
       "      <td>97.2</td>\n",
       "      <td>94.3</td>\n",
       "      <td>92.9</td>\n",
       "    </tr>\n",
       "    <tr>\n",
       "      <th>3</th>\n",
       "      <td>Cerebrovascular diseases</td>\n",
       "      <td>36.9</td>\n",
       "      <td>36.2</td>\n",
       "      <td>36.5</td>\n",
       "      <td>37.6</td>\n",
       "      <td>37.3</td>\n",
       "      <td>37.6</td>\n",
       "    </tr>\n",
       "    <tr>\n",
       "      <th>4</th>\n",
       "      <td>Malignant neoplasms</td>\n",
       "      <td>166.5</td>\n",
       "      <td>163.2</td>\n",
       "      <td>161.2</td>\n",
       "      <td>158.5</td>\n",
       "      <td>155.8</td>\n",
       "      <td>152.5</td>\n",
       "    </tr>\n",
       "    <tr>\n",
       "      <th>5</th>\n",
       "      <td>Trachea, bronchus, and lung</td>\n",
       "      <td>44.9</td>\n",
       "      <td>43.4</td>\n",
       "      <td>42.1</td>\n",
       "      <td>40.5</td>\n",
       "      <td>38.4</td>\n",
       "      <td>36.6</td>\n",
       "    </tr>\n",
       "    <tr>\n",
       "      <th>6</th>\n",
       "      <td>Colon, rectum, and anus</td>\n",
       "      <td>14.9</td>\n",
       "      <td>14.6</td>\n",
       "      <td>14.3</td>\n",
       "      <td>14.2</td>\n",
       "      <td>13.9</td>\n",
       "      <td>13.7</td>\n",
       "    </tr>\n",
       "    <tr>\n",
       "      <th>7</th>\n",
       "      <td>Chronic lower respiratory diseases</td>\n",
       "      <td>41.5</td>\n",
       "      <td>42.1</td>\n",
       "      <td>40.5</td>\n",
       "      <td>41.6</td>\n",
       "      <td>40.6</td>\n",
       "      <td>40.9</td>\n",
       "    </tr>\n",
       "    <tr>\n",
       "      <th>8</th>\n",
       "      <td>Influenza and pneumonia</td>\n",
       "      <td>14.4</td>\n",
       "      <td>15.9</td>\n",
       "      <td>15.1</td>\n",
       "      <td>15.2</td>\n",
       "      <td>13.5</td>\n",
       "      <td>14.3</td>\n",
       "    </tr>\n",
       "    <tr>\n",
       "      <th>9</th>\n",
       "      <td>Chronic liver disease and cirrhosis</td>\n",
       "      <td>9.9</td>\n",
       "      <td>10.2</td>\n",
       "      <td>10.4</td>\n",
       "      <td>10.8</td>\n",
       "      <td>10.7</td>\n",
       "      <td>10.9</td>\n",
       "    </tr>\n",
       "    <tr>\n",
       "      <th>10</th>\n",
       "      <td>Diabetes mellitus</td>\n",
       "      <td>21.2</td>\n",
       "      <td>21.2</td>\n",
       "      <td>20.9</td>\n",
       "      <td>21.3</td>\n",
       "      <td>21.0</td>\n",
       "      <td>21.5</td>\n",
       "    </tr>\n",
       "    <tr>\n",
       "      <th>11</th>\n",
       "      <td>Alzheimer's disease</td>\n",
       "      <td>23.8</td>\n",
       "      <td>23.5</td>\n",
       "      <td>25.4</td>\n",
       "      <td>29.4</td>\n",
       "      <td>30.3</td>\n",
       "      <td>31.0</td>\n",
       "    </tr>\n",
       "    <tr>\n",
       "      <th>12</th>\n",
       "      <td>Human immunodeficiency virus (HIV) disease</td>\n",
       "      <td>2.2</td>\n",
       "      <td>2.1</td>\n",
       "      <td>2.0</td>\n",
       "      <td>1.9</td>\n",
       "      <td>1.8</td>\n",
       "      <td>1.6</td>\n",
       "    </tr>\n",
       "    <tr>\n",
       "      <th>13</th>\n",
       "      <td>Unintentional injuries</td>\n",
       "      <td>39.1</td>\n",
       "      <td>39.4</td>\n",
       "      <td>40.5</td>\n",
       "      <td>43.2</td>\n",
       "      <td>47.4</td>\n",
       "      <td>49.4</td>\n",
       "    </tr>\n",
       "    <tr>\n",
       "      <th>14</th>\n",
       "      <td>Motor vehicle-related injuries</td>\n",
       "      <td>11.4</td>\n",
       "      <td>10.9</td>\n",
       "      <td>10.8</td>\n",
       "      <td>11.4</td>\n",
       "      <td>12.1</td>\n",
       "      <td>12.0</td>\n",
       "    </tr>\n",
       "    <tr>\n",
       "      <th>15</th>\n",
       "      <td>Poisoning</td>\n",
       "      <td>11.5</td>\n",
       "      <td>12.2</td>\n",
       "      <td>13.1</td>\n",
       "      <td>14.8</td>\n",
       "      <td>18.2</td>\n",
       "      <td>20.1</td>\n",
       "    </tr>\n",
       "    <tr>\n",
       "      <th>16</th>\n",
       "      <td>Nephritis, nephrotic syndrome and nephrosis</td>\n",
       "      <td>13.1</td>\n",
       "      <td>13.2</td>\n",
       "      <td>13.2</td>\n",
       "      <td>13.4</td>\n",
       "      <td>13.1</td>\n",
       "      <td>13.0</td>\n",
       "    </tr>\n",
       "    <tr>\n",
       "      <th>17</th>\n",
       "      <td>Suicide</td>\n",
       "      <td>12.6</td>\n",
       "      <td>12.6</td>\n",
       "      <td>13.0</td>\n",
       "      <td>13.3</td>\n",
       "      <td>13.5</td>\n",
       "      <td>14.0</td>\n",
       "    </tr>\n",
       "    <tr>\n",
       "      <th>18</th>\n",
       "      <td>Homicide</td>\n",
       "      <td>5.4</td>\n",
       "      <td>5.2</td>\n",
       "      <td>5.1</td>\n",
       "      <td>5.7</td>\n",
       "      <td>6.2</td>\n",
       "      <td>6.2</td>\n",
       "    </tr>\n",
       "  </tbody>\n",
       "</table>\n",
       "</div>"
      ],
      "text/plain": [
       "                                 Cause of Death   2012   2013   2014   2015  \\\n",
       "1                             Diseases of heart  170.5  169.8  167.0  168.5   \n",
       "2                        Ischemic heart disease  105.4  102.6   98.8   97.2   \n",
       "3                      Cerebrovascular diseases   36.9   36.2   36.5   37.6   \n",
       "4                           Malignant neoplasms  166.5  163.2  161.2  158.5   \n",
       "5                   Trachea, bronchus, and lung   44.9   43.4   42.1   40.5   \n",
       "6                       Colon, rectum, and anus   14.9   14.6   14.3   14.2   \n",
       "7            Chronic lower respiratory diseases   41.5   42.1   40.5   41.6   \n",
       "8                       Influenza and pneumonia   14.4   15.9   15.1   15.2   \n",
       "9           Chronic liver disease and cirrhosis    9.9   10.2   10.4   10.8   \n",
       "10                            Diabetes mellitus   21.2   21.2   20.9   21.3   \n",
       "11                          Alzheimer's disease   23.8   23.5   25.4   29.4   \n",
       "12   Human immunodeficiency virus (HIV) disease    2.2    2.1    2.0    1.9   \n",
       "13                       Unintentional injuries   39.1   39.4   40.5   43.2   \n",
       "14               Motor vehicle-related injuries   11.4   10.9   10.8   11.4   \n",
       "15                                    Poisoning   11.5   12.2   13.1   14.8   \n",
       "16  Nephritis, nephrotic syndrome and nephrosis   13.1   13.2   13.2   13.4   \n",
       "17                                      Suicide   12.6   12.6   13.0   13.3   \n",
       "18                                     Homicide    5.4    5.2    5.1    5.7   \n",
       "\n",
       "     2016   2017  \n",
       "1   165.5  165.0  \n",
       "2    94.3   92.9  \n",
       "3    37.3   37.6  \n",
       "4   155.8  152.5  \n",
       "5    38.4   36.6  \n",
       "6    13.9   13.7  \n",
       "7    40.6   40.9  \n",
       "8    13.5   14.3  \n",
       "9    10.7   10.9  \n",
       "10   21.0   21.5  \n",
       "11   30.3   31.0  \n",
       "12    1.8    1.6  \n",
       "13   47.4   49.4  \n",
       "14   12.1   12.0  \n",
       "15   18.2   20.1  \n",
       "16   13.1   13.0  \n",
       "17   13.5   14.0  \n",
       "18    6.2    6.2  "
      ]
     },
     "execution_count": 31,
     "metadata": {},
     "output_type": "execute_result"
    }
   ],
   "source": [
    "healthUS.drop([0], inplace=True)\n",
    "healthUS"
   ]
  },
  {
   "cell_type": "code",
   "execution_count": 127,
   "metadata": {},
   "outputs": [
    {
     "data": {
      "text/plain": [
       "Index(['Cause of Death', '2012', '2013', '2014', '2015', '2016', '2017'], dtype='object')"
      ]
     },
     "execution_count": 127,
     "metadata": {},
     "output_type": "execute_result"
    }
   ],
   "source": [
    "healthUScsv.columns"
   ]
  },
  {
   "cell_type": "code",
   "execution_count": 40,
   "metadata": {},
   "outputs": [],
   "source": [
    "healthUS.columns = healthUS.columns.astype(str)"
   ]
  },
  {
   "cell_type": "code",
   "execution_count": 90,
   "metadata": {
    "collapsed": true
   },
   "outputs": [
    {
     "data": {
      "text/plain": [
       "['Diseases of heart',\n",
       " '\\tIschemic heart disease',\n",
       " 'Cerebrovascular diseases',\n",
       " 'Malignant neoplasms',\n",
       " '\\tTrachea, bronchus, and lung',\n",
       " '\\tColon, rectum, and anus',\n",
       " 'Chronic lower respiratory diseases',\n",
       " 'Influenza and pneumonia',\n",
       " 'Chronic liver disease and cirrhosis',\n",
       " 'Diabetes mellitus',\n",
       " \"Alzheimer's disease\",\n",
       " 'Human immunodeficiency virus (HIV) disease',\n",
       " 'Unintentional injuries',\n",
       " '\\tMotor vehicle-related injuries',\n",
       " '\\t\\tPoisoning',\n",
       " 'Nephritis, nephrotic syndrome and nephrosis',\n",
       " 'Suicide',\n",
       " 'Homicide']"
      ]
     },
     "execution_count": 90,
     "metadata": {},
     "output_type": "execute_result"
    }
   ],
   "source": [
    "cod = list(healthUS['Cause of Death'])\n",
    "cod"
   ]
  },
  {
   "cell_type": "code",
   "execution_count": 54,
   "metadata": {
    "collapsed": true
   },
   "outputs": [
    {
     "name": "stdout",
     "output_type": "stream",
     "text": [
      "['Diseases of heart', 'Ischemic heart disease', 'Cerebrovascular diseases', 'Malignant neoplasms', 'Trachea, bronchus, and lung', 'Colon, rectum, and anus', 'Chronic lower respiratory diseases', 'Influenza and pneumonia', 'Chronic liver disease and cirrhosis', 'Diabetes mellitus', \"Alzheimer's disease\", 'Human immunodeficiency virus (HIV) disease', 'Unintentional injuries', 'Motor vehicle-related injuries', 'Poisoning', 'Nephritis, nephrotic syndrome and nephrosis', 'Suicide', 'Homicide']\n",
      "['Diseases of heart', '\\tIschemic heart disease', 'Cerebrovascular diseases', 'Malignant neoplasms', 'Trachea, bronchus, and lung', 'Colon, rectum, and anus', 'Chronic lower respiratory diseases', 'Influenza and pneumonia', 'Chronic liver disease and cirrhosis', 'Diabetes mellitus', \"Alzheimer's disease\", 'Human immunodeficiency virus (HIV) disease', 'Unintentional injuries', 'Motor vehicle-related injuries', 'Poisoning', 'Nephritis, nephrotic syndrome and nephrosis', 'Suicide', 'Homicide']\n"
     ]
    }
   ],
   "source": [
    "cod[1] = '\\tIschemic heart disease'\n",
    "print(cod)"
   ]
  },
  {
   "cell_type": "code",
   "execution_count": 105,
   "metadata": {},
   "outputs": [],
   "source": [
    "cod[4] = '\\tTrachea, bronchus, and lung'\n",
    "cod[5] = '\\tColon, rectum, and anus'\n",
    "cod[13] = '\\tMotor vehicle-related injuries'\n",
    "cod[14] = \"\\t\\tPoisoning\""
   ]
  },
  {
   "cell_type": "code",
   "execution_count": 106,
   "metadata": {
    "collapsed": true
   },
   "outputs": [
    {
     "data": {
      "text/plain": [
       "['Diseases of heart',\n",
       " '\\tIschemic heart disease',\n",
       " 'Cerebrovascular diseases',\n",
       " 'Malignant neoplasms',\n",
       " '\\tTrachea, bronchus, and lung',\n",
       " '\\tColon, rectum, and anus',\n",
       " 'Chronic lower respiratory diseases',\n",
       " 'Influenza and pneumonia',\n",
       " 'Chronic liver disease and cirrhosis',\n",
       " 'Diabetes mellitus',\n",
       " \"Alzheimer's disease\",\n",
       " 'Human immunodeficiency virus (HIV) disease',\n",
       " 'Unintentional injuries',\n",
       " '\\tMotor vehicle-related injuries',\n",
       " '\\t\\tPoisoning',\n",
       " 'Nephritis, nephrotic syndrome and nephrosis',\n",
       " 'Suicide',\n",
       " 'Homicide']"
      ]
     },
     "execution_count": 106,
     "metadata": {},
     "output_type": "execute_result"
    }
   ],
   "source": [
    "cod"
   ]
  },
  {
   "cell_type": "code",
   "execution_count": 108,
   "metadata": {
    "collapsed": true
   },
   "outputs": [
    {
     "data": {
      "text/plain": [
       "1                               Diseases of heart\n",
       "2                        \\tIschemic heart disease\n",
       "3                        Cerebrovascular diseases\n",
       "4                             Malignant neoplasms\n",
       "5                   \\tTrachea, bronchus, and lung\n",
       "6                       \\tColon, rectum, and anus\n",
       "7              Chronic lower respiratory diseases\n",
       "8                         Influenza and pneumonia\n",
       "9             Chronic liver disease and cirrhosis\n",
       "10                              Diabetes mellitus\n",
       "11                            Alzheimer's disease\n",
       "12     Human immunodeficiency virus (HIV) disease\n",
       "13                         Unintentional injuries\n",
       "14               \\tMotor vehicle-related injuries\n",
       "15                                  \\t\\tPoisoning\n",
       "16    Nephritis, nephrotic syndrome and nephrosis\n",
       "17                                        Suicide\n",
       "18                                       Homicide\n",
       "Name: Cause of Death, dtype: object"
      ]
     },
     "execution_count": 108,
     "metadata": {},
     "output_type": "execute_result"
    }
   ],
   "source": [
    "healthUS['Cause of Death'] = cod"
   ]
  },
  {
   "cell_type": "markdown",
   "metadata": {},
   "source": [
    "## Health US: Table"
   ]
  },
  {
   "cell_type": "code",
   "execution_count": 119,
   "metadata": {
    "scrolled": true
   },
   "outputs": [
    {
     "data": {
      "application/vnd.plotly.v1+json": {
       "config": {
        "plotlyServerURL": "https://plot.ly"
       },
       "data": [
        {
         "cells": {
          "align": [
           "left",
           "right"
          ],
          "fill": {
           "color": "white"
          },
          "line": {
           "color": "darkslategray"
          },
          "values": [
           [
            "Diseases of heart",
            "\tIschemic heart disease",
            "Cerebrovascular diseases",
            "Malignant neoplasms",
            "\tTrachea, bronchus, and lung",
            "\tColon, rectum, and anus",
            "Chronic lower respiratory diseases",
            "Influenza and pneumonia",
            "Chronic liver disease and cirrhosis",
            "Diabetes mellitus",
            "Alzheimer's disease",
            "Human immunodeficiency virus (HIV) disease",
            "Unintentional injuries",
            "\tMotor vehicle-related injuries",
            "\t\tPoisoning",
            "Nephritis, nephrotic syndrome and nephrosis",
            "Suicide",
            "Homicide"
           ],
           [
            170.5,
            105.4,
            36.9,
            166.5,
            44.9,
            14.9,
            41.5,
            14.4,
            9.9,
            21.2,
            23.8,
            2.2,
            39.1,
            11.4,
            11.5,
            13.1,
            12.6,
            5.4
           ],
           [
            169.8,
            102.6,
            36.2,
            163.2,
            43.4,
            14.6,
            42.1,
            15.9,
            10.2,
            21.2,
            23.5,
            2.1,
            39.4,
            10.9,
            12.2,
            13.2,
            12.6,
            5.2
           ],
           [
            167,
            98.8,
            36.5,
            161.2,
            42.1,
            14.3,
            40.5,
            15.1,
            10.4,
            20.9,
            25.4,
            2,
            40.5,
            10.8,
            13.1,
            13.2,
            13,
            5.1
           ],
           [
            168.5,
            97.2,
            37.6,
            158.5,
            40.5,
            14.2,
            41.6,
            15.2,
            10.8,
            21.3,
            29.4,
            1.9,
            43.2,
            11.4,
            14.8,
            13.4,
            13.3,
            5.7
           ],
           [
            165.5,
            94.3,
            37.3,
            155.8,
            38.4,
            13.9,
            40.6,
            13.5,
            10.7,
            21,
            30.3,
            1.8,
            47.4,
            12.1,
            18.2,
            13.1,
            13.5,
            6.2
           ],
           [
            165,
            92.9,
            37.6,
            152.5,
            36.6,
            13.7,
            40.9,
            14.3,
            10.9,
            21.5,
            31,
            1.6,
            49.4,
            12,
            20.1,
            13,
            14,
            6.2
           ]
          ]
         },
         "columnwidth": [
          350,
          100,
          100,
          100,
          100,
          100,
          100
         ],
         "header": {
          "align": [
           "left",
           "center"
          ],
          "fill": {
           "color": "gray"
          },
          "font": {
           "color": "white",
           "size": 12
          },
          "line": {
           "color": "darkslategray"
          },
          "values": [
           "Cause of Death",
           "2012",
           "2013",
           "2014",
           "2015",
           "2016",
           "2017"
          ]
         },
         "type": "table"
        }
       ],
       "layout": {
        "height": 600,
        "template": {
         "data": {
          "bar": [
           {
            "error_x": {
             "color": "#2a3f5f"
            },
            "error_y": {
             "color": "#2a3f5f"
            },
            "marker": {
             "line": {
              "color": "#E5ECF6",
              "width": 0.5
             }
            },
            "type": "bar"
           }
          ],
          "barpolar": [
           {
            "marker": {
             "line": {
              "color": "#E5ECF6",
              "width": 0.5
             }
            },
            "type": "barpolar"
           }
          ],
          "carpet": [
           {
            "aaxis": {
             "endlinecolor": "#2a3f5f",
             "gridcolor": "white",
             "linecolor": "white",
             "minorgridcolor": "white",
             "startlinecolor": "#2a3f5f"
            },
            "baxis": {
             "endlinecolor": "#2a3f5f",
             "gridcolor": "white",
             "linecolor": "white",
             "minorgridcolor": "white",
             "startlinecolor": "#2a3f5f"
            },
            "type": "carpet"
           }
          ],
          "choropleth": [
           {
            "colorbar": {
             "outlinewidth": 0,
             "ticks": ""
            },
            "type": "choropleth"
           }
          ],
          "contour": [
           {
            "colorbar": {
             "outlinewidth": 0,
             "ticks": ""
            },
            "colorscale": [
             [
              0,
              "#0d0887"
             ],
             [
              0.1111111111111111,
              "#46039f"
             ],
             [
              0.2222222222222222,
              "#7201a8"
             ],
             [
              0.3333333333333333,
              "#9c179e"
             ],
             [
              0.4444444444444444,
              "#bd3786"
             ],
             [
              0.5555555555555556,
              "#d8576b"
             ],
             [
              0.6666666666666666,
              "#ed7953"
             ],
             [
              0.7777777777777778,
              "#fb9f3a"
             ],
             [
              0.8888888888888888,
              "#fdca26"
             ],
             [
              1,
              "#f0f921"
             ]
            ],
            "type": "contour"
           }
          ],
          "contourcarpet": [
           {
            "colorbar": {
             "outlinewidth": 0,
             "ticks": ""
            },
            "type": "contourcarpet"
           }
          ],
          "heatmap": [
           {
            "colorbar": {
             "outlinewidth": 0,
             "ticks": ""
            },
            "colorscale": [
             [
              0,
              "#0d0887"
             ],
             [
              0.1111111111111111,
              "#46039f"
             ],
             [
              0.2222222222222222,
              "#7201a8"
             ],
             [
              0.3333333333333333,
              "#9c179e"
             ],
             [
              0.4444444444444444,
              "#bd3786"
             ],
             [
              0.5555555555555556,
              "#d8576b"
             ],
             [
              0.6666666666666666,
              "#ed7953"
             ],
             [
              0.7777777777777778,
              "#fb9f3a"
             ],
             [
              0.8888888888888888,
              "#fdca26"
             ],
             [
              1,
              "#f0f921"
             ]
            ],
            "type": "heatmap"
           }
          ],
          "heatmapgl": [
           {
            "colorbar": {
             "outlinewidth": 0,
             "ticks": ""
            },
            "colorscale": [
             [
              0,
              "#0d0887"
             ],
             [
              0.1111111111111111,
              "#46039f"
             ],
             [
              0.2222222222222222,
              "#7201a8"
             ],
             [
              0.3333333333333333,
              "#9c179e"
             ],
             [
              0.4444444444444444,
              "#bd3786"
             ],
             [
              0.5555555555555556,
              "#d8576b"
             ],
             [
              0.6666666666666666,
              "#ed7953"
             ],
             [
              0.7777777777777778,
              "#fb9f3a"
             ],
             [
              0.8888888888888888,
              "#fdca26"
             ],
             [
              1,
              "#f0f921"
             ]
            ],
            "type": "heatmapgl"
           }
          ],
          "histogram": [
           {
            "marker": {
             "colorbar": {
              "outlinewidth": 0,
              "ticks": ""
             }
            },
            "type": "histogram"
           }
          ],
          "histogram2d": [
           {
            "colorbar": {
             "outlinewidth": 0,
             "ticks": ""
            },
            "colorscale": [
             [
              0,
              "#0d0887"
             ],
             [
              0.1111111111111111,
              "#46039f"
             ],
             [
              0.2222222222222222,
              "#7201a8"
             ],
             [
              0.3333333333333333,
              "#9c179e"
             ],
             [
              0.4444444444444444,
              "#bd3786"
             ],
             [
              0.5555555555555556,
              "#d8576b"
             ],
             [
              0.6666666666666666,
              "#ed7953"
             ],
             [
              0.7777777777777778,
              "#fb9f3a"
             ],
             [
              0.8888888888888888,
              "#fdca26"
             ],
             [
              1,
              "#f0f921"
             ]
            ],
            "type": "histogram2d"
           }
          ],
          "histogram2dcontour": [
           {
            "colorbar": {
             "outlinewidth": 0,
             "ticks": ""
            },
            "colorscale": [
             [
              0,
              "#0d0887"
             ],
             [
              0.1111111111111111,
              "#46039f"
             ],
             [
              0.2222222222222222,
              "#7201a8"
             ],
             [
              0.3333333333333333,
              "#9c179e"
             ],
             [
              0.4444444444444444,
              "#bd3786"
             ],
             [
              0.5555555555555556,
              "#d8576b"
             ],
             [
              0.6666666666666666,
              "#ed7953"
             ],
             [
              0.7777777777777778,
              "#fb9f3a"
             ],
             [
              0.8888888888888888,
              "#fdca26"
             ],
             [
              1,
              "#f0f921"
             ]
            ],
            "type": "histogram2dcontour"
           }
          ],
          "mesh3d": [
           {
            "colorbar": {
             "outlinewidth": 0,
             "ticks": ""
            },
            "type": "mesh3d"
           }
          ],
          "parcoords": [
           {
            "line": {
             "colorbar": {
              "outlinewidth": 0,
              "ticks": ""
             }
            },
            "type": "parcoords"
           }
          ],
          "pie": [
           {
            "automargin": true,
            "type": "pie"
           }
          ],
          "scatter": [
           {
            "marker": {
             "colorbar": {
              "outlinewidth": 0,
              "ticks": ""
             }
            },
            "type": "scatter"
           }
          ],
          "scatter3d": [
           {
            "line": {
             "colorbar": {
              "outlinewidth": 0,
              "ticks": ""
             }
            },
            "marker": {
             "colorbar": {
              "outlinewidth": 0,
              "ticks": ""
             }
            },
            "type": "scatter3d"
           }
          ],
          "scattercarpet": [
           {
            "marker": {
             "colorbar": {
              "outlinewidth": 0,
              "ticks": ""
             }
            },
            "type": "scattercarpet"
           }
          ],
          "scattergeo": [
           {
            "marker": {
             "colorbar": {
              "outlinewidth": 0,
              "ticks": ""
             }
            },
            "type": "scattergeo"
           }
          ],
          "scattergl": [
           {
            "marker": {
             "colorbar": {
              "outlinewidth": 0,
              "ticks": ""
             }
            },
            "type": "scattergl"
           }
          ],
          "scattermapbox": [
           {
            "marker": {
             "colorbar": {
              "outlinewidth": 0,
              "ticks": ""
             }
            },
            "type": "scattermapbox"
           }
          ],
          "scatterpolar": [
           {
            "marker": {
             "colorbar": {
              "outlinewidth": 0,
              "ticks": ""
             }
            },
            "type": "scatterpolar"
           }
          ],
          "scatterpolargl": [
           {
            "marker": {
             "colorbar": {
              "outlinewidth": 0,
              "ticks": ""
             }
            },
            "type": "scatterpolargl"
           }
          ],
          "scatterternary": [
           {
            "marker": {
             "colorbar": {
              "outlinewidth": 0,
              "ticks": ""
             }
            },
            "type": "scatterternary"
           }
          ],
          "surface": [
           {
            "colorbar": {
             "outlinewidth": 0,
             "ticks": ""
            },
            "colorscale": [
             [
              0,
              "#0d0887"
             ],
             [
              0.1111111111111111,
              "#46039f"
             ],
             [
              0.2222222222222222,
              "#7201a8"
             ],
             [
              0.3333333333333333,
              "#9c179e"
             ],
             [
              0.4444444444444444,
              "#bd3786"
             ],
             [
              0.5555555555555556,
              "#d8576b"
             ],
             [
              0.6666666666666666,
              "#ed7953"
             ],
             [
              0.7777777777777778,
              "#fb9f3a"
             ],
             [
              0.8888888888888888,
              "#fdca26"
             ],
             [
              1,
              "#f0f921"
             ]
            ],
            "type": "surface"
           }
          ],
          "table": [
           {
            "cells": {
             "fill": {
              "color": "#EBF0F8"
             },
             "line": {
              "color": "white"
             }
            },
            "header": {
             "fill": {
              "color": "#C8D4E3"
             },
             "line": {
              "color": "white"
             }
            },
            "type": "table"
           }
          ]
         },
         "layout": {
          "annotationdefaults": {
           "arrowcolor": "#2a3f5f",
           "arrowhead": 0,
           "arrowwidth": 1
          },
          "coloraxis": {
           "colorbar": {
            "outlinewidth": 0,
            "ticks": ""
           }
          },
          "colorscale": {
           "diverging": [
            [
             0,
             "#8e0152"
            ],
            [
             0.1,
             "#c51b7d"
            ],
            [
             0.2,
             "#de77ae"
            ],
            [
             0.3,
             "#f1b6da"
            ],
            [
             0.4,
             "#fde0ef"
            ],
            [
             0.5,
             "#f7f7f7"
            ],
            [
             0.6,
             "#e6f5d0"
            ],
            [
             0.7,
             "#b8e186"
            ],
            [
             0.8,
             "#7fbc41"
            ],
            [
             0.9,
             "#4d9221"
            ],
            [
             1,
             "#276419"
            ]
           ],
           "sequential": [
            [
             0,
             "#0d0887"
            ],
            [
             0.1111111111111111,
             "#46039f"
            ],
            [
             0.2222222222222222,
             "#7201a8"
            ],
            [
             0.3333333333333333,
             "#9c179e"
            ],
            [
             0.4444444444444444,
             "#bd3786"
            ],
            [
             0.5555555555555556,
             "#d8576b"
            ],
            [
             0.6666666666666666,
             "#ed7953"
            ],
            [
             0.7777777777777778,
             "#fb9f3a"
            ],
            [
             0.8888888888888888,
             "#fdca26"
            ],
            [
             1,
             "#f0f921"
            ]
           ],
           "sequentialminus": [
            [
             0,
             "#0d0887"
            ],
            [
             0.1111111111111111,
             "#46039f"
            ],
            [
             0.2222222222222222,
             "#7201a8"
            ],
            [
             0.3333333333333333,
             "#9c179e"
            ],
            [
             0.4444444444444444,
             "#bd3786"
            ],
            [
             0.5555555555555556,
             "#d8576b"
            ],
            [
             0.6666666666666666,
             "#ed7953"
            ],
            [
             0.7777777777777778,
             "#fb9f3a"
            ],
            [
             0.8888888888888888,
             "#fdca26"
            ],
            [
             1,
             "#f0f921"
            ]
           ]
          },
          "colorway": [
           "#636efa",
           "#EF553B",
           "#00cc96",
           "#ab63fa",
           "#FFA15A",
           "#19d3f3",
           "#FF6692",
           "#B6E880",
           "#FF97FF",
           "#FECB52"
          ],
          "font": {
           "color": "#2a3f5f"
          },
          "geo": {
           "bgcolor": "white",
           "lakecolor": "white",
           "landcolor": "#E5ECF6",
           "showlakes": true,
           "showland": true,
           "subunitcolor": "white"
          },
          "hoverlabel": {
           "align": "left"
          },
          "hovermode": "closest",
          "mapbox": {
           "style": "light"
          },
          "paper_bgcolor": "white",
          "plot_bgcolor": "#E5ECF6",
          "polar": {
           "angularaxis": {
            "gridcolor": "white",
            "linecolor": "white",
            "ticks": ""
           },
           "bgcolor": "#E5ECF6",
           "radialaxis": {
            "gridcolor": "white",
            "linecolor": "white",
            "ticks": ""
           }
          },
          "scene": {
           "xaxis": {
            "backgroundcolor": "#E5ECF6",
            "gridcolor": "white",
            "gridwidth": 2,
            "linecolor": "white",
            "showbackground": true,
            "ticks": "",
            "zerolinecolor": "white"
           },
           "yaxis": {
            "backgroundcolor": "#E5ECF6",
            "gridcolor": "white",
            "gridwidth": 2,
            "linecolor": "white",
            "showbackground": true,
            "ticks": "",
            "zerolinecolor": "white"
           },
           "zaxis": {
            "backgroundcolor": "#E5ECF6",
            "gridcolor": "white",
            "gridwidth": 2,
            "linecolor": "white",
            "showbackground": true,
            "ticks": "",
            "zerolinecolor": "white"
           }
          },
          "shapedefaults": {
           "line": {
            "color": "#2a3f5f"
           }
          },
          "ternary": {
           "aaxis": {
            "gridcolor": "white",
            "linecolor": "white",
            "ticks": ""
           },
           "baxis": {
            "gridcolor": "white",
            "linecolor": "white",
            "ticks": ""
           },
           "bgcolor": "#E5ECF6",
           "caxis": {
            "gridcolor": "white",
            "linecolor": "white",
            "ticks": ""
           }
          },
          "title": {
           "x": 0.05
          },
          "xaxis": {
           "automargin": true,
           "gridcolor": "white",
           "linecolor": "white",
           "ticks": "",
           "title": {
            "standoff": 15
           },
           "zerolinecolor": "white",
           "zerolinewidth": 2
          },
          "yaxis": {
           "automargin": true,
           "gridcolor": "white",
           "linecolor": "white",
           "ticks": "",
           "title": {
            "standoff": 15
           },
           "zerolinecolor": "white",
           "zerolinewidth": 2
          }
         }
        },
        "title": {
         "text": "Age-adjusted death rates for selected causes of death: United States, years 2012–2017"
        },
        "width": 1000
       }
      },
      "text/html": [
       "<div>\n",
       "        \n",
       "        \n",
       "            <div id=\"8fa8bba7-44f4-404e-a9bd-6d921c511d2b\" class=\"plotly-graph-div\" style=\"height:600px; width:1000px;\"></div>\n",
       "            <script type=\"text/javascript\">\n",
       "                require([\"plotly\"], function(Plotly) {\n",
       "                    window.PLOTLYENV=window.PLOTLYENV || {};\n",
       "                    \n",
       "                if (document.getElementById(\"8fa8bba7-44f4-404e-a9bd-6d921c511d2b\")) {\n",
       "                    Plotly.newPlot(\n",
       "                        '8fa8bba7-44f4-404e-a9bd-6d921c511d2b',\n",
       "                        [{\"cells\": {\"align\": [\"left\", \"right\"], \"fill\": {\"color\": \"white\"}, \"line\": {\"color\": \"darkslategray\"}, \"values\": [[\"Diseases of heart\", \"\\tIschemic heart disease\", \"Cerebrovascular diseases\", \"Malignant neoplasms\", \"\\tTrachea, bronchus, and lung\", \"\\tColon, rectum, and anus\", \"Chronic lower respiratory diseases\", \"Influenza and pneumonia\", \"Chronic liver disease and cirrhosis\", \"Diabetes mellitus\", \"Alzheimer's disease\", \"Human immunodeficiency virus (HIV) disease\", \"Unintentional injuries\", \"\\tMotor vehicle-related injuries\", \"\\t\\tPoisoning\", \"Nephritis, nephrotic syndrome and nephrosis\", \"Suicide\", \"Homicide\"], [170.5, 105.4, 36.9, 166.5, 44.9, 14.9, 41.5, 14.4, 9.9, 21.2, 23.8, 2.2, 39.1, 11.4, 11.5, 13.1, 12.6, 5.4], [169.8, 102.6, 36.2, 163.2, 43.4, 14.6, 42.1, 15.9, 10.2, 21.2, 23.5, 2.1, 39.4, 10.9, 12.2, 13.2, 12.6, 5.2], [167.0, 98.8, 36.5, 161.2, 42.1, 14.3, 40.5, 15.1, 10.4, 20.9, 25.4, 2.0, 40.5, 10.8, 13.1, 13.2, 13.0, 5.1], [168.5, 97.2, 37.6, 158.5, 40.5, 14.2, 41.6, 15.2, 10.8, 21.3, 29.4, 1.9, 43.2, 11.4, 14.8, 13.4, 13.3, 5.7], [165.5, 94.3, 37.3, 155.8, 38.4, 13.9, 40.6, 13.5, 10.7, 21.0, 30.3, 1.8, 47.4, 12.1, 18.2, 13.1, 13.5, 6.2], [165.0, 92.9, 37.6, 152.5, 36.6, 13.7, 40.9, 14.3, 10.9, 21.5, 31.0, 1.6, 49.4, 12.0, 20.1, 13.0, 14.0, 6.2]]}, \"columnwidth\": [350, 100, 100, 100, 100, 100, 100], \"header\": {\"align\": [\"left\", \"center\"], \"fill\": {\"color\": \"gray\"}, \"font\": {\"color\": \"white\", \"size\": 12}, \"line\": {\"color\": \"darkslategray\"}, \"values\": [\"Cause of Death\", \"2012\", \"2013\", \"2014\", \"2015\", \"2016\", \"2017\"]}, \"type\": \"table\"}],\n",
       "                        {\"height\": 600, \"template\": {\"data\": {\"bar\": [{\"error_x\": {\"color\": \"#2a3f5f\"}, \"error_y\": {\"color\": \"#2a3f5f\"}, \"marker\": {\"line\": {\"color\": \"#E5ECF6\", \"width\": 0.5}}, \"type\": \"bar\"}], \"barpolar\": [{\"marker\": {\"line\": {\"color\": \"#E5ECF6\", \"width\": 0.5}}, \"type\": \"barpolar\"}], \"carpet\": [{\"aaxis\": {\"endlinecolor\": \"#2a3f5f\", \"gridcolor\": \"white\", \"linecolor\": \"white\", \"minorgridcolor\": \"white\", \"startlinecolor\": \"#2a3f5f\"}, \"baxis\": {\"endlinecolor\": \"#2a3f5f\", \"gridcolor\": \"white\", \"linecolor\": \"white\", \"minorgridcolor\": \"white\", \"startlinecolor\": \"#2a3f5f\"}, \"type\": \"carpet\"}], \"choropleth\": [{\"colorbar\": {\"outlinewidth\": 0, \"ticks\": \"\"}, \"type\": \"choropleth\"}], \"contour\": [{\"colorbar\": {\"outlinewidth\": 0, \"ticks\": \"\"}, \"colorscale\": [[0.0, \"#0d0887\"], [0.1111111111111111, \"#46039f\"], [0.2222222222222222, \"#7201a8\"], [0.3333333333333333, \"#9c179e\"], [0.4444444444444444, \"#bd3786\"], [0.5555555555555556, \"#d8576b\"], [0.6666666666666666, \"#ed7953\"], [0.7777777777777778, \"#fb9f3a\"], [0.8888888888888888, \"#fdca26\"], [1.0, \"#f0f921\"]], \"type\": \"contour\"}], \"contourcarpet\": [{\"colorbar\": {\"outlinewidth\": 0, \"ticks\": \"\"}, \"type\": \"contourcarpet\"}], \"heatmap\": [{\"colorbar\": {\"outlinewidth\": 0, \"ticks\": \"\"}, \"colorscale\": [[0.0, \"#0d0887\"], [0.1111111111111111, \"#46039f\"], [0.2222222222222222, \"#7201a8\"], [0.3333333333333333, \"#9c179e\"], [0.4444444444444444, \"#bd3786\"], [0.5555555555555556, \"#d8576b\"], [0.6666666666666666, \"#ed7953\"], [0.7777777777777778, \"#fb9f3a\"], [0.8888888888888888, \"#fdca26\"], [1.0, \"#f0f921\"]], \"type\": \"heatmap\"}], \"heatmapgl\": [{\"colorbar\": {\"outlinewidth\": 0, \"ticks\": \"\"}, \"colorscale\": [[0.0, \"#0d0887\"], [0.1111111111111111, \"#46039f\"], [0.2222222222222222, \"#7201a8\"], [0.3333333333333333, \"#9c179e\"], [0.4444444444444444, \"#bd3786\"], [0.5555555555555556, \"#d8576b\"], [0.6666666666666666, \"#ed7953\"], [0.7777777777777778, \"#fb9f3a\"], [0.8888888888888888, \"#fdca26\"], [1.0, \"#f0f921\"]], \"type\": \"heatmapgl\"}], \"histogram\": [{\"marker\": {\"colorbar\": {\"outlinewidth\": 0, \"ticks\": \"\"}}, \"type\": \"histogram\"}], \"histogram2d\": [{\"colorbar\": {\"outlinewidth\": 0, \"ticks\": \"\"}, \"colorscale\": [[0.0, \"#0d0887\"], [0.1111111111111111, \"#46039f\"], [0.2222222222222222, \"#7201a8\"], [0.3333333333333333, \"#9c179e\"], [0.4444444444444444, \"#bd3786\"], [0.5555555555555556, \"#d8576b\"], [0.6666666666666666, \"#ed7953\"], [0.7777777777777778, \"#fb9f3a\"], [0.8888888888888888, \"#fdca26\"], [1.0, \"#f0f921\"]], \"type\": \"histogram2d\"}], \"histogram2dcontour\": [{\"colorbar\": {\"outlinewidth\": 0, \"ticks\": \"\"}, \"colorscale\": [[0.0, \"#0d0887\"], [0.1111111111111111, \"#46039f\"], [0.2222222222222222, \"#7201a8\"], [0.3333333333333333, \"#9c179e\"], [0.4444444444444444, \"#bd3786\"], [0.5555555555555556, \"#d8576b\"], [0.6666666666666666, \"#ed7953\"], [0.7777777777777778, \"#fb9f3a\"], [0.8888888888888888, \"#fdca26\"], [1.0, \"#f0f921\"]], \"type\": \"histogram2dcontour\"}], \"mesh3d\": [{\"colorbar\": {\"outlinewidth\": 0, \"ticks\": \"\"}, \"type\": \"mesh3d\"}], \"parcoords\": [{\"line\": {\"colorbar\": {\"outlinewidth\": 0, \"ticks\": \"\"}}, \"type\": \"parcoords\"}], \"pie\": [{\"automargin\": true, \"type\": \"pie\"}], \"scatter\": [{\"marker\": {\"colorbar\": {\"outlinewidth\": 0, \"ticks\": \"\"}}, \"type\": \"scatter\"}], \"scatter3d\": [{\"line\": {\"colorbar\": {\"outlinewidth\": 0, \"ticks\": \"\"}}, \"marker\": {\"colorbar\": {\"outlinewidth\": 0, \"ticks\": \"\"}}, \"type\": \"scatter3d\"}], \"scattercarpet\": [{\"marker\": {\"colorbar\": {\"outlinewidth\": 0, \"ticks\": \"\"}}, \"type\": \"scattercarpet\"}], \"scattergeo\": [{\"marker\": {\"colorbar\": {\"outlinewidth\": 0, \"ticks\": \"\"}}, \"type\": \"scattergeo\"}], \"scattergl\": [{\"marker\": {\"colorbar\": {\"outlinewidth\": 0, \"ticks\": \"\"}}, \"type\": \"scattergl\"}], \"scattermapbox\": [{\"marker\": {\"colorbar\": {\"outlinewidth\": 0, \"ticks\": \"\"}}, \"type\": \"scattermapbox\"}], \"scatterpolar\": [{\"marker\": {\"colorbar\": {\"outlinewidth\": 0, \"ticks\": \"\"}}, \"type\": \"scatterpolar\"}], \"scatterpolargl\": [{\"marker\": {\"colorbar\": {\"outlinewidth\": 0, \"ticks\": \"\"}}, \"type\": \"scatterpolargl\"}], \"scatterternary\": [{\"marker\": {\"colorbar\": {\"outlinewidth\": 0, \"ticks\": \"\"}}, \"type\": \"scatterternary\"}], \"surface\": [{\"colorbar\": {\"outlinewidth\": 0, \"ticks\": \"\"}, \"colorscale\": [[0.0, \"#0d0887\"], [0.1111111111111111, \"#46039f\"], [0.2222222222222222, \"#7201a8\"], [0.3333333333333333, \"#9c179e\"], [0.4444444444444444, \"#bd3786\"], [0.5555555555555556, \"#d8576b\"], [0.6666666666666666, \"#ed7953\"], [0.7777777777777778, \"#fb9f3a\"], [0.8888888888888888, \"#fdca26\"], [1.0, \"#f0f921\"]], \"type\": \"surface\"}], \"table\": [{\"cells\": {\"fill\": {\"color\": \"#EBF0F8\"}, \"line\": {\"color\": \"white\"}}, \"header\": {\"fill\": {\"color\": \"#C8D4E3\"}, \"line\": {\"color\": \"white\"}}, \"type\": \"table\"}]}, \"layout\": {\"annotationdefaults\": {\"arrowcolor\": \"#2a3f5f\", \"arrowhead\": 0, \"arrowwidth\": 1}, \"coloraxis\": {\"colorbar\": {\"outlinewidth\": 0, \"ticks\": \"\"}}, \"colorscale\": {\"diverging\": [[0, \"#8e0152\"], [0.1, \"#c51b7d\"], [0.2, \"#de77ae\"], [0.3, \"#f1b6da\"], [0.4, \"#fde0ef\"], [0.5, \"#f7f7f7\"], [0.6, \"#e6f5d0\"], [0.7, \"#b8e186\"], [0.8, \"#7fbc41\"], [0.9, \"#4d9221\"], [1, \"#276419\"]], \"sequential\": [[0.0, \"#0d0887\"], [0.1111111111111111, \"#46039f\"], [0.2222222222222222, \"#7201a8\"], [0.3333333333333333, \"#9c179e\"], [0.4444444444444444, \"#bd3786\"], [0.5555555555555556, \"#d8576b\"], [0.6666666666666666, \"#ed7953\"], [0.7777777777777778, \"#fb9f3a\"], [0.8888888888888888, \"#fdca26\"], [1.0, \"#f0f921\"]], \"sequentialminus\": [[0.0, \"#0d0887\"], [0.1111111111111111, \"#46039f\"], [0.2222222222222222, \"#7201a8\"], [0.3333333333333333, \"#9c179e\"], [0.4444444444444444, \"#bd3786\"], [0.5555555555555556, \"#d8576b\"], [0.6666666666666666, \"#ed7953\"], [0.7777777777777778, \"#fb9f3a\"], [0.8888888888888888, \"#fdca26\"], [1.0, \"#f0f921\"]]}, \"colorway\": [\"#636efa\", \"#EF553B\", \"#00cc96\", \"#ab63fa\", \"#FFA15A\", \"#19d3f3\", \"#FF6692\", \"#B6E880\", \"#FF97FF\", \"#FECB52\"], \"font\": {\"color\": \"#2a3f5f\"}, \"geo\": {\"bgcolor\": \"white\", \"lakecolor\": \"white\", \"landcolor\": \"#E5ECF6\", \"showlakes\": true, \"showland\": true, \"subunitcolor\": \"white\"}, \"hoverlabel\": {\"align\": \"left\"}, \"hovermode\": \"closest\", \"mapbox\": {\"style\": \"light\"}, \"paper_bgcolor\": \"white\", \"plot_bgcolor\": \"#E5ECF6\", \"polar\": {\"angularaxis\": {\"gridcolor\": \"white\", \"linecolor\": \"white\", \"ticks\": \"\"}, \"bgcolor\": \"#E5ECF6\", \"radialaxis\": {\"gridcolor\": \"white\", \"linecolor\": \"white\", \"ticks\": \"\"}}, \"scene\": {\"xaxis\": {\"backgroundcolor\": \"#E5ECF6\", \"gridcolor\": \"white\", \"gridwidth\": 2, \"linecolor\": \"white\", \"showbackground\": true, \"ticks\": \"\", \"zerolinecolor\": \"white\"}, \"yaxis\": {\"backgroundcolor\": \"#E5ECF6\", \"gridcolor\": \"white\", \"gridwidth\": 2, \"linecolor\": \"white\", \"showbackground\": true, \"ticks\": \"\", \"zerolinecolor\": \"white\"}, \"zaxis\": {\"backgroundcolor\": \"#E5ECF6\", \"gridcolor\": \"white\", \"gridwidth\": 2, \"linecolor\": \"white\", \"showbackground\": true, \"ticks\": \"\", \"zerolinecolor\": \"white\"}}, \"shapedefaults\": {\"line\": {\"color\": \"#2a3f5f\"}}, \"ternary\": {\"aaxis\": {\"gridcolor\": \"white\", \"linecolor\": \"white\", \"ticks\": \"\"}, \"baxis\": {\"gridcolor\": \"white\", \"linecolor\": \"white\", \"ticks\": \"\"}, \"bgcolor\": \"#E5ECF6\", \"caxis\": {\"gridcolor\": \"white\", \"linecolor\": \"white\", \"ticks\": \"\"}}, \"title\": {\"x\": 0.05}, \"xaxis\": {\"automargin\": true, \"gridcolor\": \"white\", \"linecolor\": \"white\", \"ticks\": \"\", \"title\": {\"standoff\": 15}, \"zerolinecolor\": \"white\", \"zerolinewidth\": 2}, \"yaxis\": {\"automargin\": true, \"gridcolor\": \"white\", \"linecolor\": \"white\", \"ticks\": \"\", \"title\": {\"standoff\": 15}, \"zerolinecolor\": \"white\", \"zerolinewidth\": 2}}}, \"title\": {\"text\": \"Age-adjusted death rates for selected causes of death: United States, years 2012\\u20132017\"}, \"width\": 1000},\n",
       "                        {\"responsive\": true}\n",
       "                    ).then(function(){\n",
       "                            \n",
       "var gd = document.getElementById('8fa8bba7-44f4-404e-a9bd-6d921c511d2b');\n",
       "var x = new MutationObserver(function (mutations, observer) {{\n",
       "        var display = window.getComputedStyle(gd).display;\n",
       "        if (!display || display === 'none') {{\n",
       "            console.log([gd, 'removed!']);\n",
       "            Plotly.purge(gd);\n",
       "            observer.disconnect();\n",
       "        }}\n",
       "}});\n",
       "\n",
       "// Listen for the removal of the full notebook cells\n",
       "var notebookContainer = gd.closest('#notebook-container');\n",
       "if (notebookContainer) {{\n",
       "    x.observe(notebookContainer, {childList: true});\n",
       "}}\n",
       "\n",
       "// Listen for the clearing of the current output cell\n",
       "var outputEl = gd.closest('.output');\n",
       "if (outputEl) {{\n",
       "    x.observe(outputEl, {childList: true});\n",
       "}}\n",
       "\n",
       "                        })\n",
       "                };\n",
       "                });\n",
       "            </script>\n",
       "        </div>"
      ]
     },
     "metadata": {},
     "output_type": "display_data"
    }
   ],
   "source": [
    "healthFig = go.Figure(data=[go.Table(\n",
    "    columnwidth= [350, 100,100,100,100,100,100],\n",
    "    header=dict(values=list(healthUS.columns),\n",
    "                line_color='darkslategray',\n",
    "                fill_color='gray',\n",
    "                align=['left', 'center'], \n",
    "                font=dict(color='white', size=12)),\n",
    "    cells=dict(values=[healthUS['Cause of Death'], healthUS['2012'], healthUS['2013'],\n",
    "               healthUS['2014'], healthUS['2015'], healthUS['2016'], healthUS['2017']],\n",
    "               line_color='darkslategray',\n",
    "               fill_color='white',\n",
    "               align=['left','right']))\n",
    "])\n",
    "\n",
    "healthFig.update_layout(\n",
    "    title = 'Age-adjusted death rates for selected causes of death: United States, years 2012–2017',\n",
    "    width=1000, height=600)\n",
    "\n",
    "healthFig.show()\n",
    "\n"
   ]
  },
  {
   "cell_type": "code",
   "execution_count": 120,
   "metadata": {},
   "outputs": [],
   "source": [
    "healthFig.write_image(\"Presentation/healthUS.jpg\")"
   ]
  },
  {
   "cell_type": "code",
   "execution_count": 128,
   "metadata": {
    "scrolled": true
   },
   "outputs": [
    {
     "data": {
      "text/html": [
       "<div>\n",
       "<style scoped>\n",
       "    .dataframe tbody tr th:only-of-type {\n",
       "        vertical-align: middle;\n",
       "    }\n",
       "\n",
       "    .dataframe tbody tr th {\n",
       "        vertical-align: top;\n",
       "    }\n",
       "\n",
       "    .dataframe thead th {\n",
       "        text-align: right;\n",
       "    }\n",
       "</style>\n",
       "<table border=\"1\" class=\"dataframe\">\n",
       "  <thead>\n",
       "    <tr style=\"text-align: right;\">\n",
       "      <th></th>\n",
       "      <th>Cause of Death</th>\n",
       "      <th>2012</th>\n",
       "      <th>2013</th>\n",
       "      <th>2014</th>\n",
       "      <th>2015</th>\n",
       "      <th>2016</th>\n",
       "      <th>2017</th>\n",
       "    </tr>\n",
       "  </thead>\n",
       "  <tbody>\n",
       "    <tr>\n",
       "      <th>0</th>\n",
       "      <td>Diseases of heart</td>\n",
       "      <td>170.5</td>\n",
       "      <td>169.8</td>\n",
       "      <td>167.0</td>\n",
       "      <td>168.5</td>\n",
       "      <td>165.5</td>\n",
       "      <td>165.0</td>\n",
       "    </tr>\n",
       "    <tr>\n",
       "      <th>1</th>\n",
       "      <td>Ischemic heart disease</td>\n",
       "      <td>105.4</td>\n",
       "      <td>102.6</td>\n",
       "      <td>98.8</td>\n",
       "      <td>97.2</td>\n",
       "      <td>94.3</td>\n",
       "      <td>92.9</td>\n",
       "    </tr>\n",
       "    <tr>\n",
       "      <th>2</th>\n",
       "      <td>Cerebrovascular diseases</td>\n",
       "      <td>36.9</td>\n",
       "      <td>36.2</td>\n",
       "      <td>36.5</td>\n",
       "      <td>37.6</td>\n",
       "      <td>37.3</td>\n",
       "      <td>37.6</td>\n",
       "    </tr>\n",
       "    <tr>\n",
       "      <th>3</th>\n",
       "      <td>Malignant neoplasms</td>\n",
       "      <td>166.5</td>\n",
       "      <td>163.2</td>\n",
       "      <td>161.2</td>\n",
       "      <td>158.5</td>\n",
       "      <td>155.8</td>\n",
       "      <td>152.5</td>\n",
       "    </tr>\n",
       "    <tr>\n",
       "      <th>4</th>\n",
       "      <td>Trachea, bronchus, and lung</td>\n",
       "      <td>44.9</td>\n",
       "      <td>43.4</td>\n",
       "      <td>42.1</td>\n",
       "      <td>40.5</td>\n",
       "      <td>38.4</td>\n",
       "      <td>36.6</td>\n",
       "    </tr>\n",
       "    <tr>\n",
       "      <th>5</th>\n",
       "      <td>Colon, rectum, and anus</td>\n",
       "      <td>14.9</td>\n",
       "      <td>14.6</td>\n",
       "      <td>14.3</td>\n",
       "      <td>14.2</td>\n",
       "      <td>13.9</td>\n",
       "      <td>13.7</td>\n",
       "    </tr>\n",
       "    <tr>\n",
       "      <th>6</th>\n",
       "      <td>Chronic lower respiratory diseases</td>\n",
       "      <td>41.5</td>\n",
       "      <td>42.1</td>\n",
       "      <td>40.5</td>\n",
       "      <td>41.6</td>\n",
       "      <td>40.6</td>\n",
       "      <td>40.9</td>\n",
       "    </tr>\n",
       "    <tr>\n",
       "      <th>7</th>\n",
       "      <td>Influenza and pneumonia</td>\n",
       "      <td>14.4</td>\n",
       "      <td>15.9</td>\n",
       "      <td>15.1</td>\n",
       "      <td>15.2</td>\n",
       "      <td>13.5</td>\n",
       "      <td>14.3</td>\n",
       "    </tr>\n",
       "    <tr>\n",
       "      <th>8</th>\n",
       "      <td>Chronic liver disease and cirrhosis</td>\n",
       "      <td>9.9</td>\n",
       "      <td>10.2</td>\n",
       "      <td>10.4</td>\n",
       "      <td>10.8</td>\n",
       "      <td>10.7</td>\n",
       "      <td>10.9</td>\n",
       "    </tr>\n",
       "    <tr>\n",
       "      <th>9</th>\n",
       "      <td>Diabetes mellitus</td>\n",
       "      <td>21.2</td>\n",
       "      <td>21.2</td>\n",
       "      <td>20.9</td>\n",
       "      <td>21.3</td>\n",
       "      <td>21.0</td>\n",
       "      <td>21.5</td>\n",
       "    </tr>\n",
       "    <tr>\n",
       "      <th>10</th>\n",
       "      <td>Alzheimer's disease</td>\n",
       "      <td>23.8</td>\n",
       "      <td>23.5</td>\n",
       "      <td>25.4</td>\n",
       "      <td>29.4</td>\n",
       "      <td>30.3</td>\n",
       "      <td>31.0</td>\n",
       "    </tr>\n",
       "    <tr>\n",
       "      <th>11</th>\n",
       "      <td>Human immunodeficiency virus (HIV) disease</td>\n",
       "      <td>2.2</td>\n",
       "      <td>2.1</td>\n",
       "      <td>2.0</td>\n",
       "      <td>1.9</td>\n",
       "      <td>1.8</td>\n",
       "      <td>1.6</td>\n",
       "    </tr>\n",
       "    <tr>\n",
       "      <th>12</th>\n",
       "      <td>Unintentional injuries</td>\n",
       "      <td>39.1</td>\n",
       "      <td>39.4</td>\n",
       "      <td>40.5</td>\n",
       "      <td>43.2</td>\n",
       "      <td>47.4</td>\n",
       "      <td>49.4</td>\n",
       "    </tr>\n",
       "    <tr>\n",
       "      <th>13</th>\n",
       "      <td>Motor vehicle-related injuries</td>\n",
       "      <td>11.4</td>\n",
       "      <td>10.9</td>\n",
       "      <td>10.8</td>\n",
       "      <td>11.4</td>\n",
       "      <td>12.1</td>\n",
       "      <td>12.0</td>\n",
       "    </tr>\n",
       "    <tr>\n",
       "      <th>14</th>\n",
       "      <td>Poisoning</td>\n",
       "      <td>11.5</td>\n",
       "      <td>12.2</td>\n",
       "      <td>13.1</td>\n",
       "      <td>14.8</td>\n",
       "      <td>18.2</td>\n",
       "      <td>20.1</td>\n",
       "    </tr>\n",
       "    <tr>\n",
       "      <th>15</th>\n",
       "      <td>Nephritis, nephrotic syndrome and nephrosis</td>\n",
       "      <td>13.1</td>\n",
       "      <td>13.2</td>\n",
       "      <td>13.2</td>\n",
       "      <td>13.4</td>\n",
       "      <td>13.1</td>\n",
       "      <td>13.0</td>\n",
       "    </tr>\n",
       "    <tr>\n",
       "      <th>16</th>\n",
       "      <td>Suicide</td>\n",
       "      <td>12.6</td>\n",
       "      <td>12.6</td>\n",
       "      <td>13.0</td>\n",
       "      <td>13.3</td>\n",
       "      <td>13.5</td>\n",
       "      <td>14.0</td>\n",
       "    </tr>\n",
       "    <tr>\n",
       "      <th>17</th>\n",
       "      <td>Homicide</td>\n",
       "      <td>5.4</td>\n",
       "      <td>5.2</td>\n",
       "      <td>5.1</td>\n",
       "      <td>5.7</td>\n",
       "      <td>6.2</td>\n",
       "      <td>6.2</td>\n",
       "    </tr>\n",
       "  </tbody>\n",
       "</table>\n",
       "</div>"
      ],
      "text/plain": [
       "                                 Cause of Death   2012   2013   2014   2015  \\\n",
       "0                             Diseases of heart  170.5  169.8  167.0  168.5   \n",
       "1                        Ischemic heart disease  105.4  102.6   98.8   97.2   \n",
       "2                      Cerebrovascular diseases   36.9   36.2   36.5   37.6   \n",
       "3                           Malignant neoplasms  166.5  163.2  161.2  158.5   \n",
       "4                   Trachea, bronchus, and lung   44.9   43.4   42.1   40.5   \n",
       "5                       Colon, rectum, and anus   14.9   14.6   14.3   14.2   \n",
       "6            Chronic lower respiratory diseases   41.5   42.1   40.5   41.6   \n",
       "7                       Influenza and pneumonia   14.4   15.9   15.1   15.2   \n",
       "8           Chronic liver disease and cirrhosis    9.9   10.2   10.4   10.8   \n",
       "9                             Diabetes mellitus   21.2   21.2   20.9   21.3   \n",
       "10                          Alzheimer's disease   23.8   23.5   25.4   29.4   \n",
       "11   Human immunodeficiency virus (HIV) disease    2.2    2.1    2.0    1.9   \n",
       "12                       Unintentional injuries   39.1   39.4   40.5   43.2   \n",
       "13               Motor vehicle-related injuries   11.4   10.9   10.8   11.4   \n",
       "14                                    Poisoning   11.5   12.2   13.1   14.8   \n",
       "15  Nephritis, nephrotic syndrome and nephrosis   13.1   13.2   13.2   13.4   \n",
       "16                                      Suicide   12.6   12.6   13.0   13.3   \n",
       "17                                     Homicide    5.4    5.2    5.1    5.7   \n",
       "\n",
       "     2016   2017  \n",
       "0   165.5  165.0  \n",
       "1    94.3   92.9  \n",
       "2    37.3   37.6  \n",
       "3   155.8  152.5  \n",
       "4    38.4   36.6  \n",
       "5    13.9   13.7  \n",
       "6    40.6   40.9  \n",
       "7    13.5   14.3  \n",
       "8    10.7   10.9  \n",
       "9    21.0   21.5  \n",
       "10   30.3   31.0  \n",
       "11    1.8    1.6  \n",
       "12   47.4   49.4  \n",
       "13   12.1   12.0  \n",
       "14   18.2   20.1  \n",
       "15   13.1   13.0  \n",
       "16   13.5   14.0  \n",
       "17    6.2    6.2  "
      ]
     },
     "execution_count": 128,
     "metadata": {},
     "output_type": "execute_result"
    }
   ],
   "source": [
    "healthUScsv"
   ]
  },
  {
   "cell_type": "markdown",
   "metadata": {},
   "source": [
    "## Health US: Line Graph"
   ]
  },
  {
   "cell_type": "code",
   "execution_count": 159,
   "metadata": {},
   "outputs": [],
   "source": [
    "health_dict = healthUScsv.set_index('Cause of Death').T.to_dict('list')"
   ]
  },
  {
   "cell_type": "code",
   "execution_count": 160,
   "metadata": {},
   "outputs": [
    {
     "data": {
      "text/plain": [
       "{'Diseases of heart': [170.5, 169.8, 167.0, 168.5, 165.5, 165.0],\n",
       " 'Ischemic heart disease': [105.4, 102.6, 98.8, 97.2, 94.3, 92.9],\n",
       " 'Cerebrovascular diseases': [36.9, 36.2, 36.5, 37.6, 37.3, 37.6],\n",
       " 'Malignant neoplasms': [166.5, 163.2, 161.2, 158.5, 155.8, 152.5],\n",
       " 'Trachea, bronchus, and lung': [44.9, 43.4, 42.1, 40.5, 38.4, 36.6],\n",
       " 'Colon, rectum, and anus': [14.9, 14.6, 14.3, 14.2, 13.9, 13.7],\n",
       " 'Chronic lower respiratory diseases': [41.5, 42.1, 40.5, 41.6, 40.6, 40.9],\n",
       " 'Influenza and pneumonia': [14.4, 15.9, 15.1, 15.2, 13.5, 14.3],\n",
       " 'Chronic liver disease and cirrhosis': [9.9, 10.2, 10.4, 10.8, 10.7, 10.9],\n",
       " 'Diabetes mellitus': [21.2, 21.2, 20.9, 21.3, 21.0, 21.5],\n",
       " \"Alzheimer's disease\": [23.8, 23.5, 25.4, 29.4, 30.3, 31.0],\n",
       " 'Human immunodeficiency virus (HIV) disease': [2.2, 2.1, 2.0, 1.9, 1.8, 1.6],\n",
       " 'Unintentional injuries': [39.1, 39.4, 40.5, 43.2, 47.4, 49.4],\n",
       " 'Motor vehicle-related injuries': [11.4, 10.9, 10.8, 11.4, 12.1, 12.0],\n",
       " 'Poisoning': [11.5, 12.2, 13.1, 14.8, 18.2, 20.1],\n",
       " 'Nephritis, nephrotic syndrome and nephrosis': [13.1,\n",
       "  13.2,\n",
       "  13.2,\n",
       "  13.4,\n",
       "  13.1,\n",
       "  13.0],\n",
       " 'Suicide': [12.6, 12.6, 13.0, 13.3, 13.5, 14.0],\n",
       " 'Homicide': [5.4, 5.2, 5.1, 5.7, 6.2, 6.2]}"
      ]
     },
     "execution_count": 160,
     "metadata": {},
     "output_type": "execute_result"
    }
   ],
   "source": [
    "health_dict"
   ]
  },
  {
   "cell_type": "code",
   "execution_count": 190,
   "metadata": {},
   "outputs": [],
   "source": [
    "healthDf = pd.DataFrame(health_dict)"
   ]
  },
  {
   "cell_type": "code",
   "execution_count": 191,
   "metadata": {
    "scrolled": true
   },
   "outputs": [
    {
     "data": {
      "text/html": [
       "<div>\n",
       "<style scoped>\n",
       "    .dataframe tbody tr th:only-of-type {\n",
       "        vertical-align: middle;\n",
       "    }\n",
       "\n",
       "    .dataframe tbody tr th {\n",
       "        vertical-align: top;\n",
       "    }\n",
       "\n",
       "    .dataframe thead th {\n",
       "        text-align: right;\n",
       "    }\n",
       "</style>\n",
       "<table border=\"1\" class=\"dataframe\">\n",
       "  <thead>\n",
       "    <tr style=\"text-align: right;\">\n",
       "      <th></th>\n",
       "      <th>Diseases of heart</th>\n",
       "      <th>Ischemic heart disease</th>\n",
       "      <th>Cerebrovascular diseases</th>\n",
       "      <th>Malignant neoplasms</th>\n",
       "      <th>Trachea, bronchus, and lung</th>\n",
       "      <th>Colon, rectum, and anus</th>\n",
       "      <th>Chronic lower respiratory diseases</th>\n",
       "      <th>Influenza and pneumonia</th>\n",
       "      <th>Chronic liver disease and cirrhosis</th>\n",
       "      <th>Diabetes mellitus</th>\n",
       "      <th>Alzheimer's disease</th>\n",
       "      <th>Human immunodeficiency virus (HIV) disease</th>\n",
       "      <th>Unintentional injuries</th>\n",
       "      <th>Motor vehicle-related injuries</th>\n",
       "      <th>Poisoning</th>\n",
       "      <th>Nephritis, nephrotic syndrome and nephrosis</th>\n",
       "      <th>Suicide</th>\n",
       "      <th>Homicide</th>\n",
       "    </tr>\n",
       "  </thead>\n",
       "  <tbody>\n",
       "    <tr>\n",
       "      <th>0</th>\n",
       "      <td>170.5</td>\n",
       "      <td>105.4</td>\n",
       "      <td>36.9</td>\n",
       "      <td>166.5</td>\n",
       "      <td>44.9</td>\n",
       "      <td>14.9</td>\n",
       "      <td>41.5</td>\n",
       "      <td>14.4</td>\n",
       "      <td>9.9</td>\n",
       "      <td>21.2</td>\n",
       "      <td>23.8</td>\n",
       "      <td>2.2</td>\n",
       "      <td>39.1</td>\n",
       "      <td>11.4</td>\n",
       "      <td>11.5</td>\n",
       "      <td>13.1</td>\n",
       "      <td>12.6</td>\n",
       "      <td>5.4</td>\n",
       "    </tr>\n",
       "    <tr>\n",
       "      <th>1</th>\n",
       "      <td>169.8</td>\n",
       "      <td>102.6</td>\n",
       "      <td>36.2</td>\n",
       "      <td>163.2</td>\n",
       "      <td>43.4</td>\n",
       "      <td>14.6</td>\n",
       "      <td>42.1</td>\n",
       "      <td>15.9</td>\n",
       "      <td>10.2</td>\n",
       "      <td>21.2</td>\n",
       "      <td>23.5</td>\n",
       "      <td>2.1</td>\n",
       "      <td>39.4</td>\n",
       "      <td>10.9</td>\n",
       "      <td>12.2</td>\n",
       "      <td>13.2</td>\n",
       "      <td>12.6</td>\n",
       "      <td>5.2</td>\n",
       "    </tr>\n",
       "    <tr>\n",
       "      <th>2</th>\n",
       "      <td>167.0</td>\n",
       "      <td>98.8</td>\n",
       "      <td>36.5</td>\n",
       "      <td>161.2</td>\n",
       "      <td>42.1</td>\n",
       "      <td>14.3</td>\n",
       "      <td>40.5</td>\n",
       "      <td>15.1</td>\n",
       "      <td>10.4</td>\n",
       "      <td>20.9</td>\n",
       "      <td>25.4</td>\n",
       "      <td>2.0</td>\n",
       "      <td>40.5</td>\n",
       "      <td>10.8</td>\n",
       "      <td>13.1</td>\n",
       "      <td>13.2</td>\n",
       "      <td>13.0</td>\n",
       "      <td>5.1</td>\n",
       "    </tr>\n",
       "    <tr>\n",
       "      <th>3</th>\n",
       "      <td>168.5</td>\n",
       "      <td>97.2</td>\n",
       "      <td>37.6</td>\n",
       "      <td>158.5</td>\n",
       "      <td>40.5</td>\n",
       "      <td>14.2</td>\n",
       "      <td>41.6</td>\n",
       "      <td>15.2</td>\n",
       "      <td>10.8</td>\n",
       "      <td>21.3</td>\n",
       "      <td>29.4</td>\n",
       "      <td>1.9</td>\n",
       "      <td>43.2</td>\n",
       "      <td>11.4</td>\n",
       "      <td>14.8</td>\n",
       "      <td>13.4</td>\n",
       "      <td>13.3</td>\n",
       "      <td>5.7</td>\n",
       "    </tr>\n",
       "    <tr>\n",
       "      <th>4</th>\n",
       "      <td>165.5</td>\n",
       "      <td>94.3</td>\n",
       "      <td>37.3</td>\n",
       "      <td>155.8</td>\n",
       "      <td>38.4</td>\n",
       "      <td>13.9</td>\n",
       "      <td>40.6</td>\n",
       "      <td>13.5</td>\n",
       "      <td>10.7</td>\n",
       "      <td>21.0</td>\n",
       "      <td>30.3</td>\n",
       "      <td>1.8</td>\n",
       "      <td>47.4</td>\n",
       "      <td>12.1</td>\n",
       "      <td>18.2</td>\n",
       "      <td>13.1</td>\n",
       "      <td>13.5</td>\n",
       "      <td>6.2</td>\n",
       "    </tr>\n",
       "    <tr>\n",
       "      <th>5</th>\n",
       "      <td>165.0</td>\n",
       "      <td>92.9</td>\n",
       "      <td>37.6</td>\n",
       "      <td>152.5</td>\n",
       "      <td>36.6</td>\n",
       "      <td>13.7</td>\n",
       "      <td>40.9</td>\n",
       "      <td>14.3</td>\n",
       "      <td>10.9</td>\n",
       "      <td>21.5</td>\n",
       "      <td>31.0</td>\n",
       "      <td>1.6</td>\n",
       "      <td>49.4</td>\n",
       "      <td>12.0</td>\n",
       "      <td>20.1</td>\n",
       "      <td>13.0</td>\n",
       "      <td>14.0</td>\n",
       "      <td>6.2</td>\n",
       "    </tr>\n",
       "  </tbody>\n",
       "</table>\n",
       "</div>"
      ],
      "text/plain": [
       "   Diseases of heart  Ischemic heart disease  Cerebrovascular diseases  \\\n",
       "0              170.5                   105.4                      36.9   \n",
       "1              169.8                   102.6                      36.2   \n",
       "2              167.0                    98.8                      36.5   \n",
       "3              168.5                    97.2                      37.6   \n",
       "4              165.5                    94.3                      37.3   \n",
       "5              165.0                    92.9                      37.6   \n",
       "\n",
       "   Malignant neoplasms  Trachea, bronchus, and lung  Colon, rectum, and anus  \\\n",
       "0                166.5                         44.9                     14.9   \n",
       "1                163.2                         43.4                     14.6   \n",
       "2                161.2                         42.1                     14.3   \n",
       "3                158.5                         40.5                     14.2   \n",
       "4                155.8                         38.4                     13.9   \n",
       "5                152.5                         36.6                     13.7   \n",
       "\n",
       "   Chronic lower respiratory diseases  Influenza and pneumonia  \\\n",
       "0                                41.5                     14.4   \n",
       "1                                42.1                     15.9   \n",
       "2                                40.5                     15.1   \n",
       "3                                41.6                     15.2   \n",
       "4                                40.6                     13.5   \n",
       "5                                40.9                     14.3   \n",
       "\n",
       "   Chronic liver disease and cirrhosis  Diabetes mellitus  \\\n",
       "0                                  9.9               21.2   \n",
       "1                                 10.2               21.2   \n",
       "2                                 10.4               20.9   \n",
       "3                                 10.8               21.3   \n",
       "4                                 10.7               21.0   \n",
       "5                                 10.9               21.5   \n",
       "\n",
       "   Alzheimer's disease  Human immunodeficiency virus (HIV) disease  \\\n",
       "0                 23.8                                         2.2   \n",
       "1                 23.5                                         2.1   \n",
       "2                 25.4                                         2.0   \n",
       "3                 29.4                                         1.9   \n",
       "4                 30.3                                         1.8   \n",
       "5                 31.0                                         1.6   \n",
       "\n",
       "   Unintentional injuries  Motor vehicle-related injuries  Poisoning  \\\n",
       "0                    39.1                            11.4       11.5   \n",
       "1                    39.4                            10.9       12.2   \n",
       "2                    40.5                            10.8       13.1   \n",
       "3                    43.2                            11.4       14.8   \n",
       "4                    47.4                            12.1       18.2   \n",
       "5                    49.4                            12.0       20.1   \n",
       "\n",
       "   Nephritis, nephrotic syndrome and nephrosis  Suicide  Homicide  \n",
       "0                                         13.1     12.6       5.4  \n",
       "1                                         13.2     12.6       5.2  \n",
       "2                                         13.2     13.0       5.1  \n",
       "3                                         13.4     13.3       5.7  \n",
       "4                                         13.1     13.5       6.2  \n",
       "5                                         13.0     14.0       6.2  "
      ]
     },
     "execution_count": 191,
     "metadata": {},
     "output_type": "execute_result"
    }
   ],
   "source": [
    "# d = {k: dict(map(str.strip, x.split(':')) for x in v) for k, v in health_dict.items()}\n",
    "\n",
    "# healthDf = pd.DataFrame.from_dict(d, orient='index')\n",
    "\n",
    "healthDf"
   ]
  },
  {
   "cell_type": "code",
   "execution_count": 192,
   "metadata": {},
   "outputs": [],
   "source": [
    "healthDf.insert(0, 'Years', 1)"
   ]
  },
  {
   "cell_type": "code",
   "execution_count": 215,
   "metadata": {},
   "outputs": [],
   "source": [
    "healthDf['Years'] = yrs"
   ]
  },
  {
   "cell_type": "code",
   "execution_count": 216,
   "metadata": {
    "scrolled": true
   },
   "outputs": [
    {
     "data": {
      "text/html": [
       "<div>\n",
       "<style scoped>\n",
       "    .dataframe tbody tr th:only-of-type {\n",
       "        vertical-align: middle;\n",
       "    }\n",
       "\n",
       "    .dataframe tbody tr th {\n",
       "        vertical-align: top;\n",
       "    }\n",
       "\n",
       "    .dataframe thead th {\n",
       "        text-align: right;\n",
       "    }\n",
       "</style>\n",
       "<table border=\"1\" class=\"dataframe\">\n",
       "  <thead>\n",
       "    <tr style=\"text-align: right;\">\n",
       "      <th></th>\n",
       "      <th>Years</th>\n",
       "      <th>Diseases of heart</th>\n",
       "      <th>Ischemic heart disease</th>\n",
       "      <th>Cerebrovascular diseases</th>\n",
       "      <th>Malignant neoplasms</th>\n",
       "      <th>Trachea, bronchus, and lung</th>\n",
       "      <th>Colon, rectum, and anus</th>\n",
       "      <th>Chronic lower respiratory diseases</th>\n",
       "      <th>Influenza and pneumonia</th>\n",
       "      <th>Chronic liver disease and cirrhosis</th>\n",
       "      <th>Diabetes mellitus</th>\n",
       "      <th>Alzheimer's disease</th>\n",
       "      <th>Human immunodeficiency virus (HIV) disease</th>\n",
       "      <th>Unintentional injuries</th>\n",
       "      <th>Motor vehicle-related injuries</th>\n",
       "      <th>Poisoning</th>\n",
       "      <th>Nephritis, nephrotic syndrome and nephrosis</th>\n",
       "      <th>Suicide</th>\n",
       "      <th>Homicide</th>\n",
       "    </tr>\n",
       "  </thead>\n",
       "  <tbody>\n",
       "    <tr>\n",
       "      <th>0</th>\n",
       "      <td>2012</td>\n",
       "      <td>170.5</td>\n",
       "      <td>105.4</td>\n",
       "      <td>36.9</td>\n",
       "      <td>166.5</td>\n",
       "      <td>44.9</td>\n",
       "      <td>14.9</td>\n",
       "      <td>41.5</td>\n",
       "      <td>14.4</td>\n",
       "      <td>9.9</td>\n",
       "      <td>21.2</td>\n",
       "      <td>23.8</td>\n",
       "      <td>2.2</td>\n",
       "      <td>39.1</td>\n",
       "      <td>11.4</td>\n",
       "      <td>11.5</td>\n",
       "      <td>13.1</td>\n",
       "      <td>12.6</td>\n",
       "      <td>5.4</td>\n",
       "    </tr>\n",
       "    <tr>\n",
       "      <th>1</th>\n",
       "      <td>2013</td>\n",
       "      <td>169.8</td>\n",
       "      <td>102.6</td>\n",
       "      <td>36.2</td>\n",
       "      <td>163.2</td>\n",
       "      <td>43.4</td>\n",
       "      <td>14.6</td>\n",
       "      <td>42.1</td>\n",
       "      <td>15.9</td>\n",
       "      <td>10.2</td>\n",
       "      <td>21.2</td>\n",
       "      <td>23.5</td>\n",
       "      <td>2.1</td>\n",
       "      <td>39.4</td>\n",
       "      <td>10.9</td>\n",
       "      <td>12.2</td>\n",
       "      <td>13.2</td>\n",
       "      <td>12.6</td>\n",
       "      <td>5.2</td>\n",
       "    </tr>\n",
       "    <tr>\n",
       "      <th>2</th>\n",
       "      <td>2014</td>\n",
       "      <td>167.0</td>\n",
       "      <td>98.8</td>\n",
       "      <td>36.5</td>\n",
       "      <td>161.2</td>\n",
       "      <td>42.1</td>\n",
       "      <td>14.3</td>\n",
       "      <td>40.5</td>\n",
       "      <td>15.1</td>\n",
       "      <td>10.4</td>\n",
       "      <td>20.9</td>\n",
       "      <td>25.4</td>\n",
       "      <td>2.0</td>\n",
       "      <td>40.5</td>\n",
       "      <td>10.8</td>\n",
       "      <td>13.1</td>\n",
       "      <td>13.2</td>\n",
       "      <td>13.0</td>\n",
       "      <td>5.1</td>\n",
       "    </tr>\n",
       "    <tr>\n",
       "      <th>3</th>\n",
       "      <td>2015</td>\n",
       "      <td>168.5</td>\n",
       "      <td>97.2</td>\n",
       "      <td>37.6</td>\n",
       "      <td>158.5</td>\n",
       "      <td>40.5</td>\n",
       "      <td>14.2</td>\n",
       "      <td>41.6</td>\n",
       "      <td>15.2</td>\n",
       "      <td>10.8</td>\n",
       "      <td>21.3</td>\n",
       "      <td>29.4</td>\n",
       "      <td>1.9</td>\n",
       "      <td>43.2</td>\n",
       "      <td>11.4</td>\n",
       "      <td>14.8</td>\n",
       "      <td>13.4</td>\n",
       "      <td>13.3</td>\n",
       "      <td>5.7</td>\n",
       "    </tr>\n",
       "    <tr>\n",
       "      <th>4</th>\n",
       "      <td>2016</td>\n",
       "      <td>165.5</td>\n",
       "      <td>94.3</td>\n",
       "      <td>37.3</td>\n",
       "      <td>155.8</td>\n",
       "      <td>38.4</td>\n",
       "      <td>13.9</td>\n",
       "      <td>40.6</td>\n",
       "      <td>13.5</td>\n",
       "      <td>10.7</td>\n",
       "      <td>21.0</td>\n",
       "      <td>30.3</td>\n",
       "      <td>1.8</td>\n",
       "      <td>47.4</td>\n",
       "      <td>12.1</td>\n",
       "      <td>18.2</td>\n",
       "      <td>13.1</td>\n",
       "      <td>13.5</td>\n",
       "      <td>6.2</td>\n",
       "    </tr>\n",
       "    <tr>\n",
       "      <th>5</th>\n",
       "      <td>2017</td>\n",
       "      <td>165.0</td>\n",
       "      <td>92.9</td>\n",
       "      <td>37.6</td>\n",
       "      <td>152.5</td>\n",
       "      <td>36.6</td>\n",
       "      <td>13.7</td>\n",
       "      <td>40.9</td>\n",
       "      <td>14.3</td>\n",
       "      <td>10.9</td>\n",
       "      <td>21.5</td>\n",
       "      <td>31.0</td>\n",
       "      <td>1.6</td>\n",
       "      <td>49.4</td>\n",
       "      <td>12.0</td>\n",
       "      <td>20.1</td>\n",
       "      <td>13.0</td>\n",
       "      <td>14.0</td>\n",
       "      <td>6.2</td>\n",
       "    </tr>\n",
       "  </tbody>\n",
       "</table>\n",
       "</div>"
      ],
      "text/plain": [
       "  Years  Diseases of heart  Ischemic heart disease  Cerebrovascular diseases  \\\n",
       "0  2012              170.5                   105.4                      36.9   \n",
       "1  2013              169.8                   102.6                      36.2   \n",
       "2  2014              167.0                    98.8                      36.5   \n",
       "3  2015              168.5                    97.2                      37.6   \n",
       "4  2016              165.5                    94.3                      37.3   \n",
       "5  2017              165.0                    92.9                      37.6   \n",
       "\n",
       "   Malignant neoplasms  Trachea, bronchus, and lung  Colon, rectum, and anus  \\\n",
       "0                166.5                         44.9                     14.9   \n",
       "1                163.2                         43.4                     14.6   \n",
       "2                161.2                         42.1                     14.3   \n",
       "3                158.5                         40.5                     14.2   \n",
       "4                155.8                         38.4                     13.9   \n",
       "5                152.5                         36.6                     13.7   \n",
       "\n",
       "   Chronic lower respiratory diseases  Influenza and pneumonia  \\\n",
       "0                                41.5                     14.4   \n",
       "1                                42.1                     15.9   \n",
       "2                                40.5                     15.1   \n",
       "3                                41.6                     15.2   \n",
       "4                                40.6                     13.5   \n",
       "5                                40.9                     14.3   \n",
       "\n",
       "   Chronic liver disease and cirrhosis  Diabetes mellitus  \\\n",
       "0                                  9.9               21.2   \n",
       "1                                 10.2               21.2   \n",
       "2                                 10.4               20.9   \n",
       "3                                 10.8               21.3   \n",
       "4                                 10.7               21.0   \n",
       "5                                 10.9               21.5   \n",
       "\n",
       "   Alzheimer's disease  Human immunodeficiency virus (HIV) disease  \\\n",
       "0                 23.8                                         2.2   \n",
       "1                 23.5                                         2.1   \n",
       "2                 25.4                                         2.0   \n",
       "3                 29.4                                         1.9   \n",
       "4                 30.3                                         1.8   \n",
       "5                 31.0                                         1.6   \n",
       "\n",
       "   Unintentional injuries  Motor vehicle-related injuries  Poisoning  \\\n",
       "0                    39.1                            11.4       11.5   \n",
       "1                    39.4                            10.9       12.2   \n",
       "2                    40.5                            10.8       13.1   \n",
       "3                    43.2                            11.4       14.8   \n",
       "4                    47.4                            12.1       18.2   \n",
       "5                    49.4                            12.0       20.1   \n",
       "\n",
       "   Nephritis, nephrotic syndrome and nephrosis  Suicide  Homicide  \n",
       "0                                         13.1     12.6       5.4  \n",
       "1                                         13.2     12.6       5.2  \n",
       "2                                         13.2     13.0       5.1  \n",
       "3                                         13.4     13.3       5.7  \n",
       "4                                         13.1     13.5       6.2  \n",
       "5                                         13.0     14.0       6.2  "
      ]
     },
     "execution_count": 216,
     "metadata": {},
     "output_type": "execute_result"
    }
   ],
   "source": [
    "healthDf"
   ]
  },
  {
   "cell_type": "code",
   "execution_count": 225,
   "metadata": {},
   "outputs": [],
   "source": [
    "cause = healthDf.columns[1:]\n",
    "cause = ['Diseases of heart', 'Ischemic heart disease',\n",
    "       'Malignant neoplasms','Trachea, bronchus, and lung', 'Colon, rectum, and anus',\n",
    "       'Influenza and pneumonia','Unintentional injuries', \n",
    "        'Motor vehicle-related injuries', 'Poisoning', \n",
    "         'Suicide']"
   ]
  },
  {
   "cell_type": "code",
   "execution_count": 157,
   "metadata": {},
   "outputs": [],
   "source": [
    "Years = {'2012', '2013', '2014', '2015', '2016', '2017'}\n",
    "\n",
    "yrs = pd.DataFrame(data=Years)\n",
    "yrs"
   ]
  },
  {
   "cell_type": "code",
   "execution_count": 213,
   "metadata": {},
   "outputs": [],
   "source": [
    "yrs.sort_values(by=0,ignore_index=True, inplace=True)"
   ]
  },
  {
   "cell_type": "code",
   "execution_count": 226,
   "metadata": {
    "scrolled": false
   },
   "outputs": [
    {
     "data": {
      "application/vnd.plotly.v1+json": {
       "config": {
        "plotlyServerURL": "https://plot.ly"
       },
       "data": [
        {
         "hovertemplate": "variable=Diseases of heart<br>Years=%{x}<br>value=%{y}<extra></extra>",
         "legendgroup": "Diseases of heart",
         "line": {
          "color": "#636efa",
          "dash": "solid"
         },
         "mode": "lines",
         "name": "Diseases of heart",
         "orientation": "v",
         "showlegend": true,
         "type": "scatter",
         "x": [
          "2012",
          "2013",
          "2014",
          "2015",
          "2016",
          "2017"
         ],
         "xaxis": "x",
         "y": [
          170.5,
          169.8,
          167,
          168.5,
          165.5,
          165
         ],
         "yaxis": "y"
        },
        {
         "hovertemplate": "variable=Ischemic heart disease<br>Years=%{x}<br>value=%{y}<extra></extra>",
         "legendgroup": "Ischemic heart disease",
         "line": {
          "color": "#EF553B",
          "dash": "solid"
         },
         "mode": "lines",
         "name": "Ischemic heart disease",
         "orientation": "v",
         "showlegend": true,
         "type": "scatter",
         "x": [
          "2012",
          "2013",
          "2014",
          "2015",
          "2016",
          "2017"
         ],
         "xaxis": "x",
         "y": [
          105.4,
          102.6,
          98.8,
          97.2,
          94.3,
          92.9
         ],
         "yaxis": "y"
        },
        {
         "hovertemplate": "variable=Malignant neoplasms<br>Years=%{x}<br>value=%{y}<extra></extra>",
         "legendgroup": "Malignant neoplasms",
         "line": {
          "color": "#00cc96",
          "dash": "solid"
         },
         "mode": "lines",
         "name": "Malignant neoplasms",
         "orientation": "v",
         "showlegend": true,
         "type": "scatter",
         "x": [
          "2012",
          "2013",
          "2014",
          "2015",
          "2016",
          "2017"
         ],
         "xaxis": "x",
         "y": [
          166.5,
          163.2,
          161.2,
          158.5,
          155.8,
          152.5
         ],
         "yaxis": "y"
        },
        {
         "hovertemplate": "variable=Trachea, bronchus, and lung<br>Years=%{x}<br>value=%{y}<extra></extra>",
         "legendgroup": "Trachea, bronchus, and lung",
         "line": {
          "color": "#ab63fa",
          "dash": "solid"
         },
         "mode": "lines",
         "name": "Trachea, bronchus, and lung",
         "orientation": "v",
         "showlegend": true,
         "type": "scatter",
         "x": [
          "2012",
          "2013",
          "2014",
          "2015",
          "2016",
          "2017"
         ],
         "xaxis": "x",
         "y": [
          44.9,
          43.4,
          42.1,
          40.5,
          38.4,
          36.6
         ],
         "yaxis": "y"
        },
        {
         "hovertemplate": "variable=Colon, rectum, and anus<br>Years=%{x}<br>value=%{y}<extra></extra>",
         "legendgroup": "Colon, rectum, and anus",
         "line": {
          "color": "#FFA15A",
          "dash": "solid"
         },
         "mode": "lines",
         "name": "Colon, rectum, and anus",
         "orientation": "v",
         "showlegend": true,
         "type": "scatter",
         "x": [
          "2012",
          "2013",
          "2014",
          "2015",
          "2016",
          "2017"
         ],
         "xaxis": "x",
         "y": [
          14.9,
          14.6,
          14.3,
          14.2,
          13.9,
          13.7
         ],
         "yaxis": "y"
        },
        {
         "hovertemplate": "variable=Influenza and pneumonia<br>Years=%{x}<br>value=%{y}<extra></extra>",
         "legendgroup": "Influenza and pneumonia",
         "line": {
          "color": "#19d3f3",
          "dash": "solid"
         },
         "mode": "lines",
         "name": "Influenza and pneumonia",
         "orientation": "v",
         "showlegend": true,
         "type": "scatter",
         "x": [
          "2012",
          "2013",
          "2014",
          "2015",
          "2016",
          "2017"
         ],
         "xaxis": "x",
         "y": [
          14.4,
          15.9,
          15.1,
          15.2,
          13.5,
          14.3
         ],
         "yaxis": "y"
        },
        {
         "hovertemplate": "variable=Unintentional injuries<br>Years=%{x}<br>value=%{y}<extra></extra>",
         "legendgroup": "Unintentional injuries",
         "line": {
          "color": "#FF6692",
          "dash": "solid"
         },
         "mode": "lines",
         "name": "Unintentional injuries",
         "orientation": "v",
         "showlegend": true,
         "type": "scatter",
         "x": [
          "2012",
          "2013",
          "2014",
          "2015",
          "2016",
          "2017"
         ],
         "xaxis": "x",
         "y": [
          39.1,
          39.4,
          40.5,
          43.2,
          47.4,
          49.4
         ],
         "yaxis": "y"
        },
        {
         "hovertemplate": "variable=Motor vehicle-related injuries<br>Years=%{x}<br>value=%{y}<extra></extra>",
         "legendgroup": "Motor vehicle-related injuries",
         "line": {
          "color": "#B6E880",
          "dash": "solid"
         },
         "mode": "lines",
         "name": "Motor vehicle-related injuries",
         "orientation": "v",
         "showlegend": true,
         "type": "scatter",
         "x": [
          "2012",
          "2013",
          "2014",
          "2015",
          "2016",
          "2017"
         ],
         "xaxis": "x",
         "y": [
          11.4,
          10.9,
          10.8,
          11.4,
          12.1,
          12
         ],
         "yaxis": "y"
        },
        {
         "hovertemplate": "variable=Poisoning<br>Years=%{x}<br>value=%{y}<extra></extra>",
         "legendgroup": "Poisoning",
         "line": {
          "color": "#FF97FF",
          "dash": "solid"
         },
         "mode": "lines",
         "name": "Poisoning",
         "orientation": "v",
         "showlegend": true,
         "type": "scatter",
         "x": [
          "2012",
          "2013",
          "2014",
          "2015",
          "2016",
          "2017"
         ],
         "xaxis": "x",
         "y": [
          11.5,
          12.2,
          13.1,
          14.8,
          18.2,
          20.1
         ],
         "yaxis": "y"
        },
        {
         "hovertemplate": "variable=Suicide<br>Years=%{x}<br>value=%{y}<extra></extra>",
         "legendgroup": "Suicide",
         "line": {
          "color": "#FECB52",
          "dash": "solid"
         },
         "mode": "lines",
         "name": "Suicide",
         "orientation": "v",
         "showlegend": true,
         "type": "scatter",
         "x": [
          "2012",
          "2013",
          "2014",
          "2015",
          "2016",
          "2017"
         ],
         "xaxis": "x",
         "y": [
          12.6,
          12.6,
          13,
          13.3,
          13.5,
          14
         ],
         "yaxis": "y"
        }
       ],
       "layout": {
        "legend": {
         "title": {
          "text": "variable"
         },
         "tracegroupgap": 0
        },
        "margin": {
         "t": 60
        },
        "template": {
         "data": {
          "bar": [
           {
            "error_x": {
             "color": "#2a3f5f"
            },
            "error_y": {
             "color": "#2a3f5f"
            },
            "marker": {
             "line": {
              "color": "#E5ECF6",
              "width": 0.5
             }
            },
            "type": "bar"
           }
          ],
          "barpolar": [
           {
            "marker": {
             "line": {
              "color": "#E5ECF6",
              "width": 0.5
             }
            },
            "type": "barpolar"
           }
          ],
          "carpet": [
           {
            "aaxis": {
             "endlinecolor": "#2a3f5f",
             "gridcolor": "white",
             "linecolor": "white",
             "minorgridcolor": "white",
             "startlinecolor": "#2a3f5f"
            },
            "baxis": {
             "endlinecolor": "#2a3f5f",
             "gridcolor": "white",
             "linecolor": "white",
             "minorgridcolor": "white",
             "startlinecolor": "#2a3f5f"
            },
            "type": "carpet"
           }
          ],
          "choropleth": [
           {
            "colorbar": {
             "outlinewidth": 0,
             "ticks": ""
            },
            "type": "choropleth"
           }
          ],
          "contour": [
           {
            "colorbar": {
             "outlinewidth": 0,
             "ticks": ""
            },
            "colorscale": [
             [
              0,
              "#0d0887"
             ],
             [
              0.1111111111111111,
              "#46039f"
             ],
             [
              0.2222222222222222,
              "#7201a8"
             ],
             [
              0.3333333333333333,
              "#9c179e"
             ],
             [
              0.4444444444444444,
              "#bd3786"
             ],
             [
              0.5555555555555556,
              "#d8576b"
             ],
             [
              0.6666666666666666,
              "#ed7953"
             ],
             [
              0.7777777777777778,
              "#fb9f3a"
             ],
             [
              0.8888888888888888,
              "#fdca26"
             ],
             [
              1,
              "#f0f921"
             ]
            ],
            "type": "contour"
           }
          ],
          "contourcarpet": [
           {
            "colorbar": {
             "outlinewidth": 0,
             "ticks": ""
            },
            "type": "contourcarpet"
           }
          ],
          "heatmap": [
           {
            "colorbar": {
             "outlinewidth": 0,
             "ticks": ""
            },
            "colorscale": [
             [
              0,
              "#0d0887"
             ],
             [
              0.1111111111111111,
              "#46039f"
             ],
             [
              0.2222222222222222,
              "#7201a8"
             ],
             [
              0.3333333333333333,
              "#9c179e"
             ],
             [
              0.4444444444444444,
              "#bd3786"
             ],
             [
              0.5555555555555556,
              "#d8576b"
             ],
             [
              0.6666666666666666,
              "#ed7953"
             ],
             [
              0.7777777777777778,
              "#fb9f3a"
             ],
             [
              0.8888888888888888,
              "#fdca26"
             ],
             [
              1,
              "#f0f921"
             ]
            ],
            "type": "heatmap"
           }
          ],
          "heatmapgl": [
           {
            "colorbar": {
             "outlinewidth": 0,
             "ticks": ""
            },
            "colorscale": [
             [
              0,
              "#0d0887"
             ],
             [
              0.1111111111111111,
              "#46039f"
             ],
             [
              0.2222222222222222,
              "#7201a8"
             ],
             [
              0.3333333333333333,
              "#9c179e"
             ],
             [
              0.4444444444444444,
              "#bd3786"
             ],
             [
              0.5555555555555556,
              "#d8576b"
             ],
             [
              0.6666666666666666,
              "#ed7953"
             ],
             [
              0.7777777777777778,
              "#fb9f3a"
             ],
             [
              0.8888888888888888,
              "#fdca26"
             ],
             [
              1,
              "#f0f921"
             ]
            ],
            "type": "heatmapgl"
           }
          ],
          "histogram": [
           {
            "marker": {
             "colorbar": {
              "outlinewidth": 0,
              "ticks": ""
             }
            },
            "type": "histogram"
           }
          ],
          "histogram2d": [
           {
            "colorbar": {
             "outlinewidth": 0,
             "ticks": ""
            },
            "colorscale": [
             [
              0,
              "#0d0887"
             ],
             [
              0.1111111111111111,
              "#46039f"
             ],
             [
              0.2222222222222222,
              "#7201a8"
             ],
             [
              0.3333333333333333,
              "#9c179e"
             ],
             [
              0.4444444444444444,
              "#bd3786"
             ],
             [
              0.5555555555555556,
              "#d8576b"
             ],
             [
              0.6666666666666666,
              "#ed7953"
             ],
             [
              0.7777777777777778,
              "#fb9f3a"
             ],
             [
              0.8888888888888888,
              "#fdca26"
             ],
             [
              1,
              "#f0f921"
             ]
            ],
            "type": "histogram2d"
           }
          ],
          "histogram2dcontour": [
           {
            "colorbar": {
             "outlinewidth": 0,
             "ticks": ""
            },
            "colorscale": [
             [
              0,
              "#0d0887"
             ],
             [
              0.1111111111111111,
              "#46039f"
             ],
             [
              0.2222222222222222,
              "#7201a8"
             ],
             [
              0.3333333333333333,
              "#9c179e"
             ],
             [
              0.4444444444444444,
              "#bd3786"
             ],
             [
              0.5555555555555556,
              "#d8576b"
             ],
             [
              0.6666666666666666,
              "#ed7953"
             ],
             [
              0.7777777777777778,
              "#fb9f3a"
             ],
             [
              0.8888888888888888,
              "#fdca26"
             ],
             [
              1,
              "#f0f921"
             ]
            ],
            "type": "histogram2dcontour"
           }
          ],
          "mesh3d": [
           {
            "colorbar": {
             "outlinewidth": 0,
             "ticks": ""
            },
            "type": "mesh3d"
           }
          ],
          "parcoords": [
           {
            "line": {
             "colorbar": {
              "outlinewidth": 0,
              "ticks": ""
             }
            },
            "type": "parcoords"
           }
          ],
          "pie": [
           {
            "automargin": true,
            "type": "pie"
           }
          ],
          "scatter": [
           {
            "marker": {
             "colorbar": {
              "outlinewidth": 0,
              "ticks": ""
             }
            },
            "type": "scatter"
           }
          ],
          "scatter3d": [
           {
            "line": {
             "colorbar": {
              "outlinewidth": 0,
              "ticks": ""
             }
            },
            "marker": {
             "colorbar": {
              "outlinewidth": 0,
              "ticks": ""
             }
            },
            "type": "scatter3d"
           }
          ],
          "scattercarpet": [
           {
            "marker": {
             "colorbar": {
              "outlinewidth": 0,
              "ticks": ""
             }
            },
            "type": "scattercarpet"
           }
          ],
          "scattergeo": [
           {
            "marker": {
             "colorbar": {
              "outlinewidth": 0,
              "ticks": ""
             }
            },
            "type": "scattergeo"
           }
          ],
          "scattergl": [
           {
            "marker": {
             "colorbar": {
              "outlinewidth": 0,
              "ticks": ""
             }
            },
            "type": "scattergl"
           }
          ],
          "scattermapbox": [
           {
            "marker": {
             "colorbar": {
              "outlinewidth": 0,
              "ticks": ""
             }
            },
            "type": "scattermapbox"
           }
          ],
          "scatterpolar": [
           {
            "marker": {
             "colorbar": {
              "outlinewidth": 0,
              "ticks": ""
             }
            },
            "type": "scatterpolar"
           }
          ],
          "scatterpolargl": [
           {
            "marker": {
             "colorbar": {
              "outlinewidth": 0,
              "ticks": ""
             }
            },
            "type": "scatterpolargl"
           }
          ],
          "scatterternary": [
           {
            "marker": {
             "colorbar": {
              "outlinewidth": 0,
              "ticks": ""
             }
            },
            "type": "scatterternary"
           }
          ],
          "surface": [
           {
            "colorbar": {
             "outlinewidth": 0,
             "ticks": ""
            },
            "colorscale": [
             [
              0,
              "#0d0887"
             ],
             [
              0.1111111111111111,
              "#46039f"
             ],
             [
              0.2222222222222222,
              "#7201a8"
             ],
             [
              0.3333333333333333,
              "#9c179e"
             ],
             [
              0.4444444444444444,
              "#bd3786"
             ],
             [
              0.5555555555555556,
              "#d8576b"
             ],
             [
              0.6666666666666666,
              "#ed7953"
             ],
             [
              0.7777777777777778,
              "#fb9f3a"
             ],
             [
              0.8888888888888888,
              "#fdca26"
             ],
             [
              1,
              "#f0f921"
             ]
            ],
            "type": "surface"
           }
          ],
          "table": [
           {
            "cells": {
             "fill": {
              "color": "#EBF0F8"
             },
             "line": {
              "color": "white"
             }
            },
            "header": {
             "fill": {
              "color": "#C8D4E3"
             },
             "line": {
              "color": "white"
             }
            },
            "type": "table"
           }
          ]
         },
         "layout": {
          "annotationdefaults": {
           "arrowcolor": "#2a3f5f",
           "arrowhead": 0,
           "arrowwidth": 1
          },
          "coloraxis": {
           "colorbar": {
            "outlinewidth": 0,
            "ticks": ""
           }
          },
          "colorscale": {
           "diverging": [
            [
             0,
             "#8e0152"
            ],
            [
             0.1,
             "#c51b7d"
            ],
            [
             0.2,
             "#de77ae"
            ],
            [
             0.3,
             "#f1b6da"
            ],
            [
             0.4,
             "#fde0ef"
            ],
            [
             0.5,
             "#f7f7f7"
            ],
            [
             0.6,
             "#e6f5d0"
            ],
            [
             0.7,
             "#b8e186"
            ],
            [
             0.8,
             "#7fbc41"
            ],
            [
             0.9,
             "#4d9221"
            ],
            [
             1,
             "#276419"
            ]
           ],
           "sequential": [
            [
             0,
             "#0d0887"
            ],
            [
             0.1111111111111111,
             "#46039f"
            ],
            [
             0.2222222222222222,
             "#7201a8"
            ],
            [
             0.3333333333333333,
             "#9c179e"
            ],
            [
             0.4444444444444444,
             "#bd3786"
            ],
            [
             0.5555555555555556,
             "#d8576b"
            ],
            [
             0.6666666666666666,
             "#ed7953"
            ],
            [
             0.7777777777777778,
             "#fb9f3a"
            ],
            [
             0.8888888888888888,
             "#fdca26"
            ],
            [
             1,
             "#f0f921"
            ]
           ],
           "sequentialminus": [
            [
             0,
             "#0d0887"
            ],
            [
             0.1111111111111111,
             "#46039f"
            ],
            [
             0.2222222222222222,
             "#7201a8"
            ],
            [
             0.3333333333333333,
             "#9c179e"
            ],
            [
             0.4444444444444444,
             "#bd3786"
            ],
            [
             0.5555555555555556,
             "#d8576b"
            ],
            [
             0.6666666666666666,
             "#ed7953"
            ],
            [
             0.7777777777777778,
             "#fb9f3a"
            ],
            [
             0.8888888888888888,
             "#fdca26"
            ],
            [
             1,
             "#f0f921"
            ]
           ]
          },
          "colorway": [
           "#636efa",
           "#EF553B",
           "#00cc96",
           "#ab63fa",
           "#FFA15A",
           "#19d3f3",
           "#FF6692",
           "#B6E880",
           "#FF97FF",
           "#FECB52"
          ],
          "font": {
           "color": "#2a3f5f"
          },
          "geo": {
           "bgcolor": "white",
           "lakecolor": "white",
           "landcolor": "#E5ECF6",
           "showlakes": true,
           "showland": true,
           "subunitcolor": "white"
          },
          "hoverlabel": {
           "align": "left"
          },
          "hovermode": "closest",
          "mapbox": {
           "style": "light"
          },
          "paper_bgcolor": "white",
          "plot_bgcolor": "#E5ECF6",
          "polar": {
           "angularaxis": {
            "gridcolor": "white",
            "linecolor": "white",
            "ticks": ""
           },
           "bgcolor": "#E5ECF6",
           "radialaxis": {
            "gridcolor": "white",
            "linecolor": "white",
            "ticks": ""
           }
          },
          "scene": {
           "xaxis": {
            "backgroundcolor": "#E5ECF6",
            "gridcolor": "white",
            "gridwidth": 2,
            "linecolor": "white",
            "showbackground": true,
            "ticks": "",
            "zerolinecolor": "white"
           },
           "yaxis": {
            "backgroundcolor": "#E5ECF6",
            "gridcolor": "white",
            "gridwidth": 2,
            "linecolor": "white",
            "showbackground": true,
            "ticks": "",
            "zerolinecolor": "white"
           },
           "zaxis": {
            "backgroundcolor": "#E5ECF6",
            "gridcolor": "white",
            "gridwidth": 2,
            "linecolor": "white",
            "showbackground": true,
            "ticks": "",
            "zerolinecolor": "white"
           }
          },
          "shapedefaults": {
           "line": {
            "color": "#2a3f5f"
           }
          },
          "ternary": {
           "aaxis": {
            "gridcolor": "white",
            "linecolor": "white",
            "ticks": ""
           },
           "baxis": {
            "gridcolor": "white",
            "linecolor": "white",
            "ticks": ""
           },
           "bgcolor": "#E5ECF6",
           "caxis": {
            "gridcolor": "white",
            "linecolor": "white",
            "ticks": ""
           }
          },
          "title": {
           "x": 0.05
          },
          "xaxis": {
           "automargin": true,
           "gridcolor": "white",
           "linecolor": "white",
           "ticks": "",
           "title": {
            "standoff": 15
           },
           "zerolinecolor": "white",
           "zerolinewidth": 2
          },
          "yaxis": {
           "automargin": true,
           "gridcolor": "white",
           "linecolor": "white",
           "ticks": "",
           "title": {
            "standoff": 15
           },
           "zerolinecolor": "white",
           "zerolinewidth": 2
          }
         }
        },
        "xaxis": {
         "anchor": "y",
         "domain": [
          0,
          1
         ],
         "title": {
          "text": "Years"
         }
        },
        "yaxis": {
         "anchor": "x",
         "domain": [
          0,
          1
         ],
         "title": {
          "text": "value"
         }
        }
       }
      },
      "text/html": [
       "<div>\n",
       "        \n",
       "        \n",
       "            <div id=\"67508d81-b963-460e-8aa4-0817a42d925a\" class=\"plotly-graph-div\" style=\"height:525px; width:100%;\"></div>\n",
       "            <script type=\"text/javascript\">\n",
       "                require([\"plotly\"], function(Plotly) {\n",
       "                    window.PLOTLYENV=window.PLOTLYENV || {};\n",
       "                    \n",
       "                if (document.getElementById(\"67508d81-b963-460e-8aa4-0817a42d925a\")) {\n",
       "                    Plotly.newPlot(\n",
       "                        '67508d81-b963-460e-8aa4-0817a42d925a',\n",
       "                        [{\"hovertemplate\": \"variable=Diseases of heart<br>Years=%{x}<br>value=%{y}<extra></extra>\", \"legendgroup\": \"Diseases of heart\", \"line\": {\"color\": \"#636efa\", \"dash\": \"solid\"}, \"mode\": \"lines\", \"name\": \"Diseases of heart\", \"orientation\": \"v\", \"showlegend\": true, \"type\": \"scatter\", \"x\": [\"2012\", \"2013\", \"2014\", \"2015\", \"2016\", \"2017\"], \"xaxis\": \"x\", \"y\": [170.5, 169.8, 167.0, 168.5, 165.5, 165.0], \"yaxis\": \"y\"}, {\"hovertemplate\": \"variable=Ischemic heart disease<br>Years=%{x}<br>value=%{y}<extra></extra>\", \"legendgroup\": \"Ischemic heart disease\", \"line\": {\"color\": \"#EF553B\", \"dash\": \"solid\"}, \"mode\": \"lines\", \"name\": \"Ischemic heart disease\", \"orientation\": \"v\", \"showlegend\": true, \"type\": \"scatter\", \"x\": [\"2012\", \"2013\", \"2014\", \"2015\", \"2016\", \"2017\"], \"xaxis\": \"x\", \"y\": [105.4, 102.6, 98.8, 97.2, 94.3, 92.9], \"yaxis\": \"y\"}, {\"hovertemplate\": \"variable=Malignant neoplasms<br>Years=%{x}<br>value=%{y}<extra></extra>\", \"legendgroup\": \"Malignant neoplasms\", \"line\": {\"color\": \"#00cc96\", \"dash\": \"solid\"}, \"mode\": \"lines\", \"name\": \"Malignant neoplasms\", \"orientation\": \"v\", \"showlegend\": true, \"type\": \"scatter\", \"x\": [\"2012\", \"2013\", \"2014\", \"2015\", \"2016\", \"2017\"], \"xaxis\": \"x\", \"y\": [166.5, 163.2, 161.2, 158.5, 155.8, 152.5], \"yaxis\": \"y\"}, {\"hovertemplate\": \"variable=Trachea, bronchus, and lung<br>Years=%{x}<br>value=%{y}<extra></extra>\", \"legendgroup\": \"Trachea, bronchus, and lung\", \"line\": {\"color\": \"#ab63fa\", \"dash\": \"solid\"}, \"mode\": \"lines\", \"name\": \"Trachea, bronchus, and lung\", \"orientation\": \"v\", \"showlegend\": true, \"type\": \"scatter\", \"x\": [\"2012\", \"2013\", \"2014\", \"2015\", \"2016\", \"2017\"], \"xaxis\": \"x\", \"y\": [44.9, 43.4, 42.1, 40.5, 38.4, 36.6], \"yaxis\": \"y\"}, {\"hovertemplate\": \"variable=Colon, rectum, and anus<br>Years=%{x}<br>value=%{y}<extra></extra>\", \"legendgroup\": \"Colon, rectum, and anus\", \"line\": {\"color\": \"#FFA15A\", \"dash\": \"solid\"}, \"mode\": \"lines\", \"name\": \"Colon, rectum, and anus\", \"orientation\": \"v\", \"showlegend\": true, \"type\": \"scatter\", \"x\": [\"2012\", \"2013\", \"2014\", \"2015\", \"2016\", \"2017\"], \"xaxis\": \"x\", \"y\": [14.9, 14.6, 14.3, 14.2, 13.9, 13.7], \"yaxis\": \"y\"}, {\"hovertemplate\": \"variable=Influenza and pneumonia<br>Years=%{x}<br>value=%{y}<extra></extra>\", \"legendgroup\": \"Influenza and pneumonia\", \"line\": {\"color\": \"#19d3f3\", \"dash\": \"solid\"}, \"mode\": \"lines\", \"name\": \"Influenza and pneumonia\", \"orientation\": \"v\", \"showlegend\": true, \"type\": \"scatter\", \"x\": [\"2012\", \"2013\", \"2014\", \"2015\", \"2016\", \"2017\"], \"xaxis\": \"x\", \"y\": [14.4, 15.9, 15.1, 15.2, 13.5, 14.3], \"yaxis\": \"y\"}, {\"hovertemplate\": \"variable=Unintentional injuries<br>Years=%{x}<br>value=%{y}<extra></extra>\", \"legendgroup\": \"Unintentional injuries\", \"line\": {\"color\": \"#FF6692\", \"dash\": \"solid\"}, \"mode\": \"lines\", \"name\": \"Unintentional injuries\", \"orientation\": \"v\", \"showlegend\": true, \"type\": \"scatter\", \"x\": [\"2012\", \"2013\", \"2014\", \"2015\", \"2016\", \"2017\"], \"xaxis\": \"x\", \"y\": [39.1, 39.4, 40.5, 43.2, 47.4, 49.4], \"yaxis\": \"y\"}, {\"hovertemplate\": \"variable=Motor vehicle-related injuries<br>Years=%{x}<br>value=%{y}<extra></extra>\", \"legendgroup\": \"Motor vehicle-related injuries\", \"line\": {\"color\": \"#B6E880\", \"dash\": \"solid\"}, \"mode\": \"lines\", \"name\": \"Motor vehicle-related injuries\", \"orientation\": \"v\", \"showlegend\": true, \"type\": \"scatter\", \"x\": [\"2012\", \"2013\", \"2014\", \"2015\", \"2016\", \"2017\"], \"xaxis\": \"x\", \"y\": [11.4, 10.9, 10.8, 11.4, 12.1, 12.0], \"yaxis\": \"y\"}, {\"hovertemplate\": \"variable=Poisoning<br>Years=%{x}<br>value=%{y}<extra></extra>\", \"legendgroup\": \"Poisoning\", \"line\": {\"color\": \"#FF97FF\", \"dash\": \"solid\"}, \"mode\": \"lines\", \"name\": \"Poisoning\", \"orientation\": \"v\", \"showlegend\": true, \"type\": \"scatter\", \"x\": [\"2012\", \"2013\", \"2014\", \"2015\", \"2016\", \"2017\"], \"xaxis\": \"x\", \"y\": [11.5, 12.2, 13.1, 14.8, 18.2, 20.1], \"yaxis\": \"y\"}, {\"hovertemplate\": \"variable=Suicide<br>Years=%{x}<br>value=%{y}<extra></extra>\", \"legendgroup\": \"Suicide\", \"line\": {\"color\": \"#FECB52\", \"dash\": \"solid\"}, \"mode\": \"lines\", \"name\": \"Suicide\", \"orientation\": \"v\", \"showlegend\": true, \"type\": \"scatter\", \"x\": [\"2012\", \"2013\", \"2014\", \"2015\", \"2016\", \"2017\"], \"xaxis\": \"x\", \"y\": [12.6, 12.6, 13.0, 13.3, 13.5, 14.0], \"yaxis\": \"y\"}],\n",
       "                        {\"legend\": {\"title\": {\"text\": \"variable\"}, \"tracegroupgap\": 0}, \"margin\": {\"t\": 60}, \"template\": {\"data\": {\"bar\": [{\"error_x\": {\"color\": \"#2a3f5f\"}, \"error_y\": {\"color\": \"#2a3f5f\"}, \"marker\": {\"line\": {\"color\": \"#E5ECF6\", \"width\": 0.5}}, \"type\": \"bar\"}], \"barpolar\": [{\"marker\": {\"line\": {\"color\": \"#E5ECF6\", \"width\": 0.5}}, \"type\": \"barpolar\"}], \"carpet\": [{\"aaxis\": {\"endlinecolor\": \"#2a3f5f\", \"gridcolor\": \"white\", \"linecolor\": \"white\", \"minorgridcolor\": \"white\", \"startlinecolor\": \"#2a3f5f\"}, \"baxis\": {\"endlinecolor\": \"#2a3f5f\", \"gridcolor\": \"white\", \"linecolor\": \"white\", \"minorgridcolor\": \"white\", \"startlinecolor\": \"#2a3f5f\"}, \"type\": \"carpet\"}], \"choropleth\": [{\"colorbar\": {\"outlinewidth\": 0, \"ticks\": \"\"}, \"type\": \"choropleth\"}], \"contour\": [{\"colorbar\": {\"outlinewidth\": 0, \"ticks\": \"\"}, \"colorscale\": [[0.0, \"#0d0887\"], [0.1111111111111111, \"#46039f\"], [0.2222222222222222, \"#7201a8\"], [0.3333333333333333, \"#9c179e\"], [0.4444444444444444, \"#bd3786\"], [0.5555555555555556, \"#d8576b\"], [0.6666666666666666, \"#ed7953\"], [0.7777777777777778, \"#fb9f3a\"], [0.8888888888888888, \"#fdca26\"], [1.0, \"#f0f921\"]], \"type\": \"contour\"}], \"contourcarpet\": [{\"colorbar\": {\"outlinewidth\": 0, \"ticks\": \"\"}, \"type\": \"contourcarpet\"}], \"heatmap\": [{\"colorbar\": {\"outlinewidth\": 0, \"ticks\": \"\"}, \"colorscale\": [[0.0, \"#0d0887\"], [0.1111111111111111, \"#46039f\"], [0.2222222222222222, \"#7201a8\"], [0.3333333333333333, \"#9c179e\"], [0.4444444444444444, \"#bd3786\"], [0.5555555555555556, \"#d8576b\"], [0.6666666666666666, \"#ed7953\"], [0.7777777777777778, \"#fb9f3a\"], [0.8888888888888888, \"#fdca26\"], [1.0, \"#f0f921\"]], \"type\": \"heatmap\"}], \"heatmapgl\": [{\"colorbar\": {\"outlinewidth\": 0, \"ticks\": \"\"}, \"colorscale\": [[0.0, \"#0d0887\"], [0.1111111111111111, \"#46039f\"], [0.2222222222222222, \"#7201a8\"], [0.3333333333333333, \"#9c179e\"], [0.4444444444444444, \"#bd3786\"], [0.5555555555555556, \"#d8576b\"], [0.6666666666666666, \"#ed7953\"], [0.7777777777777778, \"#fb9f3a\"], [0.8888888888888888, \"#fdca26\"], [1.0, \"#f0f921\"]], \"type\": \"heatmapgl\"}], \"histogram\": [{\"marker\": {\"colorbar\": {\"outlinewidth\": 0, \"ticks\": \"\"}}, \"type\": \"histogram\"}], \"histogram2d\": [{\"colorbar\": {\"outlinewidth\": 0, \"ticks\": \"\"}, \"colorscale\": [[0.0, \"#0d0887\"], [0.1111111111111111, \"#46039f\"], [0.2222222222222222, \"#7201a8\"], [0.3333333333333333, \"#9c179e\"], [0.4444444444444444, \"#bd3786\"], [0.5555555555555556, \"#d8576b\"], [0.6666666666666666, \"#ed7953\"], [0.7777777777777778, \"#fb9f3a\"], [0.8888888888888888, \"#fdca26\"], [1.0, \"#f0f921\"]], \"type\": \"histogram2d\"}], \"histogram2dcontour\": [{\"colorbar\": {\"outlinewidth\": 0, \"ticks\": \"\"}, \"colorscale\": [[0.0, \"#0d0887\"], [0.1111111111111111, \"#46039f\"], [0.2222222222222222, \"#7201a8\"], [0.3333333333333333, \"#9c179e\"], [0.4444444444444444, \"#bd3786\"], [0.5555555555555556, \"#d8576b\"], [0.6666666666666666, \"#ed7953\"], [0.7777777777777778, \"#fb9f3a\"], [0.8888888888888888, \"#fdca26\"], [1.0, \"#f0f921\"]], \"type\": \"histogram2dcontour\"}], \"mesh3d\": [{\"colorbar\": {\"outlinewidth\": 0, \"ticks\": \"\"}, \"type\": \"mesh3d\"}], \"parcoords\": [{\"line\": {\"colorbar\": {\"outlinewidth\": 0, \"ticks\": \"\"}}, \"type\": \"parcoords\"}], \"pie\": [{\"automargin\": true, \"type\": \"pie\"}], \"scatter\": [{\"marker\": {\"colorbar\": {\"outlinewidth\": 0, \"ticks\": \"\"}}, \"type\": \"scatter\"}], \"scatter3d\": [{\"line\": {\"colorbar\": {\"outlinewidth\": 0, \"ticks\": \"\"}}, \"marker\": {\"colorbar\": {\"outlinewidth\": 0, \"ticks\": \"\"}}, \"type\": \"scatter3d\"}], \"scattercarpet\": [{\"marker\": {\"colorbar\": {\"outlinewidth\": 0, \"ticks\": \"\"}}, \"type\": \"scattercarpet\"}], \"scattergeo\": [{\"marker\": {\"colorbar\": {\"outlinewidth\": 0, \"ticks\": \"\"}}, \"type\": \"scattergeo\"}], \"scattergl\": [{\"marker\": {\"colorbar\": {\"outlinewidth\": 0, \"ticks\": \"\"}}, \"type\": \"scattergl\"}], \"scattermapbox\": [{\"marker\": {\"colorbar\": {\"outlinewidth\": 0, \"ticks\": \"\"}}, \"type\": \"scattermapbox\"}], \"scatterpolar\": [{\"marker\": {\"colorbar\": {\"outlinewidth\": 0, \"ticks\": \"\"}}, \"type\": \"scatterpolar\"}], \"scatterpolargl\": [{\"marker\": {\"colorbar\": {\"outlinewidth\": 0, \"ticks\": \"\"}}, \"type\": \"scatterpolargl\"}], \"scatterternary\": [{\"marker\": {\"colorbar\": {\"outlinewidth\": 0, \"ticks\": \"\"}}, \"type\": \"scatterternary\"}], \"surface\": [{\"colorbar\": {\"outlinewidth\": 0, \"ticks\": \"\"}, \"colorscale\": [[0.0, \"#0d0887\"], [0.1111111111111111, \"#46039f\"], [0.2222222222222222, \"#7201a8\"], [0.3333333333333333, \"#9c179e\"], [0.4444444444444444, \"#bd3786\"], [0.5555555555555556, \"#d8576b\"], [0.6666666666666666, \"#ed7953\"], [0.7777777777777778, \"#fb9f3a\"], [0.8888888888888888, \"#fdca26\"], [1.0, \"#f0f921\"]], \"type\": \"surface\"}], \"table\": [{\"cells\": {\"fill\": {\"color\": \"#EBF0F8\"}, \"line\": {\"color\": \"white\"}}, \"header\": {\"fill\": {\"color\": \"#C8D4E3\"}, \"line\": {\"color\": \"white\"}}, \"type\": \"table\"}]}, \"layout\": {\"annotationdefaults\": {\"arrowcolor\": \"#2a3f5f\", \"arrowhead\": 0, \"arrowwidth\": 1}, \"coloraxis\": {\"colorbar\": {\"outlinewidth\": 0, \"ticks\": \"\"}}, \"colorscale\": {\"diverging\": [[0, \"#8e0152\"], [0.1, \"#c51b7d\"], [0.2, \"#de77ae\"], [0.3, \"#f1b6da\"], [0.4, \"#fde0ef\"], [0.5, \"#f7f7f7\"], [0.6, \"#e6f5d0\"], [0.7, \"#b8e186\"], [0.8, \"#7fbc41\"], [0.9, \"#4d9221\"], [1, \"#276419\"]], \"sequential\": [[0.0, \"#0d0887\"], [0.1111111111111111, \"#46039f\"], [0.2222222222222222, \"#7201a8\"], [0.3333333333333333, \"#9c179e\"], [0.4444444444444444, \"#bd3786\"], [0.5555555555555556, \"#d8576b\"], [0.6666666666666666, \"#ed7953\"], [0.7777777777777778, \"#fb9f3a\"], [0.8888888888888888, \"#fdca26\"], [1.0, \"#f0f921\"]], \"sequentialminus\": [[0.0, \"#0d0887\"], [0.1111111111111111, \"#46039f\"], [0.2222222222222222, \"#7201a8\"], [0.3333333333333333, \"#9c179e\"], [0.4444444444444444, \"#bd3786\"], [0.5555555555555556, \"#d8576b\"], [0.6666666666666666, \"#ed7953\"], [0.7777777777777778, \"#fb9f3a\"], [0.8888888888888888, \"#fdca26\"], [1.0, \"#f0f921\"]]}, \"colorway\": [\"#636efa\", \"#EF553B\", \"#00cc96\", \"#ab63fa\", \"#FFA15A\", \"#19d3f3\", \"#FF6692\", \"#B6E880\", \"#FF97FF\", \"#FECB52\"], \"font\": {\"color\": \"#2a3f5f\"}, \"geo\": {\"bgcolor\": \"white\", \"lakecolor\": \"white\", \"landcolor\": \"#E5ECF6\", \"showlakes\": true, \"showland\": true, \"subunitcolor\": \"white\"}, \"hoverlabel\": {\"align\": \"left\"}, \"hovermode\": \"closest\", \"mapbox\": {\"style\": \"light\"}, \"paper_bgcolor\": \"white\", \"plot_bgcolor\": \"#E5ECF6\", \"polar\": {\"angularaxis\": {\"gridcolor\": \"white\", \"linecolor\": \"white\", \"ticks\": \"\"}, \"bgcolor\": \"#E5ECF6\", \"radialaxis\": {\"gridcolor\": \"white\", \"linecolor\": \"white\", \"ticks\": \"\"}}, \"scene\": {\"xaxis\": {\"backgroundcolor\": \"#E5ECF6\", \"gridcolor\": \"white\", \"gridwidth\": 2, \"linecolor\": \"white\", \"showbackground\": true, \"ticks\": \"\", \"zerolinecolor\": \"white\"}, \"yaxis\": {\"backgroundcolor\": \"#E5ECF6\", \"gridcolor\": \"white\", \"gridwidth\": 2, \"linecolor\": \"white\", \"showbackground\": true, \"ticks\": \"\", \"zerolinecolor\": \"white\"}, \"zaxis\": {\"backgroundcolor\": \"#E5ECF6\", \"gridcolor\": \"white\", \"gridwidth\": 2, \"linecolor\": \"white\", \"showbackground\": true, \"ticks\": \"\", \"zerolinecolor\": \"white\"}}, \"shapedefaults\": {\"line\": {\"color\": \"#2a3f5f\"}}, \"ternary\": {\"aaxis\": {\"gridcolor\": \"white\", \"linecolor\": \"white\", \"ticks\": \"\"}, \"baxis\": {\"gridcolor\": \"white\", \"linecolor\": \"white\", \"ticks\": \"\"}, \"bgcolor\": \"#E5ECF6\", \"caxis\": {\"gridcolor\": \"white\", \"linecolor\": \"white\", \"ticks\": \"\"}}, \"title\": {\"x\": 0.05}, \"xaxis\": {\"automargin\": true, \"gridcolor\": \"white\", \"linecolor\": \"white\", \"ticks\": \"\", \"title\": {\"standoff\": 15}, \"zerolinecolor\": \"white\", \"zerolinewidth\": 2}, \"yaxis\": {\"automargin\": true, \"gridcolor\": \"white\", \"linecolor\": \"white\", \"ticks\": \"\", \"title\": {\"standoff\": 15}, \"zerolinecolor\": \"white\", \"zerolinewidth\": 2}}}, \"xaxis\": {\"anchor\": \"y\", \"domain\": [0.0, 1.0], \"title\": {\"text\": \"Years\"}}, \"yaxis\": {\"anchor\": \"x\", \"domain\": [0.0, 1.0], \"title\": {\"text\": \"value\"}}},\n",
       "                        {\"responsive\": true}\n",
       "                    ).then(function(){\n",
       "                            \n",
       "var gd = document.getElementById('67508d81-b963-460e-8aa4-0817a42d925a');\n",
       "var x = new MutationObserver(function (mutations, observer) {{\n",
       "        var display = window.getComputedStyle(gd).display;\n",
       "        if (!display || display === 'none') {{\n",
       "            console.log([gd, 'removed!']);\n",
       "            Plotly.purge(gd);\n",
       "            observer.disconnect();\n",
       "        }}\n",
       "}});\n",
       "\n",
       "// Listen for the removal of the full notebook cells\n",
       "var notebookContainer = gd.closest('#notebook-container');\n",
       "if (notebookContainer) {{\n",
       "    x.observe(notebookContainer, {childList: true});\n",
       "}}\n",
       "\n",
       "// Listen for the clearing of the current output cell\n",
       "var outputEl = gd.closest('.output');\n",
       "if (outputEl) {{\n",
       "    x.observe(outputEl, {childList: true});\n",
       "}}\n",
       "\n",
       "                        })\n",
       "                };\n",
       "                });\n",
       "            </script>\n",
       "        </div>"
      ]
     },
     "metadata": {},
     "output_type": "display_data"
    }
   ],
   "source": [
    "import plotly.express as px\n",
    "\n",
    "df = healthDf\n",
    "healthLine = px.line(df, x='Years', y=cause)\n",
    "healthLine.show()"
   ]
  },
  {
   "cell_type": "code",
   "execution_count": null,
   "metadata": {},
   "outputs": [],
   "source": []
  }
 ],
 "metadata": {
  "kernelspec": {
   "display_name": "Python 3",
   "language": "python",
   "name": "python3"
  },
  "language_info": {
   "codemirror_mode": {
    "name": "ipython",
    "version": 3
   },
   "file_extension": ".py",
   "mimetype": "text/x-python",
   "name": "python",
   "nbconvert_exporter": "python",
   "pygments_lexer": "ipython3",
   "version": "3.7.6"
  },
  "toc": {
   "base_numbering": 1,
   "nav_menu": {
    "height": "475.233px",
    "width": "465.233px"
   },
   "number_sections": true,
   "sideBar": true,
   "skip_h1_title": true,
   "title_cell": "Table of Contents",
   "title_sidebar": "Contents",
   "toc_cell": true,
   "toc_position": {
    "height": "616.767px",
    "left": "958.133px",
    "top": "109.733px",
    "width": "165px"
   },
   "toc_section_display": true,
   "toc_window_display": true
  }
 },
 "nbformat": 4,
 "nbformat_minor": 4
}
