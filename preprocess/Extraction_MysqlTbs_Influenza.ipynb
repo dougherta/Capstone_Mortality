{
 "cells": [
  {
   "cell_type": "code",
   "execution_count": 4,
   "metadata": {},
   "outputs": [],
   "source": [
    "# Essentials\n",
    "import pandas as pd\n",
    "pd.set_option('display.max_columns', 100)\n",
    "import csv\n",
    "import numpy as np\n",
    "import os\n",
    "\n",
    "# Plots\n",
    "import matplotlib.pyplot as plt\n",
    "%matplotlib inline\n",
    "import seaborn as sns\n",
    "\n",
    "# Stats\n",
    "from scipy import stats\n",
    "from scipy.stats import skew"
   ]
  },
  {
   "cell_type": "markdown",
   "metadata": {},
   "source": [
    "# Connection string to MySQL db"
   ]
  },
  {
   "cell_type": "code",
   "execution_count": 10,
   "metadata": {},
   "outputs": [
    {
     "name": "stdout",
     "output_type": "stream",
     "text": [
      "Connection ID:  3041\n",
      "Wall time: 254 ms\n"
     ]
    }
   ],
   "source": [
    "%%time\n",
    "import mysql.connector\n",
    "conn = mysql.connector.connect(option_files='Downloads/Data/aws_mort_conn.conf')\n",
    "print(\"Connection ID: \",conn.connection_id)\n"
   ]
  },
  {
   "cell_type": "markdown",
   "metadata": {},
   "source": [
    "## Count of rows in tables tables (2018 - 2012 ) with and without filter conditions for influenza related mortalities "
   ]
  },
  {
   "cell_type": "code",
   "execution_count": null,
   "metadata": {},
   "outputs": [],
   "source": [
    "\n",
    "--2008\n",
    "SELECT count(1) FROM cdcmortality.mortality_2018; #2839206 rows\n",
    "\n",
    "\n",
    "SELECT \n",
    "    COUNT(*)\n",
    "FROM\n",
    "    cdcmortality.mortality_2018\n",
    "WHERE\n",
    "    cause_recode_358 BETWEEN 253 AND 257; # 59120\n",
    "    \n",
    "\n",
    "-- 2017\n",
    "SELECT count(1) FROM cdcmortality.mortality_2017; #2813504 rows\n",
    "\n",
    "--2017 getting influenza related rows\n",
    "select count(* ) from cdcmortality.mortality_2017\n",
    "where  cause_recode_358 BETWEEN 253 AND 257; #55672\n",
    "\n",
    "# -- 2016\n",
    "# SELECT count(1) FROM cdcmortality.mortality_2016; #2744248  rows\n",
    "\n",
    "# --2016 getting influenza related rows\n",
    "select \n",
    "      count(* ) \n",
    "from \n",
    "     cdcmortality.mortality_2016\n",
    "where  \n",
    "      cause_recode_358 BETWEEN 253 AND 257; #51537\n",
    "\n",
    "# --2015  \n",
    "SELECT count(1) FROM cdcmortality.mortality_2015; # 2712630 rows\n",
    "#--2015 getting influenza related rows\n",
    "select count(* ) from cdcmortality.mortality_2015\n",
    "where  cause_recode_358 BETWEEN 253 AND 257; # 57062\n",
    "\n",
    "-- 2014\n",
    "SELECT count(1) FROM cdcmortality.mortality_2014; # 2626419 rows\n",
    "#--2014 getting influenza related rows\n",
    "select count(* ) from cdcmortality.mortality_2014\n",
    "where  cause_recode_358 BETWEEN 253 AND 257; #55227\n",
    "\n",
    "# -- 2013\n",
    "SELECT count(1) FROM cdcmortality.mortality_2013; # 2596994  rows\n",
    "#--2013 getting influenza related rows\n",
    "select count(* ) from cdcmortality.mortality_2013\n",
    "where  cause_recode_358 BETWEEN 253 AND 257; #56979\n",
    "\n",
    "# -- 2012\n",
    "SELECT count(1) FROM cdcmortality.mortality_2012; #  2543280 rows\n",
    "#--2012 getting influenza related rows\n",
    "select count(* ) from cdcmortality.mortality_2012\n",
    "where  cause_recode_358 BETWEEN 253 AND 257;   # 50636\n",
    "\n",
    " \n",
    "\n",
    "\n"
   ]
  },
  {
   "cell_type": "markdown",
   "metadata": {},
   "source": [
    "# Summary table gives count of mortalities by ages for all years.  Will be used to compare the count of influenza related mortalities against  total moratalities"
   ]
  },
  {
   "cell_type": "code",
   "execution_count": 6,
   "metadata": {},
   "outputs": [],
   "source": [
    "## Count of mortalities by year for all conditions\n",
    "# for 2018 \n",
    "AgeAll2018aws = pd.read_sql_query(\"select year_id,cause_recode_358,age_recode_52,age_recode_27,age_recode_12,count(age_recode_52) as age_recode_52_cnt, count(age_recode_27) as age_recode_27_cnt,count(age_recode_12) as age_recode_12_cnt FROM cdcmortality.mortality_2018 group by cause_recode_358 order by age_recode_52_cnt,age_recode_27_cnt ,age_recode_12_cnt ;\", conn) #    \n",
    "         \n",
    "AgeAll2018aws.to_csv('Downloads/Data/AgeAll2018aws.csv', index = False)\n",
    "\n",
    "#for 2017\n",
    "AgeAll2017aws = pd.read_sql_query(\"select year_id,cause_recode_358,age_recode_52,age_recode_27,age_recode_12,count(age_recode_52) as age_recode_52_cnt, count(age_recode_27) as age_recode_27_cnt,count(age_recode_12) as age_recode_12_cnt FROM cdcmortality.mortality_2017 group by cause_recode_358 order by age_recode_52_cnt,age_recode_27_cnt ,age_recode_12_cnt ;\", conn) #    \n",
    "         \n",
    "AgeAll2017aws.to_csv('Downloads/Data/AgeAll2017aws.csv', index = False)\n",
    "\n",
    "#for 2016\n",
    "AgeAll2016aws = pd.read_sql_query(\"select year_id,cause_recode_358,age_recode_52,age_recode_27,age_recode_12,count(age_recode_52) as age_recode_52_cnt, count(age_recode_27) as age_recode_27_cnt,count(age_recode_12) as age_recode_12_cnt FROM cdcmortality.mortality_2016 group by cause_recode_358 order by age_recode_52_cnt,age_recode_27_cnt ,age_recode_12_cnt ;\", conn) #    \n",
    "         \n",
    "AgeAll2016aws.to_csv('Downloads/Data/AgeAll2016aws.csv', index = False)\n",
    "\n",
    "# for 2015\n",
    "AgeAll2015aws = pd.read_sql_query(\"select year_id,cause_recode_358,age_recode_52,age_recode_27,age_recode_12,count(age_recode_52) as age_recode_52_cnt, count(age_recode_27) as age_recode_27_cnt,count(age_recode_12) as age_recode_12_cnt FROM cdcmortality.mortality_2015 group by cause_recode_358 order by age_recode_52_cnt,age_recode_27_cnt ,age_recode_12_cnt \", conn) #    \n",
    "         \n",
    "AgeAll2015aws.to_csv('Downloads/Data/AgeAll2015aws.csv', index = False)\n",
    "\n",
    "# for 2014\n",
    "AgeAll2014aws = pd.read_sql_query(\"select year_id,cause_recode_358,age_recode_52,age_recode_27,age_recode_12,count(age_recode_52) as age_recode_52_cnt, count(age_recode_27) as age_recode_27_cnt,count(age_recode_12) as age_recode_12_cnt FROM cdcmortality.mortality_2014 group by cause_recode_358 order by age_recode_52_cnt,age_recode_27_cnt ,age_recode_12_cnt ; \", conn) #    \n",
    "         \n",
    "AgeAll2014aws.to_csv('Downloads/Data/AgeAll2014aws.csv', index = False)\n",
    "\n",
    "# for 2013\n",
    "AgeAll2013aws = pd.read_sql_query(\"select year_id,cause_recode_358,age_recode_52,age_recode_27,age_recode_12,count(age_recode_52) as age_recode_52_cnt, count(age_recode_27) as age_recode_27_cnt,count(age_recode_12) as age_recode_12_cnt FROM cdcmortality.mortality_2013 group by cause_recode_358 order by age_recode_52_cnt,age_recode_27_cnt ,age_recode_12_cnt ;\", conn) #    \n",
    "         \n",
    "AgeAll2013aws.to_csv('Downloads/Data/AgeAll2013aws.csv', index = False)\n",
    "\n",
    "# for 2012\n",
    "AgeAll2012aws = pd.read_sql_query(\"select year_id,cause_recode_358,age_recode_52,age_recode_27,age_recode_12,count(age_recode_52) as age_recode_52_cnt, count(age_recode_27) as age_recode_27_cnt,count(age_recode_12) as age_recode_12_cnt FROM cdcmortality.mortality_2012 group by cause_recode_358 order by age_recode_52_cnt,age_recode_27_cnt ,age_recode_12_cnt ; \", conn) #    \n",
    "         \n",
    "AgeAll2012aws.to_csv('Downloads/Data/AgeAll2012aws.csv', index = False)\n",
    "\n"
   ]
  },
  {
   "cell_type": "markdown",
   "metadata": {},
   "source": [
    "# Extracting records for cause_recode_358 BETWEEN 253 AND 257 from 2012-2018"
   ]
  },
  {
   "cell_type": "code",
   "execution_count": 11,
   "metadata": {},
   "outputs": [
    {
     "name": "stdout",
     "output_type": "stream",
     "text": [
      "Wall time: 4min 12s\n"
     ]
    }
   ],
   "source": [
    "%%time\n",
    "# host = cdcmortdb.cbd1ivxdzkbb.us-east-1.rds.amazonaws.com\n",
    "# port = 3306\n",
    "# user = mortalityMaster\n",
    "# password = mortality1234\n",
    "# db = cdcmortality\n",
    "m2018aws = pd.read_sql_query(\"SELECT * FROM mortality_2018 WHERE cause_recode_358 BETWEEN 253 AND 257;\", conn) # 59120\n",
    "m2018aws.to_csv('Downloads/Data/InflzaMrtlity2018.csv', index = False)\n",
    "\n",
    "#2017\n",
    "m2017aws = pd.read_sql_query(\"SELECT * FROM mortality_2017 WHERE cause_recode_358 BETWEEN 253 AND 257;\", conn) #55672 \n",
    "m2017aws.to_csv('Downloads/Data/InflzaMrtlity2017.csv', index = False) \n",
    "\n",
    "#2016\n",
    "m2016aws = pd.read_sql_query(\"SELECT * FROM mortality_2016 WHERE cause_recode_358 BETWEEN 253 AND 257;\", conn) #51537\n",
    "m2016aws.to_csv('Downloads/Data/InflzaMrtlity2016.csv', index = False)\n",
    "\n",
    "#2015\n",
    "m2015aws = pd.read_sql_query(\"SELECT * FROM mortality_2015 WHERE cause_recode_358 BETWEEN 253 AND 257;\", conn) # 57062\n",
    "m2015aws.to_csv('Downloads/Data/InflzaMrtlity2015.csv', index = False)\n",
    "\n",
    "#2014\n",
    "m2014aws = pd.read_sql_query(\"SELECT * FROM mortality_2014 WHERE cause_recode_358 BETWEEN 253 AND 257;\", conn) #55227  \n",
    "m2014aws.to_csv('Downloads/Data/InflzaMrtlity2014.csv', index = False)\n",
    "\n",
    "#2013\n",
    "m2013aws = pd.read_sql_query(\"SELECT * FROM mortality_2013 WHERE cause_recode_358 BETWEEN 253 AND 257;\", conn) #56979 \n",
    "m2013aws.to_csv('Downloads/Data/InflzaMrtlity2013.csv', index = False)\n",
    "\n",
    "#2012\n",
    "m2012aws = pd.read_sql_query(\"SELECT * FROM mortality_2012 WHERE cause_recode_358 BETWEEN 253 AND 257;\", conn) # 50636\n",
    "m2012aws.to_csv('Downloads/Data/InflzaMrtlity2012.csv', index = False)\n",
    "\n",
    "\n",
    "\n",
    "# m2018aws.to_csv(r'Downloads\\Data\\mort_2018.csv\\InflzaMrtlity2018.csv', index = False)\n",
    "# m2018_cnt= pd.read_sql_query(\"SELECT count(1) FROM mortality_2018\", conn)\n",
    "\n",
    "\n",
    "\n",
    "# m2018aws = pd.read_sql_query(\"SELECT * FROM mortality_2018 WHERE RAND() <0.25\", conn)\n",
    "# m2017aws = pd.read_sql_query(\"SELECT * FROM mortality_2017 WHERE RAND() <0.25\", conn)\n",
    "conn.close()"
   ]
  },
  {
   "cell_type": "markdown",
   "metadata": {},
   "source": [
    "# Creating/Padding  lookup tables for code_recode_358 and age related codes"
   ]
  },
  {
   "cell_type": "code",
   "execution_count": 16,
   "metadata": {},
   "outputs": [
    {
     "name": "stdout",
     "output_type": "stream",
     "text": [
      "   cause_recode_358 cause_recode_358_desc\n",
      "0               253             Influenza\n",
      "1               254             Pneumonia\n",
      "2               255         Vrl pneumonia\n",
      "3               256       Bctrl pneumonia\n",
      "4               257       Pneumonia Unspc\n"
     ]
    }
   ],
   "source": [
    "# mapping descriptions to the cause_recode_358\n",
    " \n",
    "acc_desc = {'cause_recode_358_desc': ['Influenza','Pneumonia','Vrl pneumonia','Bctrl pneumonia','Pneumonia Unspc'],\n",
    "        'cause_recode_358': [253,254,255,256,257]\n",
    "        }\n",
    "\n",
    "acc_desc_df = pd.DataFrame(acc_desc, columns = ['cause_recode_358', 'cause_recode_358_desc'])\n",
    "\n",
    "acc_desc_df.to_csv('C:/Users/19082/Downloads/Data/Lookup/cause_recode_358_LKP.csv', index = False)\n",
    "\n",
    "print (acc_desc_df)\n",
    "\n",
    "#Importing age related looksups\n",
    "age_27=pd.read_excel('Downloads/Data/Lookup/age_27_rev_LKP.xlsx')\n",
    "age_27['age_recode_27'] = age_27['age_recode_27'].astype(str)\n",
    "age_27['age_recode_27'] = age_27['age_recode_27'].str.zfill(2)\n",
    "######################################################################\n",
    "age_12=pd.read_excel('Downloads/Data/Lookup/age_12_rev_LKP.xlsx')\n",
    "#COnverting int to obj type followed  by str type and padding\n",
    "age_12['age_recode_12'] = age_12['age_recode_12'].astype(str)\n",
    "age_12['age_recode_12'] = age_12['age_recode_12'].str.zfill(2)\n",
    "######################################################################\n",
    "age_52=pd.read_excel('Downloads/Data/Lookup/age_52_rev_LKP.xlsx')\n",
    "#COnverting int to obj type followed  by str type and padding\n",
    "age_52['age_recode_52'] = age_52['age_recode_52'].astype(str)\n",
    "age_52['age_recode_52'] = age_52['age_recode_52'].str.zfill(2)\n",
    "######################################################################\n",
    "Rpt_Age_tmpstmp=pd.read_excel('Downloads/Data/Lookup/Rpt_Age_tmpstmp.xlsx')\n",
    "\n"
   ]
  },
  {
   "cell_type": "code",
   "execution_count": null,
   "metadata": {},
   "outputs": [],
   "source": []
  }
 ],
 "metadata": {
  "kernelspec": {
   "display_name": "Python 3",
   "language": "python",
   "name": "python3"
  },
  "language_info": {
   "codemirror_mode": {
    "name": "ipython",
    "version": 3
   },
   "file_extension": ".py",
   "mimetype": "text/x-python",
   "name": "python",
   "nbconvert_exporter": "python",
   "pygments_lexer": "ipython3",
   "version": "3.7.6"
  }
 },
 "nbformat": 4,
 "nbformat_minor": 4
}
